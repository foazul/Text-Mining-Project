{
 "cells": [
  {
   "cell_type": "markdown",
   "id": "6d57c85e",
   "metadata": {},
   "source": [
    "## 1.Import Libraries "
   ]
  },
  {
   "cell_type": "code",
   "execution_count": 1,
   "id": "fe0e26c0",
   "metadata": {},
   "outputs": [],
   "source": [
    "import pandas as pd\n",
    "import numpy as np\n",
    "import seaborn as sns\n",
    "import matplotlib.pyplot as plt\n",
    "#import neattext.functions as nfx\n",
    "import warnings\n",
    "# Load ML Pkgs\n",
    "# Estimators\n",
    "warnings.filterwarnings(\"ignore\")\n",
    "from sklearn.linear_model import LogisticRegression\n",
    "from sklearn.naive_bayes import MultinomialNB\n",
    "from sklearn.pipeline import Pipeline\n",
    "from sklearn.svm import SVC\n",
    "from sklearn.svm import LinearSVC\n",
    "from sklearn.ensemble import RandomForestClassifier\n",
    "from sklearn.tree import DecisionTreeClassifier\n",
    "from sklearn.feature_extraction import DictVectorizer\n",
    "# Transformers\n",
    "from sklearn.feature_extraction.text import CountVectorizer\n",
    "from sklearn.model_selection import train_test_split\n",
    "from sklearn.metrics import accuracy_score,classification_report,confusion_matrix\n",
    "\n",
    "\n",
    "%matplotlib inline"
   ]
  },
  {
   "cell_type": "code",
   "execution_count": 2,
   "id": "4422bfb6",
   "metadata": {},
   "outputs": [],
   "source": [
    "from sklearn.feature_extraction.text import TfidfVectorizer\n",
    "from sklearn.feature_selection import chi2\n",
    "from IPython.display import display\n",
    "from sklearn.model_selection import train_test_split\n",
    "from sklearn.feature_extraction.text import TfidfTransformer\n",
    "from sklearn.naive_bayes import MultinomialNB\n",
    "from sklearn.linear_model import LogisticRegression\n",
    "from sklearn.ensemble import RandomForestClassifier\n",
    "from sklearn.svm import LinearSVC\n",
    "from sklearn.model_selection import cross_val_score\n",
    "from sklearn.metrics import confusion_matrix\n",
    "from sklearn import metrics"
   ]
  },
  {
   "cell_type": "markdown",
   "id": "37b65d67",
   "metadata": {},
   "source": [
    "## 2.Load Dataset"
   ]
  },
  {
   "cell_type": "code",
   "execution_count": 3,
   "id": "9c705c56",
   "metadata": {},
   "outputs": [],
   "source": [
    "train = pd.read_table(\"training_set.txt\")\n",
    "dev = pd.read_table(\"dev_set.txt\")\n",
    "#test = pd.read_table(\"test_set.txt\")"
   ]
  },
  {
   "cell_type": "code",
   "execution_count": 4,
   "id": "aba6174c",
   "metadata": {},
   "outputs": [
    {
     "data": {
      "text/html": [
       "<div>\n",
       "<style scoped>\n",
       "    .dataframe tbody tr th:only-of-type {\n",
       "        vertical-align: middle;\n",
       "    }\n",
       "\n",
       "    .dataframe tbody tr th {\n",
       "        vertical-align: top;\n",
       "    }\n",
       "\n",
       "    .dataframe thead th {\n",
       "        text-align: right;\n",
       "    }\n",
       "</style>\n",
       "<table border=\"1\" class=\"dataframe\">\n",
       "  <thead>\n",
       "    <tr style=\"text-align: right;\">\n",
       "      <th></th>\n",
       "      <th>sentence</th>\n",
       "      <th>emotion</th>\n",
       "    </tr>\n",
       "  </thead>\n",
       "  <tbody>\n",
       "    <tr>\n",
       "      <th>0</th>\n",
       "      <td>I'm too old to be traded in .</td>\n",
       "      <td>6</td>\n",
       "    </tr>\n",
       "    <tr>\n",
       "      <th>1</th>\n",
       "      <td>Mother said you could always tell a lady by he...</td>\n",
       "      <td>8</td>\n",
       "    </tr>\n",
       "    <tr>\n",
       "      <th>2</th>\n",
       "      <td>I always said I'd leave off when the time came .</td>\n",
       "      <td>6</td>\n",
       "    </tr>\n",
       "    <tr>\n",
       "      <th>3</th>\n",
       "      <td>He'll be safe with me .</td>\n",
       "      <td>2</td>\n",
       "    </tr>\n",
       "    <tr>\n",
       "      <th>4</th>\n",
       "      <td>Lay off .</td>\n",
       "      <td>1</td>\n",
       "    </tr>\n",
       "  </tbody>\n",
       "</table>\n",
       "</div>"
      ],
      "text/plain": [
       "                                            sentence  emotion\n",
       "0                      I'm too old to be traded in .        6\n",
       "1  Mother said you could always tell a lady by he...        8\n",
       "2   I always said I'd leave off when the time came .        6\n",
       "3                            He'll be safe with me .        2\n",
       "4                                          Lay off .        1"
      ]
     },
     "execution_count": 4,
     "metadata": {},
     "output_type": "execute_result"
    }
   ],
   "source": [
    "train.head(5)"
   ]
  },
  {
   "cell_type": "code",
   "execution_count": 5,
   "id": "a45bd7f7",
   "metadata": {},
   "outputs": [
    {
     "data": {
      "text/plain": [
       "(14000, 2)"
      ]
     },
     "execution_count": 5,
     "metadata": {},
     "output_type": "execute_result"
    }
   ],
   "source": [
    "train.shape"
   ]
  },
  {
   "cell_type": "code",
   "execution_count": 6,
   "id": "cf6b862c",
   "metadata": {},
   "outputs": [
    {
     "data": {
      "text/plain": [
       "sentence    object\n",
       "emotion      int64\n",
       "dtype: object"
      ]
     },
     "execution_count": 6,
     "metadata": {},
     "output_type": "execute_result"
    }
   ],
   "source": [
    "train.dtypes"
   ]
  },
  {
   "cell_type": "code",
   "execution_count": 7,
   "id": "462ae33e",
   "metadata": {},
   "outputs": [
    {
     "data": {
      "text/html": [
       "<div>\n",
       "<style scoped>\n",
       "    .dataframe tbody tr th:only-of-type {\n",
       "        vertical-align: middle;\n",
       "    }\n",
       "\n",
       "    .dataframe tbody tr th {\n",
       "        vertical-align: top;\n",
       "    }\n",
       "\n",
       "    .dataframe thead th {\n",
       "        text-align: right;\n",
       "    }\n",
       "</style>\n",
       "<table border=\"1\" class=\"dataframe\">\n",
       "  <thead>\n",
       "    <tr style=\"text-align: right;\">\n",
       "      <th></th>\n",
       "      <th>sentence</th>\n",
       "      <th>emotion</th>\n",
       "    </tr>\n",
       "  </thead>\n",
       "  <tbody>\n",
       "    <tr>\n",
       "      <th>0</th>\n",
       "      <td>What happens to the gold in our safe ?</td>\n",
       "      <td>4</td>\n",
       "    </tr>\n",
       "    <tr>\n",
       "      <th>1</th>\n",
       "      <td>Natural to get cold feet .</td>\n",
       "      <td>8</td>\n",
       "    </tr>\n",
       "    <tr>\n",
       "      <th>2</th>\n",
       "      <td>Not very lucky , is he ?</td>\n",
       "      <td>7</td>\n",
       "    </tr>\n",
       "    <tr>\n",
       "      <th>3</th>\n",
       "      <td>I'm just a little anxious to get up there and ...</td>\n",
       "      <td>2</td>\n",
       "    </tr>\n",
       "    <tr>\n",
       "      <th>4</th>\n",
       "      <td>Did you think we don't know about your affair ...</td>\n",
       "      <td>1</td>\n",
       "    </tr>\n",
       "  </tbody>\n",
       "</table>\n",
       "</div>"
      ],
      "text/plain": [
       "                                            sentence  emotion\n",
       "0             What happens to the gold in our safe ?        4\n",
       "1                         Natural to get cold feet .        8\n",
       "2                           Not very lucky , is he ?        7\n",
       "3  I'm just a little anxious to get up there and ...        2\n",
       "4  Did you think we don't know about your affair ...        1"
      ]
     },
     "execution_count": 7,
     "metadata": {},
     "output_type": "execute_result"
    }
   ],
   "source": [
    "dev.head()"
   ]
  },
  {
   "cell_type": "markdown",
   "id": "1429f6d8",
   "metadata": {},
   "source": [
    "## 3.Preprocessing The Dataset"
   ]
  },
  {
   "cell_type": "code",
   "execution_count": 9,
   "id": "08bd127c",
   "metadata": {},
   "outputs": [],
   "source": [
    "#emotion_Level= train[\"emotion\"]"
   ]
  },
  {
   "cell_type": "code",
   "execution_count": 10,
   "id": "f14d5cae",
   "metadata": {},
   "outputs": [],
   "source": [
    "'''def emotionLevel(emotionInt):\n",
    "\n",
    "    return {\n",
    "            1: 'Anger',\n",
    "            2: 'Anticipation',\n",
    "            3: 'Disgust',\n",
    "            4: 'Fear',\n",
    "            5: 'Joy',\n",
    "            6: 'Sadness',\n",
    "            7: 'Surprise',\n",
    "            8: 'Trust'\n",
    "    }[emotionInt]\n",
    "\n",
    "emotion_Level= emotion_Level.map(lambda x:emotionLevel(x))'''"
   ]
  },
  {
   "cell_type": "code",
   "execution_count": 11,
   "id": "d90c741b",
   "metadata": {},
   "outputs": [],
   "source": [
    "#train['Emotion Level'] = emotion_Level\n",
    "#train.drop('emotion',inplace=True, axis=1)"
   ]
  },
  {
   "cell_type": "code",
   "execution_count": 8,
   "id": "15bc1acc",
   "metadata": {},
   "outputs": [
    {
     "data": {
      "text/html": [
       "<div>\n",
       "<style scoped>\n",
       "    .dataframe tbody tr th:only-of-type {\n",
       "        vertical-align: middle;\n",
       "    }\n",
       "\n",
       "    .dataframe tbody tr th {\n",
       "        vertical-align: top;\n",
       "    }\n",
       "\n",
       "    .dataframe thead th {\n",
       "        text-align: right;\n",
       "    }\n",
       "</style>\n",
       "<table border=\"1\" class=\"dataframe\">\n",
       "  <thead>\n",
       "    <tr style=\"text-align: right;\">\n",
       "      <th></th>\n",
       "      <th>sentence</th>\n",
       "      <th>emotion</th>\n",
       "    </tr>\n",
       "  </thead>\n",
       "  <tbody>\n",
       "    <tr>\n",
       "      <th>0</th>\n",
       "      <td>I'm too old to be traded in .</td>\n",
       "      <td>6</td>\n",
       "    </tr>\n",
       "    <tr>\n",
       "      <th>1</th>\n",
       "      <td>Mother said you could always tell a lady by he...</td>\n",
       "      <td>8</td>\n",
       "    </tr>\n",
       "    <tr>\n",
       "      <th>2</th>\n",
       "      <td>I always said I'd leave off when the time came .</td>\n",
       "      <td>6</td>\n",
       "    </tr>\n",
       "    <tr>\n",
       "      <th>3</th>\n",
       "      <td>He'll be safe with me .</td>\n",
       "      <td>2</td>\n",
       "    </tr>\n",
       "    <tr>\n",
       "      <th>4</th>\n",
       "      <td>Lay off .</td>\n",
       "      <td>1</td>\n",
       "    </tr>\n",
       "    <tr>\n",
       "      <th>5</th>\n",
       "      <td>You tell him to take care of you .</td>\n",
       "      <td>8</td>\n",
       "    </tr>\n",
       "    <tr>\n",
       "      <th>6</th>\n",
       "      <td>I hope so .</td>\n",
       "      <td>4</td>\n",
       "    </tr>\n",
       "    <tr>\n",
       "      <th>7</th>\n",
       "      <td>Why do you want to shut me out in the cold lik...</td>\n",
       "      <td>6</td>\n",
       "    </tr>\n",
       "    <tr>\n",
       "      <th>8</th>\n",
       "      <td>You taught me a lesson , man .</td>\n",
       "      <td>8</td>\n",
       "    </tr>\n",
       "    <tr>\n",
       "      <th>9</th>\n",
       "      <td>I'll do everything I can to make a success of ...</td>\n",
       "      <td>2</td>\n",
       "    </tr>\n",
       "  </tbody>\n",
       "</table>\n",
       "</div>"
      ],
      "text/plain": [
       "                                            sentence  emotion\n",
       "0                      I'm too old to be traded in .        6\n",
       "1  Mother said you could always tell a lady by he...        8\n",
       "2   I always said I'd leave off when the time came .        6\n",
       "3                            He'll be safe with me .        2\n",
       "4                                          Lay off .        1\n",
       "5                 You tell him to take care of you .        8\n",
       "6                                        I hope so .        4\n",
       "7  Why do you want to shut me out in the cold lik...        6\n",
       "8                     You taught me a lesson , man .        8\n",
       "9  I'll do everything I can to make a success of ...        2"
      ]
     },
     "execution_count": 8,
     "metadata": {},
     "output_type": "execute_result"
    }
   ],
   "source": [
    "train.head(10)"
   ]
  },
  {
   "cell_type": "code",
   "execution_count": 9,
   "id": "712dd25b",
   "metadata": {},
   "outputs": [
    {
     "data": {
      "text/plain": [
       "sentence    0\n",
       "emotion     0\n",
       "dtype: int64"
      ]
     },
     "execution_count": 9,
     "metadata": {},
     "output_type": "execute_result"
    }
   ],
   "source": [
    "train.isnull().sum()"
   ]
  },
  {
   "cell_type": "code",
   "execution_count": 11,
   "id": "915dcc84",
   "metadata": {},
   "outputs": [],
   "source": [
    "#train['Emotion Level'].value_counts()"
   ]
  },
  {
   "cell_type": "code",
   "execution_count": 12,
   "id": "d1ec35d3",
   "metadata": {},
   "outputs": [
    {
     "data": {
      "text/plain": [
       "\"emotion_dev = dev['emotion']\\nemotion_dev = emotion_dev.map(lambda x:emotionLevel(x))\\ndev['Emotion Level'] = emotion_dev\\ndev.drop('emotion',inplace=True, axis=1)\""
      ]
     },
     "execution_count": 12,
     "metadata": {},
     "output_type": "execute_result"
    }
   ],
   "source": [
    "'''emotion_dev = dev['emotion']\n",
    "emotion_dev = emotion_dev.map(lambda x:emotionLevel(x))\n",
    "dev['Emotion Level'] = emotion_dev\n",
    "dev.drop('emotion',inplace=True, axis=1)'''"
   ]
  },
  {
   "cell_type": "code",
   "execution_count": 13,
   "id": "b2e73466",
   "metadata": {},
   "outputs": [
    {
     "data": {
      "text/html": [
       "<div>\n",
       "<style scoped>\n",
       "    .dataframe tbody tr th:only-of-type {\n",
       "        vertical-align: middle;\n",
       "    }\n",
       "\n",
       "    .dataframe tbody tr th {\n",
       "        vertical-align: top;\n",
       "    }\n",
       "\n",
       "    .dataframe thead th {\n",
       "        text-align: right;\n",
       "    }\n",
       "</style>\n",
       "<table border=\"1\" class=\"dataframe\">\n",
       "  <thead>\n",
       "    <tr style=\"text-align: right;\">\n",
       "      <th></th>\n",
       "      <th>sentence</th>\n",
       "      <th>emotion</th>\n",
       "    </tr>\n",
       "  </thead>\n",
       "  <tbody>\n",
       "    <tr>\n",
       "      <th>0</th>\n",
       "      <td>What happens to the gold in our safe ?</td>\n",
       "      <td>4</td>\n",
       "    </tr>\n",
       "    <tr>\n",
       "      <th>1</th>\n",
       "      <td>Natural to get cold feet .</td>\n",
       "      <td>8</td>\n",
       "    </tr>\n",
       "    <tr>\n",
       "      <th>2</th>\n",
       "      <td>Not very lucky , is he ?</td>\n",
       "      <td>7</td>\n",
       "    </tr>\n",
       "    <tr>\n",
       "      <th>3</th>\n",
       "      <td>I'm just a little anxious to get up there and ...</td>\n",
       "      <td>2</td>\n",
       "    </tr>\n",
       "    <tr>\n",
       "      <th>4</th>\n",
       "      <td>Did you think we don't know about your affair ...</td>\n",
       "      <td>1</td>\n",
       "    </tr>\n",
       "    <tr>\n",
       "      <th>5</th>\n",
       "      <td>Next time you try that , I'll forget that you'...</td>\n",
       "      <td>3</td>\n",
       "    </tr>\n",
       "    <tr>\n",
       "      <th>6</th>\n",
       "      <td>I said , [PERSON] , you're already married .</td>\n",
       "      <td>7</td>\n",
       "    </tr>\n",
       "    <tr>\n",
       "      <th>7</th>\n",
       "      <td>Maybe if I stuck him in a giant anthill , that...</td>\n",
       "      <td>1</td>\n",
       "    </tr>\n",
       "    <tr>\n",
       "      <th>8</th>\n",
       "      <td>[PERSON] , he's been stripped .</td>\n",
       "      <td>4</td>\n",
       "    </tr>\n",
       "    <tr>\n",
       "      <th>9</th>\n",
       "      <td>Happy may have hit on something tremendous here .</td>\n",
       "      <td>4</td>\n",
       "    </tr>\n",
       "  </tbody>\n",
       "</table>\n",
       "</div>"
      ],
      "text/plain": [
       "                                            sentence  emotion\n",
       "0             What happens to the gold in our safe ?        4\n",
       "1                         Natural to get cold feet .        8\n",
       "2                           Not very lucky , is he ?        7\n",
       "3  I'm just a little anxious to get up there and ...        2\n",
       "4  Did you think we don't know about your affair ...        1\n",
       "5  Next time you try that , I'll forget that you'...        3\n",
       "6       I said , [PERSON] , you're already married .        7\n",
       "7  Maybe if I stuck him in a giant anthill , that...        1\n",
       "8                    [PERSON] , he's been stripped .        4\n",
       "9  Happy may have hit on something tremendous here .        4"
      ]
     },
     "execution_count": 13,
     "metadata": {},
     "output_type": "execute_result"
    }
   ],
   "source": [
    "dev.head(10)"
   ]
  },
  {
   "cell_type": "code",
   "execution_count": 14,
   "id": "cc0973c5",
   "metadata": {},
   "outputs": [
    {
     "data": {
      "text/html": [
       "<div>\n",
       "<style scoped>\n",
       "    .dataframe tbody tr th:only-of-type {\n",
       "        vertical-align: middle;\n",
       "    }\n",
       "\n",
       "    .dataframe tbody tr th {\n",
       "        vertical-align: top;\n",
       "    }\n",
       "\n",
       "    .dataframe thead th {\n",
       "        text-align: right;\n",
       "    }\n",
       "</style>\n",
       "<table border=\"1\" class=\"dataframe\">\n",
       "  <thead>\n",
       "    <tr style=\"text-align: right;\">\n",
       "      <th></th>\n",
       "      <th>sentence</th>\n",
       "      <th>word_count</th>\n",
       "    </tr>\n",
       "  </thead>\n",
       "  <tbody>\n",
       "    <tr>\n",
       "      <th>0</th>\n",
       "      <td>I'm too old to be traded in .</td>\n",
       "      <td>8</td>\n",
       "    </tr>\n",
       "    <tr>\n",
       "      <th>1</th>\n",
       "      <td>Mother said you could always tell a lady by he...</td>\n",
       "      <td>12</td>\n",
       "    </tr>\n",
       "    <tr>\n",
       "      <th>2</th>\n",
       "      <td>I always said I'd leave off when the time came .</td>\n",
       "      <td>11</td>\n",
       "    </tr>\n",
       "    <tr>\n",
       "      <th>3</th>\n",
       "      <td>He'll be safe with me .</td>\n",
       "      <td>6</td>\n",
       "    </tr>\n",
       "    <tr>\n",
       "      <th>4</th>\n",
       "      <td>Lay off .</td>\n",
       "      <td>3</td>\n",
       "    </tr>\n",
       "  </tbody>\n",
       "</table>\n",
       "</div>"
      ],
      "text/plain": [
       "                                            sentence  word_count\n",
       "0                      I'm too old to be traded in .           8\n",
       "1  Mother said you could always tell a lady by he...          12\n",
       "2   I always said I'd leave off when the time came .          11\n",
       "3                            He'll be safe with me .           6\n",
       "4                                          Lay off .           3"
      ]
     },
     "execution_count": 14,
     "metadata": {},
     "output_type": "execute_result"
    }
   ],
   "source": [
    "# Fetch wordcount for each sentence\n",
    "train['word_count'] = train['sentence'].apply(lambda x: len(str(x).split(\" \")))\n",
    "train[['sentence','word_count']].head()"
   ]
  },
  {
   "cell_type": "code",
   "execution_count": 15,
   "id": "9fa87f2a",
   "metadata": {},
   "outputs": [
    {
     "data": {
      "text/plain": [
       "count    14000.000000\n",
       "mean         9.028571\n",
       "std          5.075546\n",
       "min          1.000000\n",
       "25%          6.000000\n",
       "50%          8.000000\n",
       "75%         11.000000\n",
       "max         63.000000\n",
       "Name: word_count, dtype: float64"
      ]
     },
     "execution_count": 15,
     "metadata": {},
     "output_type": "execute_result"
    }
   ],
   "source": [
    "train.word_count.describe()"
   ]
  },
  {
   "cell_type": "code",
   "execution_count": 16,
   "id": "1cbb981d",
   "metadata": {},
   "outputs": [],
   "source": [
    "all_words = ' '.join(train['sentence']).split()"
   ]
  },
  {
   "cell_type": "code",
   "execution_count": 17,
   "id": "c873cdaf",
   "metadata": {},
   "outputs": [],
   "source": [
    "# Count all words \n",
    "freq = pd.Series(all_words).value_counts()"
   ]
  },
  {
   "cell_type": "code",
   "execution_count": 18,
   "id": "dc63e838",
   "metadata": {},
   "outputs": [
    {
     "data": {
      "text/plain": [
       ".           10600\n",
       ",            5738\n",
       "you          3502\n",
       "I            3208\n",
       "to           2862\n",
       "the          2703\n",
       "?            2696\n",
       "a            2320\n",
       "!            1608\n",
       "[PERSON]     1386\n",
       "of           1358\n",
       "and          1266\n",
       "me           1195\n",
       "it           1193\n",
       "that         1156\n",
       "in           1083\n",
       "You           950\n",
       "is            902\n",
       "for           847\n",
       "be            761\n",
       "this          757\n",
       "I'm           738\n",
       "have          727\n",
       "your          690\n",
       "my            678\n",
       "dtype: int64"
      ]
     },
     "execution_count": 18,
     "metadata": {},
     "output_type": "execute_result"
    }
   ],
   "source": [
    "freq[:25]"
   ]
  },
  {
   "cell_type": "code",
   "execution_count": 19,
   "id": "54f8e569",
   "metadata": {},
   "outputs": [
    {
     "name": "stderr",
     "output_type": "stream",
     "text": [
      "[nltk_data] Downloading package stopwords to\n",
      "[nltk_data]     C:\\Users\\isha2\\AppData\\Roaming\\nltk_data...\n",
      "[nltk_data]   Package stopwords is already up-to-date!\n"
     ]
    },
    {
     "data": {
      "text/plain": [
       "True"
      ]
     },
     "execution_count": 19,
     "metadata": {},
     "output_type": "execute_result"
    }
   ],
   "source": [
    "import nltk\n",
    "nltk.download('stopwords')"
   ]
  },
  {
   "cell_type": "code",
   "execution_count": 20,
   "id": "b24c7c9d",
   "metadata": {},
   "outputs": [
    {
     "data": {
      "text/plain": [
       "21"
      ]
     },
     "execution_count": 20,
     "metadata": {},
     "output_type": "execute_result"
    }
   ],
   "source": [
    "from nltk.corpus import stopwords\n",
    "stopwords = set(stopwords.words(\"english\"))\n",
    "\n",
    "count = 0\n",
    "for word in freq.index[:30]:\n",
    "    if word in stopwords:\n",
    "        count += 1\n",
    "        \n",
    "count"
   ]
  },
  {
   "cell_type": "code",
   "execution_count": 21,
   "id": "3b27014e",
   "metadata": {},
   "outputs": [],
   "source": [
    "import re\n",
    "import nltk\n",
    "from nltk.corpus import stopwords\n",
    "from nltk.stem.wordnet import WordNetLemmatizer\n",
    "from bs4 import BeautifulSoup"
   ]
  },
  {
   "cell_type": "code",
   "execution_count": 22,
   "id": "99088747",
   "metadata": {},
   "outputs": [
    {
     "name": "stderr",
     "output_type": "stream",
     "text": [
      "[nltk_data] Downloading package wordnet to\n",
      "[nltk_data]     C:\\Users\\isha2\\AppData\\Roaming\\nltk_data...\n",
      "[nltk_data]   Package wordnet is already up-to-date!\n",
      "[nltk_data] Downloading package stopwords to\n",
      "[nltk_data]     C:\\Users\\isha2\\AppData\\Roaming\\nltk_data...\n",
      "[nltk_data]   Package stopwords is already up-to-date!\n"
     ]
    },
    {
     "data": {
      "text/plain": [
       "True"
      ]
     },
     "execution_count": 22,
     "metadata": {},
     "output_type": "execute_result"
    }
   ],
   "source": [
    "nltk.download('wordnet')\n",
    "nltk.download('stopwords')"
   ]
  },
  {
   "cell_type": "code",
   "execution_count": 23,
   "id": "a8279352",
   "metadata": {},
   "outputs": [],
   "source": [
    "from tqdm import tqdm_notebook as tqdm\n",
    "def preprocessing(dataframe):\n",
    "    \n",
    "    processed_corpus = []\n",
    "    stop_words = set(stopwords.words(\"english\"))\n",
    "    \n",
    "    for i in tqdm(range(len(dataframe))):\n",
    "        text = dataframe['sentence'].iloc[i]\n",
    "        \n",
    "        # Remove tags\n",
    "        text = BeautifulSoup(text).get_text()\n",
    "        \n",
    "        # Remove punctuations\n",
    "        text = re.sub('[^a-zA-Z]', ' ', text)\n",
    "\n",
    "        # Convert to lowercase\n",
    "        text = text.lower()        \n",
    "        \n",
    "        # Convert to list from string\n",
    "        text = text.split()\n",
    "\n",
    "        # Lemmatization\n",
    "        lem = WordNetLemmatizer()\n",
    "        text = [lem.lemmatize(word) for word in text if not word in stop_words] \n",
    "        text = \" \".join(text)\n",
    "        processed_corpus.append(text)\n",
    "        \n",
    "    return processed_corpus"
   ]
  },
  {
   "cell_type": "code",
   "execution_count": 24,
   "id": "721daaa8",
   "metadata": {},
   "outputs": [
    {
     "data": {
      "application/vnd.jupyter.widget-view+json": {
       "model_id": "055f16d3162d428f84aceaea4e03aac0",
       "version_major": 2,
       "version_minor": 0
      },
      "text/plain": [
       "  0%|          | 0/14000 [00:00<?, ?it/s]"
      ]
     },
     "metadata": {},
     "output_type": "display_data"
    }
   ],
   "source": [
    "cleaned_documents = preprocessing(train)"
   ]
  },
  {
   "cell_type": "code",
   "execution_count": null,
   "id": "d618f2f4",
   "metadata": {},
   "outputs": [],
   "source": []
  },
  {
   "cell_type": "code",
   "execution_count": 25,
   "id": "cd63c03f",
   "metadata": {},
   "outputs": [
    {
     "data": {
      "text/plain": [
       "['old traded',\n",
       " 'mother said could always tell lady hand',\n",
       " 'always said leave time came',\n",
       " 'safe',\n",
       " 'lay',\n",
       " 'tell take care',\n",
       " 'hope',\n",
       " 'want shut cold like',\n",
       " 'taught lesson man',\n",
       " 'everything make success',\n",
       " 'worth',\n",
       " 'hope never wake',\n",
       " 'alright work',\n",
       " 'flo parent sharing',\n",
       " 'look like drunk',\n",
       " 'primitive',\n",
       " 'hello never ever pick phone',\n",
       " 'person could word',\n",
       " 'resigning senior partnership day happened happened asking',\n",
       " 'ok',\n",
       " 'sit try waste time',\n",
       " 'find someone type',\n",
       " 'nice',\n",
       " 'time update program would like hear one',\n",
       " 'lost another man bastard think funny',\n",
       " 'hope know',\n",
       " 'like child',\n",
       " 'let see',\n",
       " 'tell happy',\n",
       " 'fine',\n",
       " 'good game tonight guy',\n",
       " 'terribly love',\n",
       " 'told thing protect child',\n",
       " 'even sure others existed',\n",
       " 'beginning realize maybe public know public relation',\n",
       " 'need',\n",
       " 'opera start hour later tonight account parade',\n",
       " 'listen buddy getting pretty easy',\n",
       " 'mr person wonderful teacher',\n",
       " 'think worry one',\n",
       " 'got yeah think',\n",
       " 'need rush hour rambos',\n",
       " 'afraid said thing person forgive early',\n",
       " 'harry got nice shop',\n",
       " 'bloody exit',\n",
       " 'oh god',\n",
       " 'people blamed filth river',\n",
       " 'next ferry',\n",
       " 'matter life death',\n",
       " 'pretty fancy wrestling kid',\n",
       " 'hard die',\n",
       " 'lost patient wan na go office',\n",
       " 'tell person coming home',\n",
       " 'may best man win',\n",
       " 'drinkin cold coffee',\n",
       " 'gonna hard',\n",
       " 'sentimental old people',\n",
       " 'right away fair',\n",
       " 'today captain ordered general drill safety crew',\n",
       " 'arrange conference u',\n",
       " 'much time',\n",
       " 'nail',\n",
       " 'ordinary vessel would suffered heavy damage',\n",
       " 'iove person',\n",
       " 'course gave big hunk money settlement nobody know much',\n",
       " 'hey come person',\n",
       " 'fighting',\n",
       " 'held accountable person action people',\n",
       " 'person go wherever going',\n",
       " 'think got potential',\n",
       " 'nice little game telephone',\n",
       " 'unavailable consultation',\n",
       " 'five year ago bingo',\n",
       " 'crawl dying mother fuck sister',\n",
       " 'city want',\n",
       " 'well waiting',\n",
       " 'remember',\n",
       " 'word',\n",
       " 'great thank',\n",
       " 'yeah tell way smell gonna great year cotton yeah',\n",
       " 'everything interpreted attempt enforce discipline',\n",
       " 'person got trust',\n",
       " 'knock',\n",
       " 'image pollute u',\n",
       " 'subject violently antisocial given delusion godhood hopelessly addicted narcotic',\n",
       " 'staying',\n",
       " 'nitrate phosphate ammunition seed war',\n",
       " 'let taste',\n",
       " 'well still want train robbery location',\n",
       " 'attacked',\n",
       " 'going',\n",
       " 'made special effort look like nurse',\n",
       " 'marriage arranged',\n",
       " 'location gay season',\n",
       " 'great',\n",
       " 'close deceased',\n",
       " 'yes appropriate',\n",
       " 'pray get chance',\n",
       " 'explain testimony stringent posting rule selling motorcycle selling year old',\n",
       " 'get cheap ticket person parent',\n",
       " 'matter',\n",
       " 'ah yes migraine majesty',\n",
       " 'fine',\n",
       " 'best died',\n",
       " 'hell going person',\n",
       " 'shall bid guest farewell',\n",
       " 'good party',\n",
       " 'worst would relief',\n",
       " 'sure much good talking',\n",
       " 'maybe person',\n",
       " 'last installment trouble',\n",
       " 'tried save girl kind queered mind',\n",
       " 'burn person',\n",
       " 'yeah call cop',\n",
       " 'waiting',\n",
       " 'fuck',\n",
       " 'away sick',\n",
       " 'knew everything person',\n",
       " 'like struggled blindly mean live',\n",
       " 'one feel safe living community reckless irresponsible neurotic wandering thoroughfare armed deadly weapon',\n",
       " 'steal little swordfish person lighten',\n",
       " 'want hot coffee huh',\n",
       " 'idle boasting assure',\n",
       " 'dreadful miscarriage',\n",
       " 'hysterical beating',\n",
       " 'gonna lot money town',\n",
       " 'without ring sacrifice without sacrifice congregation',\n",
       " 'described decade long conspiracy cover extraterrestrial visitation location',\n",
       " 'care',\n",
       " 'time',\n",
       " 'great rush',\n",
       " 'lie',\n",
       " 'found lost',\n",
       " 'said ghastly',\n",
       " 'look crowd',\n",
       " 'course',\n",
       " 'got',\n",
       " 'never',\n",
       " 'insist putting position least relish',\n",
       " 'like person see',\n",
       " 'going afraid see',\n",
       " '',\n",
       " 'think bullshit funny',\n",
       " 'okay right look everything fine',\n",
       " 'brother master',\n",
       " 'otherwise gonna fuck good',\n",
       " 'come get nice cold glass water',\n",
       " 'nothing mr person say mean shit person',\n",
       " 'asked hell person',\n",
       " 'must forgive',\n",
       " 'problem jerk',\n",
       " 'try help listen got grief work',\n",
       " 'want play game',\n",
       " 'war location',\n",
       " 'disembowel u',\n",
       " 'little music',\n",
       " 'get money',\n",
       " 'person hit ceiling throw',\n",
       " 'see tonight',\n",
       " 'terrible bad thing happen stand watch',\n",
       " 'old man kid',\n",
       " 'talk',\n",
       " 'make deal accept fact find way stop ok',\n",
       " 'get back please',\n",
       " 'travel wherever russian commission',\n",
       " 'sad right',\n",
       " 'mine',\n",
       " 'right next time hear taking away',\n",
       " 'quite alone assure',\n",
       " 'maybe better get inside ok',\n",
       " 'hang keep look kid',\n",
       " 'go',\n",
       " 'would buy bible',\n",
       " 'know',\n",
       " 'boy war toy',\n",
       " 'come way tell',\n",
       " 'know knew punk punk',\n",
       " 'recognise mr person',\n",
       " 'task force headed way',\n",
       " 'never liked',\n",
       " 'feel woman wronged cloak sin',\n",
       " 'oh wanted see advertising layout',\n",
       " 'hiding',\n",
       " 'panicked lied',\n",
       " 'awful',\n",
       " 'thought much honest smart',\n",
       " 'garden convent location beautiful statue',\n",
       " 'save trouble',\n",
       " 'tried kill told nately',\n",
       " 'believe',\n",
       " 'let settle person never going see hear',\n",
       " 'think ever forget running stupid clown',\n",
       " 'got get mess',\n",
       " 'going two',\n",
       " 'dear bow tie killer prison',\n",
       " 'ditch working',\n",
       " 'yes tell middle important phone call',\n",
       " 'wrong key',\n",
       " 'please stop telling run life couple minute',\n",
       " 'person could killed',\n",
       " 'anger angry',\n",
       " 'yet let person know drag opportunity',\n",
       " 'want go location',\n",
       " 'damn nightmare',\n",
       " 'accept person son',\n",
       " 'pretty place',\n",
       " 'see person certain advantage sick list',\n",
       " 'sooner get better gonna',\n",
       " 'leave u hell alone',\n",
       " 'sure report correct',\n",
       " 'said early going away better',\n",
       " 'oh',\n",
       " 'oh person',\n",
       " 'son bitch',\n",
       " 'glad u big casino',\n",
       " 'would love hang',\n",
       " 'tell king try forgive',\n",
       " 'hear said go away',\n",
       " 'yes right call later',\n",
       " 'let go',\n",
       " 'reject',\n",
       " 'otherwise never get location alive',\n",
       " 'coming get person',\n",
       " 'gentleman',\n",
       " 'save victim equal',\n",
       " 'shake bruv',\n",
       " 'worry',\n",
       " 'put as line nothing',\n",
       " 'person trunk special know',\n",
       " 'must wiped place clean',\n",
       " 'proud',\n",
       " 'oh',\n",
       " 'mind giving lift',\n",
       " 'poor boy',\n",
       " 'take care',\n",
       " 'speak later',\n",
       " 'well go',\n",
       " 'okay sorry right',\n",
       " 'thought supposed eat fish friday',\n",
       " 'ensign',\n",
       " 'summertime smell garbage',\n",
       " 'want tell something',\n",
       " 'going marry terenia',\n",
       " 'big town beg pardon',\n",
       " 'father make u truly humble thankful blessing',\n",
       " 'cousin neighbor kid always causing trouble together',\n",
       " 'wearing tonight',\n",
       " 'vendetta dragged long enough',\n",
       " 'son dork son dork',\n",
       " 'trying escape',\n",
       " 'sorry grandfather got get air',\n",
       " 'getting blackout drunk',\n",
       " 'afraid person might stolen suitcase',\n",
       " 'lucky chosen',\n",
       " 'goddamn tuck pyjama',\n",
       " 'seems try impossible',\n",
       " 'got beard man',\n",
       " 'got',\n",
       " 'appreciate letting come',\n",
       " 'admit god willing help',\n",
       " 'chance go',\n",
       " 'professional individual saying',\n",
       " 'acted strange',\n",
       " 'love god person',\n",
       " 'called vice president de facto something',\n",
       " 'telegram demanding yield floor',\n",
       " 'tired',\n",
       " 'men actually intercourse time see good psychiatrist',\n",
       " 'wonder could remind person promise might speak time',\n",
       " 'soon get near cattle pen take person drive town fast',\n",
       " 'seat belt tight',\n",
       " 'high one looking believe',\n",
       " 'home soon',\n",
       " 'know person',\n",
       " 'cover mouth',\n",
       " 'oh lovely',\n",
       " 'realize contacting saucer violated instruction',\n",
       " 'abundance various substance necessary sustain life',\n",
       " 'oughtta try might clear head',\n",
       " 'know tough',\n",
       " 'intend make full report activity camp',\n",
       " 'probably gonna crown u king queen costume ball',\n",
       " 'sell furniture',\n",
       " 'know person eh',\n",
       " 'real lady',\n",
       " 'cause got package see address',\n",
       " 'since nearing island person opportunity selecting food',\n",
       " 'whatever hatching forget end dead',\n",
       " 'point miracle happened great career asking',\n",
       " 'wet',\n",
       " 'sensational',\n",
       " 'must reply kindness someday',\n",
       " 'nothing ever happens',\n",
       " 'know got missile know got missile',\n",
       " 'aching mention',\n",
       " 'catch ya flip flop good buddy',\n",
       " 'making hundred k month cooking dealing crystal meth',\n",
       " 'thought kidding',\n",
       " 'see son getting allowance',\n",
       " 'small part producer said next picture bigger part',\n",
       " 'got ta love got ta',\n",
       " 'person bad news',\n",
       " 'could son yeah seedling',\n",
       " 'listening piece shit like person tex',\n",
       " 'drop charge person drop lawsuit',\n",
       " 'put u',\n",
       " 'call',\n",
       " 'hardly number pirate among acquaintance',\n",
       " 'burn away',\n",
       " 'think least people could say sorry something',\n",
       " 'person home front door unlocked',\n",
       " 'give u key',\n",
       " 'hurt like',\n",
       " 'taking day',\n",
       " 'signing article suddenly held',\n",
       " 'testifying',\n",
       " 'spider man died kind slow',\n",
       " 'one drink go',\n",
       " 'got like baby einstein show',\n",
       " 'hey put phone',\n",
       " 'try',\n",
       " 'change people top forget got',\n",
       " 'brilliant morning',\n",
       " 'ensign person called told trouble',\n",
       " 'chop person',\n",
       " 'go fucking hospital right',\n",
       " 'cop place',\n",
       " 'person',\n",
       " 'sure',\n",
       " 'way like em',\n",
       " 'word word one best lie ever told',\n",
       " 'still fbi custody',\n",
       " 'like',\n",
       " 'compliment capt person',\n",
       " 'little rush',\n",
       " 'officer disloyal',\n",
       " 'could one fucking good hunting trip tonight',\n",
       " 'got ta careful',\n",
       " 'ala brave would necessary',\n",
       " 'oh come brandy',\n",
       " 'would wear gown wore favourite beau',\n",
       " 'nice say',\n",
       " 'may call captain person',\n",
       " 'listen always returned favor person',\n",
       " 'win house',\n",
       " 'stand dripping lobby heel luggage say fault room',\n",
       " 'surprised many nice people dine',\n",
       " 'tired',\n",
       " 'person planted something office frame',\n",
       " 'say word',\n",
       " 'think could get tv',\n",
       " 'work something sweet offer',\n",
       " 'boom',\n",
       " 'said coming u',\n",
       " 'know',\n",
       " 'money pentagon auditor admit military account already spends',\n",
       " 'know',\n",
       " 'certainly surveillance capability follow mayor',\n",
       " 'going undercover buddy congratulation',\n",
       " 'maybe mean embarrassing badge',\n",
       " 'else tell',\n",
       " 'explosion location',\n",
       " 'like boy begin man sincere could stage fight like odds',\n",
       " 'well always take long walk sunshine',\n",
       " 'fuck figure got straighten little bit',\n",
       " 'word breechclouted savage',\n",
       " 'mean current acting president location',\n",
       " 'come',\n",
       " 'everybody trust fbi',\n",
       " 'person scared',\n",
       " 'woman go business',\n",
       " 'success depends',\n",
       " 'know remember',\n",
       " 'somebody must good humour',\n",
       " 'person',\n",
       " 'rolling ball second hand phrase migraine headache shirt tail tonight speech turned yellow dog like',\n",
       " 'want u end enemy',\n",
       " 'well give',\n",
       " 'woman safe contacted canadian authority minute',\n",
       " 'hope',\n",
       " 'jealousy',\n",
       " 'possibly sit still',\n",
       " 'congratulation',\n",
       " 'lacked experience made fight',\n",
       " 'come teaching science tv',\n",
       " 'force beg beggar',\n",
       " 'yes sure',\n",
       " 'see miss person shirt',\n",
       " 'goddamn boring',\n",
       " 'wanted apologize night wondering opportunity see today talk',\n",
       " 'got job',\n",
       " 'welcome turkey husband',\n",
       " 'ah getting closer happened',\n",
       " 'two ring purse',\n",
       " 'patience shit',\n",
       " 'maybe important case handle legal career',\n",
       " 'think person gonna buy',\n",
       " 'ok thinking thing',\n",
       " 'captain speaking',\n",
       " 'hungry food hungry anyway',\n",
       " 'really like singing',\n",
       " 'mean call',\n",
       " 'kill people kill people show killing wrong',\n",
       " 'well yesterday guy working department city planning',\n",
       " 'wanted buy something lovely exotic',\n",
       " 'mr person want know come know',\n",
       " 'want befriend',\n",
       " 'quiet nice girl',\n",
       " 'long catch cold',\n",
       " 'friendly place beer',\n",
       " 'playing game right',\n",
       " 'person never supposed talk',\n",
       " 'hurry student five minute pen pal',\n",
       " 'make sick heroic',\n",
       " 'go location get money',\n",
       " 'fail',\n",
       " 'accused selling',\n",
       " 'recycled jockstrap',\n",
       " 'caused enough trouble',\n",
       " 'friend know',\n",
       " 'look good',\n",
       " 'bye',\n",
       " 'hey person fantastic',\n",
       " 'could find tear',\n",
       " 'glad know person',\n",
       " 'goddamn sister tripped fell tub went help',\n",
       " 'one scream middle night stumble downstairs dark change soiled diaper',\n",
       " 'dopehead mother garbage blood',\n",
       " 'heard',\n",
       " 'chinese trade agreement going make location voter happy',\n",
       " 'easy son',\n",
       " 'yes son afraid',\n",
       " 'took liberty ordering everything know like',\n",
       " 'think beautiful',\n",
       " 'know',\n",
       " 'go village speak agent count real estate',\n",
       " 'contacted feel tell wonderful people founder really cool guy location know',\n",
       " 'really liked idea',\n",
       " 'reading',\n",
       " 'tried route gave',\n",
       " 'hi hi fuck',\n",
       " 'beautiful poetry simple thing like cat flower rain',\n",
       " 'clothes brought tomorrow tape cassette thing music quilt',\n",
       " 'got get get back',\n",
       " 'mere thought make mouth water',\n",
       " 'waiting',\n",
       " '',\n",
       " 'nice',\n",
       " 'oh god even barn',\n",
       " 'thinking as',\n",
       " 'work',\n",
       " 'people think beautiful dress beautiful woman',\n",
       " 'say l sure hope guilty laugh',\n",
       " 'hey',\n",
       " 'always',\n",
       " 'stay move',\n",
       " 'love location',\n",
       " 'want great dad',\n",
       " 'know something screen think ever seen laugh',\n",
       " 'fine',\n",
       " 'afraid may happen war come',\n",
       " 'wife wonderful woman mr person',\n",
       " '',\n",
       " 'always talking helping people',\n",
       " 'coming',\n",
       " 'thank kindly person',\n",
       " 'tortured bitterly neurotic man finishing life term',\n",
       " 'want fucking texador',\n",
       " 'big deal',\n",
       " 'sick',\n",
       " 'miss person good journalist',\n",
       " 'get one pas',\n",
       " 'thing done love',\n",
       " 'stay house nobody really care',\n",
       " 'tried limit scope fingerprint search exclude',\n",
       " 'right',\n",
       " 'guard every moment steal across border reality',\n",
       " 'really want know',\n",
       " 'seen',\n",
       " 'heard connected government war spy',\n",
       " 'well say reason broke important',\n",
       " 'telling became easier',\n",
       " 'see upset poor uncle death',\n",
       " 'rely papa',\n",
       " 'care going anyway',\n",
       " 'man king',\n",
       " 'night',\n",
       " 'every player team think greatest',\n",
       " 'principle',\n",
       " 'wonderful',\n",
       " 'thanks telling',\n",
       " 'pressing earliest possible action',\n",
       " 'face beneath face',\n",
       " 'imagine person first',\n",
       " 'noise coming upstairs let go look',\n",
       " 'sun still high try',\n",
       " 'well know much could',\n",
       " 'kick',\n",
       " 'throw hat air',\n",
       " 'soon became obvious senor mildly interested available talent',\n",
       " 'damn',\n",
       " 'idea',\n",
       " 'think',\n",
       " 'shot public domain looked camera loved',\n",
       " 'friend sharpshooter',\n",
       " 'got right',\n",
       " 'came escort home',\n",
       " 'get make beg life',\n",
       " 'person hear',\n",
       " 'educated repents',\n",
       " 'shootout five member one colombian drug gang ambushed bloody rival jamaican voodoo posse escaped without trace making total fool',\n",
       " 'know old man',\n",
       " 'probably mistake danger anyway',\n",
       " 'must never anything like ever',\n",
       " 'create em heard em people',\n",
       " 'sorry',\n",
       " 'heard',\n",
       " 'shipment arrives nail',\n",
       " 'without person get nowhere',\n",
       " 'right though innit',\n",
       " 'would buy store take party wanted get big laugh',\n",
       " 'least narrow right',\n",
       " 'great',\n",
       " 'better come back',\n",
       " 'exceeded foot',\n",
       " 'got bird shit hair',\n",
       " 'suppose look like much lady help proud',\n",
       " 'first thing cross taught',\n",
       " 'take',\n",
       " 'fuck eating',\n",
       " 'going going go back location',\n",
       " 'love thy neighbour',\n",
       " 'nobody going come looking',\n",
       " 'marriage bed made two every damn morning woman make',\n",
       " 'three year waiting nail sorry as',\n",
       " 'person make drink made night person shot',\n",
       " 'anyway practically beg take plastic know backed',\n",
       " 'moment',\n",
       " 'person person',\n",
       " 'act natural',\n",
       " 'spent time making know',\n",
       " 'come',\n",
       " 'well another day',\n",
       " 'getting paid undercover work garage day',\n",
       " 'see dead yet',\n",
       " 'hey trust life money wife asshole',\n",
       " 'heard shooting sheriff',\n",
       " 'glad came person',\n",
       " '',\n",
       " 'god must really love',\n",
       " 'put kettle',\n",
       " 'beginner luck',\n",
       " 'come room show idea show',\n",
       " 'uh gonna nothing',\n",
       " 'reprisal shelling home murder family american warship',\n",
       " 'watch convict murderer time',\n",
       " 'case',\n",
       " 'right',\n",
       " 'parade',\n",
       " 'solt kill',\n",
       " 'person one friend',\n",
       " 'wonder ever get knack',\n",
       " 'yes think',\n",
       " 'since one man show around think forgive one time',\n",
       " 'fail understand power hate',\n",
       " 'wasted time person',\n",
       " 'heaven',\n",
       " 'going mad',\n",
       " 'sergeant mean day',\n",
       " 'care one girl thousand die every day',\n",
       " 'let fun',\n",
       " 'oh well splendid idea mr person',\n",
       " 'outrageous',\n",
       " 'come gonna break guitar come',\n",
       " 'sent',\n",
       " 'hell',\n",
       " 'getting real bright',\n",
       " 'bridal suite',\n",
       " 'great danger',\n",
       " 'made sick',\n",
       " 'apply pint body good hour',\n",
       " 'scout engage',\n",
       " 'man like senator person get swears robbing kid nickel dime',\n",
       " 'hi person',\n",
       " 'case strike chose strange time tell u',\n",
       " 'location junior kidnapped',\n",
       " 'please wait',\n",
       " 'like take',\n",
       " 'dog mine kill eye eye',\n",
       " 'would would remember something like',\n",
       " 'take',\n",
       " 'removed',\n",
       " 'coming',\n",
       " 'far girl go notice',\n",
       " 'sorry father',\n",
       " 'impossible',\n",
       " 'see thinking writing story bought book',\n",
       " 'peeing',\n",
       " 'expecting great thing',\n",
       " 'got strong back strong desire escape',\n",
       " 'took heart',\n",
       " 'behaving company way',\n",
       " 'drink come pretty handy sometimes',\n",
       " 'listen today birthday girl give party',\n",
       " 'lend u something like wearing could',\n",
       " 'gonna put buck lousy pair',\n",
       " 'bad egg person',\n",
       " 'person like hear speak',\n",
       " 'kidding um',\n",
       " 'gonna cost',\n",
       " 'got friend bringing dough',\n",
       " 'think suck suck',\n",
       " 'bastard',\n",
       " 'imagine dear person wish involve',\n",
       " 'ill recovered',\n",
       " 'get one get hurt',\n",
       " 'get trouble',\n",
       " 'like',\n",
       " 'kill people live',\n",
       " 'older wiser present trouble taught precaution',\n",
       " 'nice family got',\n",
       " 'see need',\n",
       " 'speak anyone would bring dire consequence',\n",
       " 'wham bos go',\n",
       " 'break heart',\n",
       " 'spend year matador learn fear safety',\n",
       " 'one sophisticated operation',\n",
       " 'even one would thrown glass',\n",
       " 'fine thing',\n",
       " 'oh innocence hell',\n",
       " 'trying',\n",
       " 'got ta get back move back',\n",
       " 'rover person',\n",
       " 'person person going yet another birthday party new son',\n",
       " 'know location well good hand',\n",
       " 'like know shot',\n",
       " 'like ride u',\n",
       " 'remember hereford location',\n",
       " 'need yesterday',\n",
       " 'got',\n",
       " 'chance finding',\n",
       " 'object sustains every time old flame still burning huh',\n",
       " 'understand',\n",
       " 'giving bride away',\n",
       " 'well really got monster',\n",
       " 'anxious get back office',\n",
       " 'run away kick',\n",
       " 'think want body body contact',\n",
       " 'must come clean though man bed last night',\n",
       " 'mad accident',\n",
       " 'somebody help please',\n",
       " 'never talk person',\n",
       " 'learn read walk talk smile even fight',\n",
       " 'coming',\n",
       " 'bet known lot lawyer',\n",
       " 'place parent ever mentioned coming overseas',\n",
       " 'oh bullshit',\n",
       " 'let order around',\n",
       " 'miss person feeling heap better today mr person',\n",
       " 'get approval',\n",
       " 'right mister',\n",
       " 'kick major league butt',\n",
       " 'people seen since high school would want',\n",
       " 'nice hot like love',\n",
       " 'like',\n",
       " 'nothing wonderful child playing hearing laughing',\n",
       " 'matter fact look great',\n",
       " 'know dealing',\n",
       " 'miss person going',\n",
       " 'one could take care',\n",
       " 'think little mood lighting appropriate',\n",
       " 'sort yes around neighborhood',\n",
       " 'going',\n",
       " 'coffee sweetheart',\n",
       " 'decode message',\n",
       " 'like killed',\n",
       " 'yeah like',\n",
       " 'yeah stay person',\n",
       " 'person turning six week think clown year',\n",
       " 'shut',\n",
       " 'good idea',\n",
       " 'supposed touch person',\n",
       " 'jack king',\n",
       " 'knot harbour',\n",
       " 'yeah know place',\n",
       " 'great thank cheer',\n",
       " 'go back work',\n",
       " 'glad help',\n",
       " 'put rope neck',\n",
       " 'go back work',\n",
       " 'get capital whatever emperor responsibility',\n",
       " 'came thought gonna day stretch maybe',\n",
       " 'whole point enjoy',\n",
       " 'ended deciding know could go ahead oral argument',\n",
       " 'atreyu get real',\n",
       " 'say l know',\n",
       " 'leave take little brat',\n",
       " 'get roof',\n",
       " 'come never met idea',\n",
       " 'location horrid place',\n",
       " 'retreat much one millimeter',\n",
       " 'tonight',\n",
       " 'even could involvement drug vindicated',\n",
       " 'keep secret hmm',\n",
       " 'gonna leave',\n",
       " 'resilient gave credit',\n",
       " 'w supposed take word worth',\n",
       " '',\n",
       " 'pleasure',\n",
       " 'happens hardly position anything say',\n",
       " 'person person benham',\n",
       " 'never understand woman',\n",
       " 'poor country sold location senseless war',\n",
       " 'oh god idiot',\n",
       " 'wicked detective',\n",
       " 'lady work outfit',\n",
       " 'miss',\n",
       " 'soon',\n",
       " 'savor today person',\n",
       " 'might even expecting',\n",
       " 'mommy',\n",
       " 'still',\n",
       " 'well begun feel part life outsider',\n",
       " 'misery',\n",
       " 'gone done feeding pas chicken',\n",
       " 'doin real good',\n",
       " 'yes love find',\n",
       " 'danced tuscaloosa mayor said nicest thing',\n",
       " 'let get hot',\n",
       " 'telling old war story',\n",
       " 'first day reach across party line devote administration government securing',\n",
       " 'welcome home',\n",
       " 'better good little girl eat porridge',\n",
       " 'want give another shot',\n",
       " 'make sick',\n",
       " 'want stay whole week',\n",
       " 'oh sorry',\n",
       " 'could person',\n",
       " 'fear',\n",
       " 'mess around going kill',\n",
       " 'know lot legal rigmarole',\n",
       " 'hangover',\n",
       " 'fought best fight life',\n",
       " 'person turn want line',\n",
       " 'plane crashing',\n",
       " 'wish could made understand',\n",
       " 'go must play piano u',\n",
       " 'agricultural use one exception fortunately',\n",
       " 'think soldier russian',\n",
       " 'told guy wanted well',\n",
       " 'late start anything',\n",
       " 'get upstairs miss',\n",
       " '',\n",
       " 'gave valuable information',\n",
       " 'home sweet home',\n",
       " 'bomb',\n",
       " 'forgive',\n",
       " 'certainly want stay felt came head department',\n",
       " 'huh well',\n",
       " 'people sense thing',\n",
       " 'great',\n",
       " 'tired',\n",
       " 'see jealous',\n",
       " 'permission',\n",
       " '',\n",
       " 'wan na see',\n",
       " 'get doctor',\n",
       " 'nutritionally speaking exquisite',\n",
       " 'accept',\n",
       " 'old man blasted wheel king sized brother twisted like pretzel',\n",
       " 'well ask would fit asked much',\n",
       " 'take home',\n",
       " 'torpedo',\n",
       " 'till put stop',\n",
       " 'person sweet',\n",
       " 'covet thy neighbor wife',\n",
       " 'come meet others',\n",
       " 'people eager work',\n",
       " 'say killed man year old',\n",
       " 'got person',\n",
       " 'person go bat owner call',\n",
       " 'cold',\n",
       " 'person would fought back',\n",
       " 'make wish',\n",
       " 'sorry person',\n",
       " 'take easy',\n",
       " 'like lot',\n",
       " 'hell story bell',\n",
       " 'hard sometimes',\n",
       " 'going stop',\n",
       " 'need talk',\n",
       " 'l hate eyebrow',\n",
       " 'going save mr person embarrassed open court',\n",
       " 'made order paradise',\n",
       " 'hiding anything',\n",
       " 'oh macaroni cheese old story',\n",
       " 'well good see boy made war right',\n",
       " 'sun kill u like person',\n",
       " 'see white fluffy cloud',\n",
       " 'let decide',\n",
       " 'marvellous woman',\n",
       " 'sure',\n",
       " 'got thing already',\n",
       " 'dear lost love',\n",
       " 'mr person going honeymoon',\n",
       " '',\n",
       " 'hold steady tell',\n",
       " 'changed mind',\n",
       " 'matter',\n",
       " 'hang tight hang tight',\n",
       " 'clock news person lawyer famous gangster named',\n",
       " 'evidence',\n",
       " 'look get jungle',\n",
       " 'sorry shoe',\n",
       " 'another example pastoral belief anglicize',\n",
       " 'viennese good men',\n",
       " 'scared',\n",
       " 'thought splendid',\n",
       " 'embezzled five million euro person going expose',\n",
       " 'person got forehead got eight head',\n",
       " 'person',\n",
       " 'old man carving name',\n",
       " 'better listen said',\n",
       " 'manicure haircut harm',\n",
       " 'heard king',\n",
       " 'going go far',\n",
       " 'better person missed',\n",
       " 'v guy',\n",
       " 'person gonna sick sorry',\n",
       " 'bit dizzy stay bit',\n",
       " 'want complain institution called dinner',\n",
       " 'map good outback',\n",
       " 'believe',\n",
       " 'remember little childhood',\n",
       " 'person sic',\n",
       " 'usual self',\n",
       " 'hit aim',\n",
       " 'meet',\n",
       " 'looking like',\n",
       " 'got great timing',\n",
       " 'person smell like street shit',\n",
       " 'stop even helped carry chest liar',\n",
       " 'oh gosh bubbly outgoing',\n",
       " 'course',\n",
       " '',\n",
       " 'standing person gonna drown',\n",
       " 'drive shoot',\n",
       " 'comfortable',\n",
       " 'think straight',\n",
       " 'know',\n",
       " 'hell supposed',\n",
       " 'person done little sister',\n",
       " 'stay',\n",
       " 'movement restricted',\n",
       " 'take care mr person',\n",
       " 'pretty',\n",
       " 'mr president happens morning',\n",
       " 'get truck kiddo',\n",
       " 'thought could even get new dress',\n",
       " 'busy please',\n",
       " 'oh done rehearsing',\n",
       " 'favourite toy kidding toy',\n",
       " 'public danger result accident',\n",
       " 'leave',\n",
       " 'talk wasting time',\n",
       " 'could lot',\n",
       " 'take care later eh',\n",
       " 'suggest keep promise',\n",
       " 'want someone coming tell hang',\n",
       " 'contempt law got',\n",
       " 'expensive maintain person',\n",
       " 'really get trouble',\n",
       " 'yes father tell come back',\n",
       " 'turning zombie',\n",
       " 'come place',\n",
       " 'guarantee never see nothin',\n",
       " 'get bag get fast',\n",
       " 'nothing wrong hope sister',\n",
       " 'person ride thing condition',\n",
       " 'funny say',\n",
       " 'laugh hope isaac deep sleeper',\n",
       " 'good year person',\n",
       " 'tureen hold much sand strawberry tonight',\n",
       " 'know',\n",
       " '',\n",
       " 'easy brother',\n",
       " 'okay get check location nightfall',\n",
       " 'see happy people look',\n",
       " 'sit something eat',\n",
       " 'listen enough comedy clown',\n",
       " 'super quick okay see later',\n",
       " 'sure find fraternity house',\n",
       " 'best',\n",
       " 'wrist',\n",
       " '',\n",
       " 'people want disappear bother u',\n",
       " 'got thousand man hour nobody walking away',\n",
       " 'sure location empathicalist charming',\n",
       " 'talk hear',\n",
       " 'good job',\n",
       " 'ought rich',\n",
       " 'oh god anyone put put pull trigger',\n",
       " 'right must',\n",
       " 'smuggle manuscript location',\n",
       " 'ever sense humor finish testifying',\n",
       " 'woman train',\n",
       " 'would sent know address today',\n",
       " 'well tell story',\n",
       " 'could get key',\n",
       " 'escape impossible',\n",
       " 'person thick headed chunk fish bait',\n",
       " 'maybe right',\n",
       " 'respect',\n",
       " 'got ta let',\n",
       " 'er arrested carried motor vehicle taken without consent resisting arrest',\n",
       " 'right person',\n",
       " 'talk captain crazy',\n",
       " 'let go',\n",
       " 'probably wondering',\n",
       " 'people going',\n",
       " 'spare change',\n",
       " 'cheat cheat better',\n",
       " 'fine fine say person something kind important come',\n",
       " 'stay back',\n",
       " 'stop distracting bye person',\n",
       " 'maybe tired one night stand',\n",
       " 'gorgeous',\n",
       " 'want alone',\n",
       " 'co think people die sometimes wan na live',\n",
       " 'going go calm everybody else',\n",
       " 'birthday thought invite dinner',\n",
       " 'perfect',\n",
       " 'everything part great lie',\n",
       " 'wonderful',\n",
       " 'ring alarm',\n",
       " 'long land',\n",
       " 'majority child see trafficked online trafficked backpage',\n",
       " 'person sent ton tea well couple pound',\n",
       " 'get',\n",
       " 'british intelligence showed letter first time location',\n",
       " 'think somebody daubing card',\n",
       " 'charming invitation',\n",
       " 'blood fire lead new command far adventure',\n",
       " 'written drowned face face dead thousand',\n",
       " 'ever try come smart eyed slob',\n",
       " 'hi maria sigh',\n",
       " 'really cousin',\n",
       " 'really longer allowed give gift',\n",
       " 'know',\n",
       " 'really sure',\n",
       " 'going location measure glacial melt',\n",
       " 'forget person',\n",
       " 'thanks little mate',\n",
       " 'glad meet daughter',\n",
       " 'go club car get something eat',\n",
       " 'say could move',\n",
       " 'fuck',\n",
       " 'might ready make go',\n",
       " 'okay',\n",
       " 'let',\n",
       " 'got keep u',\n",
       " 'get rid kid buy new cat',\n",
       " 'gonna force room grab stuff point gun face',\n",
       " 'happy',\n",
       " 'greaser trying tell run business',\n",
       " 'said',\n",
       " 'know',\n",
       " 'circumstance advise person respond clearly would like',\n",
       " 'got ta something',\n",
       " 'repeat destroyer',\n",
       " 'driving',\n",
       " 'thanks lot',\n",
       " 'start easy program',\n",
       " 'draw dad kid',\n",
       " 'refuse offer merge new york trust thing put bank safe ground',\n",
       " 'see exit',\n",
       " 'look depressed',\n",
       " 'please person',\n",
       " 'afraid losing job',\n",
       " 'stay late ok',\n",
       " 'mommy mom',\n",
       " 'promised body woman tonight',\n",
       " 'kinda sick huh',\n",
       " 'time squeeze pimple like',\n",
       " 'contact ready fence good',\n",
       " 'ask person',\n",
       " 'fox henhouse',\n",
       " 'oh shit',\n",
       " 'breath stink',\n",
       " 'shooter lady finger carried right',\n",
       " 'thank',\n",
       " 'good see friend',\n",
       " 'wait minute',\n",
       " 'enough water',\n",
       " 'close mouth dear',\n",
       " 'well got potential',\n",
       " 'read critic say wonderful',\n",
       " 'inhuman',\n",
       " 'choice made',\n",
       " 'shut person',\n",
       " ...]"
      ]
     },
     "execution_count": 25,
     "metadata": {},
     "output_type": "execute_result"
    }
   ],
   "source": [
    "cleaned_documents"
   ]
  },
  {
   "cell_type": "code",
   "execution_count": 26,
   "id": "aee733e0",
   "metadata": {},
   "outputs": [],
   "source": [
    "train['Cleaned Documents'] = cleaned_documents"
   ]
  },
  {
   "cell_type": "code",
   "execution_count": 28,
   "id": "2457f548",
   "metadata": {},
   "outputs": [
    {
     "data": {
      "text/html": [
       "<div>\n",
       "<style scoped>\n",
       "    .dataframe tbody tr th:only-of-type {\n",
       "        vertical-align: middle;\n",
       "    }\n",
       "\n",
       "    .dataframe tbody tr th {\n",
       "        vertical-align: top;\n",
       "    }\n",
       "\n",
       "    .dataframe thead th {\n",
       "        text-align: right;\n",
       "    }\n",
       "</style>\n",
       "<table border=\"1\" class=\"dataframe\">\n",
       "  <thead>\n",
       "    <tr style=\"text-align: right;\">\n",
       "      <th></th>\n",
       "      <th>sentence</th>\n",
       "      <th>emotion</th>\n",
       "      <th>word_count</th>\n",
       "      <th>Cleaned Documents</th>\n",
       "    </tr>\n",
       "  </thead>\n",
       "  <tbody>\n",
       "    <tr>\n",
       "      <th>0</th>\n",
       "      <td>I'm too old to be traded in .</td>\n",
       "      <td>6</td>\n",
       "      <td>8</td>\n",
       "      <td>old traded</td>\n",
       "    </tr>\n",
       "    <tr>\n",
       "      <th>1</th>\n",
       "      <td>Mother said you could always tell a lady by he...</td>\n",
       "      <td>8</td>\n",
       "      <td>12</td>\n",
       "      <td>mother said could always tell lady hand</td>\n",
       "    </tr>\n",
       "    <tr>\n",
       "      <th>2</th>\n",
       "      <td>I always said I'd leave off when the time came .</td>\n",
       "      <td>6</td>\n",
       "      <td>11</td>\n",
       "      <td>always said leave time came</td>\n",
       "    </tr>\n",
       "    <tr>\n",
       "      <th>3</th>\n",
       "      <td>He'll be safe with me .</td>\n",
       "      <td>2</td>\n",
       "      <td>6</td>\n",
       "      <td>safe</td>\n",
       "    </tr>\n",
       "    <tr>\n",
       "      <th>4</th>\n",
       "      <td>Lay off .</td>\n",
       "      <td>1</td>\n",
       "      <td>3</td>\n",
       "      <td>lay</td>\n",
       "    </tr>\n",
       "  </tbody>\n",
       "</table>\n",
       "</div>"
      ],
      "text/plain": [
       "                                            sentence  emotion  word_count  \\\n",
       "0                      I'm too old to be traded in .        6           8   \n",
       "1  Mother said you could always tell a lady by he...        8          12   \n",
       "2   I always said I'd leave off when the time came .        6          11   \n",
       "3                            He'll be safe with me .        2           6   \n",
       "4                                          Lay off .        1           3   \n",
       "\n",
       "                         Cleaned Documents  \n",
       "0                               old traded  \n",
       "1  mother said could always tell lady hand  \n",
       "2              always said leave time came  \n",
       "3                                     safe  \n",
       "4                                      lay  "
      ]
     },
     "execution_count": 28,
     "metadata": {},
     "output_type": "execute_result"
    }
   ],
   "source": [
    "train.head()"
   ]
  },
  {
   "cell_type": "code",
   "execution_count": 29,
   "id": "cd7c3962",
   "metadata": {},
   "outputs": [
    {
     "data": {
      "text/html": [
       "<div>\n",
       "<style scoped>\n",
       "    .dataframe tbody tr th:only-of-type {\n",
       "        vertical-align: middle;\n",
       "    }\n",
       "\n",
       "    .dataframe tbody tr th {\n",
       "        vertical-align: top;\n",
       "    }\n",
       "\n",
       "    .dataframe thead th {\n",
       "        text-align: right;\n",
       "    }\n",
       "</style>\n",
       "<table border=\"1\" class=\"dataframe\">\n",
       "  <thead>\n",
       "    <tr style=\"text-align: right;\">\n",
       "      <th></th>\n",
       "      <th>sentence</th>\n",
       "      <th>word_count</th>\n",
       "    </tr>\n",
       "  </thead>\n",
       "  <tbody>\n",
       "    <tr>\n",
       "      <th>0</th>\n",
       "      <td>What happens to the gold in our safe ?</td>\n",
       "      <td>9</td>\n",
       "    </tr>\n",
       "    <tr>\n",
       "      <th>1</th>\n",
       "      <td>Natural to get cold feet .</td>\n",
       "      <td>6</td>\n",
       "    </tr>\n",
       "    <tr>\n",
       "      <th>2</th>\n",
       "      <td>Not very lucky , is he ?</td>\n",
       "      <td>7</td>\n",
       "    </tr>\n",
       "    <tr>\n",
       "      <th>3</th>\n",
       "      <td>I'm just a little anxious to get up there and ...</td>\n",
       "      <td>17</td>\n",
       "    </tr>\n",
       "    <tr>\n",
       "      <th>4</th>\n",
       "      <td>Did you think we don't know about your affair ...</td>\n",
       "      <td>14</td>\n",
       "    </tr>\n",
       "  </tbody>\n",
       "</table>\n",
       "</div>"
      ],
      "text/plain": [
       "                                            sentence  word_count\n",
       "0             What happens to the gold in our safe ?           9\n",
       "1                         Natural to get cold feet .           6\n",
       "2                           Not very lucky , is he ?           7\n",
       "3  I'm just a little anxious to get up there and ...          17\n",
       "4  Did you think we don't know about your affair ...          14"
      ]
     },
     "execution_count": 29,
     "metadata": {},
     "output_type": "execute_result"
    }
   ],
   "source": [
    "# Fetch wordcount for each sentence\n",
    "dev['word_count'] = dev['sentence'].apply(lambda x: len(str(x).split(\" \")))\n",
    "dev[['sentence','word_count']].head()"
   ]
  },
  {
   "cell_type": "code",
   "execution_count": 30,
   "id": "ee8f4dca",
   "metadata": {},
   "outputs": [
    {
     "data": {
      "text/plain": [
       "count    1000.000000\n",
       "mean        8.714000\n",
       "std         4.507829\n",
       "min         2.000000\n",
       "25%         6.000000\n",
       "50%         8.000000\n",
       "75%        11.000000\n",
       "max        33.000000\n",
       "Name: word_count, dtype: float64"
      ]
     },
     "execution_count": 30,
     "metadata": {},
     "output_type": "execute_result"
    }
   ],
   "source": [
    "dev.word_count.describe()"
   ]
  },
  {
   "cell_type": "code",
   "execution_count": 31,
   "id": "c32b6ea6",
   "metadata": {},
   "outputs": [],
   "source": [
    "all_words = ' '.join(dev['sentence']).split()"
   ]
  },
  {
   "cell_type": "code",
   "execution_count": 32,
   "id": "c769eab4",
   "metadata": {},
   "outputs": [],
   "source": [
    "freq = pd.Series(all_words).value_counts()"
   ]
  },
  {
   "cell_type": "code",
   "execution_count": 33,
   "id": "2e9e9d74",
   "metadata": {},
   "outputs": [
    {
     "data": {
      "text/plain": [
       ".           734\n",
       ",           380\n",
       "I           238\n",
       "you         234\n",
       "to          223\n",
       "?           211\n",
       "the         187\n",
       "a           160\n",
       "!           120\n",
       "[PERSON]    101\n",
       "of          101\n",
       "it           99\n",
       "me           76\n",
       "You          75\n",
       "and          75\n",
       "in           72\n",
       "that         71\n",
       "is           67\n",
       "for          61\n",
       "be           56\n",
       "do           53\n",
       "I'm          49\n",
       "this         47\n",
       "with         45\n",
       "not          44\n",
       "dtype: int64"
      ]
     },
     "execution_count": 33,
     "metadata": {},
     "output_type": "execute_result"
    }
   ],
   "source": [
    "freq[:25]"
   ]
  },
  {
   "cell_type": "code",
   "execution_count": 34,
   "id": "9e7c1b95",
   "metadata": {},
   "outputs": [
    {
     "data": {
      "application/vnd.jupyter.widget-view+json": {
       "model_id": "8ccbf679df6743b2ad8c063ad1c94630",
       "version_major": 2,
       "version_minor": 0
      },
      "text/plain": [
       "  0%|          | 0/1000 [00:00<?, ?it/s]"
      ]
     },
     "metadata": {},
     "output_type": "display_data"
    }
   ],
   "source": [
    "cleaned_documents = preprocessing(dev)"
   ]
  },
  {
   "cell_type": "code",
   "execution_count": 35,
   "id": "2ddcb914",
   "metadata": {},
   "outputs": [
    {
     "data": {
      "text/plain": [
       "['happens gold safe',\n",
       " 'natural get cold foot',\n",
       " 'lucky',\n",
       " 'little anxious get whoop et as',\n",
       " 'think know affair government official',\n",
       " 'next time try forget woman',\n",
       " 'said person already married',\n",
       " 'maybe stuck giant anthill would loosen tongue',\n",
       " 'person stripped',\n",
       " 'happy may hit something tremendous',\n",
       " 'hey person',\n",
       " 'mine left',\n",
       " 'fucking die fuck',\n",
       " 'take care',\n",
       " 'let go see cousin',\n",
       " 'well way trying understand',\n",
       " 'hephaestus',\n",
       " '',\n",
       " 'think idiot',\n",
       " 'tell truth location frightens',\n",
       " 'look great see okay',\n",
       " 'well feeling great',\n",
       " 'want talk face face',\n",
       " 'meaning monster ya mate',\n",
       " 'changed change back',\n",
       " 'technology',\n",
       " 'oh delicious',\n",
       " 'helicopter hit',\n",
       " 'got room booked whole morning',\n",
       " 'want tell something',\n",
       " 'get tomorrow',\n",
       " 'least say dinner right',\n",
       " 'better',\n",
       " 'convention anything happen',\n",
       " 'hit hard',\n",
       " 'got messed bro',\n",
       " 'look',\n",
       " 'old yellowstain flattered',\n",
       " 'auryn help',\n",
       " 'march tonight',\n",
       " 'got headache person',\n",
       " 'careful child',\n",
       " 'neither made cut',\n",
       " 'even know',\n",
       " 'alright c mon son let get movin',\n",
       " 'last hope',\n",
       " 'come red eagle',\n",
       " 'think nobody tell',\n",
       " 'land fabulous idea',\n",
       " 'committee wish emphasise evidence wider conspiracy',\n",
       " 'request recess',\n",
       " 'many girl buck',\n",
       " 'man good',\n",
       " 'look nice',\n",
       " 'fault',\n",
       " 'said retired',\n",
       " 'luger',\n",
       " 'mean become slave hour day seven day week',\n",
       " 'person',\n",
       " 'weak',\n",
       " '',\n",
       " 'something funny happened morning store',\n",
       " 'catering making rather horrid mess',\n",
       " 'person friend mine',\n",
       " 'completely misquoted',\n",
       " 'anything man tell lie',\n",
       " 'undoubtedly true',\n",
       " 'whole team working right find',\n",
       " 'hsiao tsing',\n",
       " 'gonna tell sin forgiven',\n",
       " 'unusual',\n",
       " 'look horse',\n",
       " 'lost place',\n",
       " 'really know hiding person',\n",
       " 'together',\n",
       " 'want study',\n",
       " 'mommy help',\n",
       " 'job worth',\n",
       " 'gonna full hear',\n",
       " 'drink old time sake',\n",
       " 'focused',\n",
       " 'dna found scene',\n",
       " 'heard wonderful thing',\n",
       " 'heavyweight champion',\n",
       " 'worry',\n",
       " 'want anybody think hospitable',\n",
       " 'maybe let mother make choice',\n",
       " 'get nothing except maybe police',\n",
       " 'vice president local vagos',\n",
       " 'know something law gonna law',\n",
       " 'guess',\n",
       " 'mind call person know',\n",
       " 'thing killer',\n",
       " 'finished',\n",
       " 'wife love even get baby',\n",
       " 'put hand',\n",
       " 'trouble call phone',\n",
       " 'want put trouble',\n",
       " 'want truth flannel',\n",
       " 'talented',\n",
       " 'got get',\n",
       " 'could shot',\n",
       " 'called one percenter motorcycle club person notoriously violent',\n",
       " 'would marriage nothing question',\n",
       " 'mom well needed time recover get better',\n",
       " 'private conversation',\n",
       " 'else could',\n",
       " 'expect see mr person',\n",
       " 'really',\n",
       " 'really singer',\n",
       " 'give try',\n",
       " 'help',\n",
       " 'interference u right',\n",
       " 'must fly immediately',\n",
       " 'hold without warrant',\n",
       " 'bout handsome',\n",
       " 'becoming beautiful every day',\n",
       " 'look great',\n",
       " 'oh dear',\n",
       " 'told even know going',\n",
       " 'kind personality',\n",
       " 'good old honest shooter',\n",
       " 'come god',\n",
       " 'like right',\n",
       " 'told wine cellar believe',\n",
       " 'homecoming dance old man',\n",
       " 'bother daddy',\n",
       " 'yeah like clockwork',\n",
       " 'must idea going',\n",
       " 'complaint',\n",
       " 'terrific time going home',\n",
       " 'sure hate lose reason',\n",
       " 'pay ticket',\n",
       " 'show tan',\n",
       " 'afraid lose',\n",
       " 'bullshit see',\n",
       " 'give choice ground',\n",
       " 'like staying night uninvited',\n",
       " '',\n",
       " 'like gonna find big hunk long green',\n",
       " 'terrific',\n",
       " 'good time learn',\n",
       " 'hey hey hey say',\n",
       " 'got badge gun still punk shut person please',\n",
       " 'logical man location national ticket',\n",
       " 'agree',\n",
       " 'well',\n",
       " 'hurt pretty bad',\n",
       " 'say anything live',\n",
       " 'like pushed around',\n",
       " 'expect take care',\n",
       " 'must',\n",
       " 'quite pleasant surprise',\n",
       " 'way ignored u think',\n",
       " 'refuse assist rape location',\n",
       " 'moment excellent chance hanged',\n",
       " 'god tough old bird',\n",
       " 'hey since ever',\n",
       " 'oh god like romantical',\n",
       " 'unsatisfactory',\n",
       " 'tired',\n",
       " 'one go chicken',\n",
       " 'take please',\n",
       " 'look like upset',\n",
       " 'quite harmless',\n",
       " 'got proof',\n",
       " 'person person finished',\n",
       " 'know loved really',\n",
       " 'lie person',\n",
       " 'mean flying',\n",
       " 'still place want see thing want',\n",
       " 'come get party',\n",
       " 'know come think rather interesting conception',\n",
       " 'rumour',\n",
       " 'get fuck back',\n",
       " 'sorry needed situation room',\n",
       " 'yes minute mr person',\n",
       " 'person angel heaven',\n",
       " 'well shitty world',\n",
       " 'dreadful',\n",
       " 'tell cobbler delighted',\n",
       " 'still love',\n",
       " 'person fine surprise',\n",
       " 'together bad lookin',\n",
       " 'hope snake round',\n",
       " 'could cover kiss',\n",
       " 'ok',\n",
       " 'also love king',\n",
       " 'know',\n",
       " 'got married house child',\n",
       " 'sometimes think almost chance u',\n",
       " 'neverending story already read',\n",
       " 'gone',\n",
       " 'kill person',\n",
       " 'look like bronzed apollo',\n",
       " 'something',\n",
       " 'first place young lady exclusive contract mr person course discus future availability time',\n",
       " 'got ta something else',\n",
       " 'shit',\n",
       " 'brother person',\n",
       " 'stop stop',\n",
       " 'okay need get message',\n",
       " 'call middle night tell come screw old lady watch gonna',\n",
       " 'oh told general',\n",
       " 'text',\n",
       " 'oh look eye',\n",
       " 'must know important u',\n",
       " 'let say password',\n",
       " 'time interest would welcome help',\n",
       " 'hardly ever remember audience excited',\n",
       " 'oh person',\n",
       " 'little bastard',\n",
       " 'look money',\n",
       " 'ok',\n",
       " 'licked',\n",
       " 'deciding',\n",
       " 'two year time gonna make run',\n",
       " 'wonder kite around fly',\n",
       " 'tell',\n",
       " 'murder right reserved hated nation taken everything else',\n",
       " 'bar',\n",
       " 'quickly',\n",
       " 'thought thrilled death',\n",
       " 'maybe thought sent rob client',\n",
       " 'come christmas',\n",
       " 'step around town like never stepped',\n",
       " 'rest',\n",
       " 'like know feel held responsible',\n",
       " 'well introduce',\n",
       " 'need engage astronomer amateur astronomer set sighting situation show evidence show debunked',\n",
       " 'location need man able impress',\n",
       " 'might take u innocent bystander',\n",
       " 'year get ready',\n",
       " 'hate place',\n",
       " 'theatre actually theatre director',\n",
       " 'well like',\n",
       " 'sleep',\n",
       " 'know',\n",
       " 'want hear another word',\n",
       " 'know italian kid got bad butt',\n",
       " 'might hundred gun safer',\n",
       " 'jerking around',\n",
       " 'called urban blight',\n",
       " 'command',\n",
       " 'could get extra mayo',\n",
       " 'tried enlist told ancient',\n",
       " 'people used stop street admire',\n",
       " 'love',\n",
       " 'chosen right agent sir',\n",
       " 'tell',\n",
       " 'want know call motivation',\n",
       " 'poor girl',\n",
       " 'thought said location',\n",
       " 'away word monument whole rotten show',\n",
       " 'epidermal',\n",
       " 'careful',\n",
       " 'got hard time',\n",
       " 'spend time yeah',\n",
       " 'return getting married',\n",
       " 'wait minute understand',\n",
       " 'hear come real cheap',\n",
       " 'junior',\n",
       " 'expect cut finger',\n",
       " 'man going die',\n",
       " 'superficial',\n",
       " 'grandfather anything',\n",
       " 'meantime dead',\n",
       " 'sober right uh huh eight month',\n",
       " 'person going make island',\n",
       " '',\n",
       " 'calling person',\n",
       " 'start weeping self pity minute',\n",
       " 'could',\n",
       " 'asking',\n",
       " 'may come third car',\n",
       " 'expect called see admiral sir',\n",
       " 'shut fuck',\n",
       " 'squeeze',\n",
       " 'like man want know',\n",
       " 'well personal matter',\n",
       " 'stay away',\n",
       " 'put head put fucking head',\n",
       " 'person listen',\n",
       " 'rot care',\n",
       " 'sure use box asking watch u',\n",
       " 'right',\n",
       " 'release make estimate situation',\n",
       " 'friend',\n",
       " 'mean could sell u',\n",
       " 'need take break',\n",
       " 'want talk federal bureau narcotic see problem internal revenue service',\n",
       " 'year beyond could comprehend',\n",
       " 'way make easy person',\n",
       " 'slow lost person',\n",
       " 'anymore',\n",
       " 'believe nonsense',\n",
       " 'nice sort craziness',\n",
       " 'one got passport go location',\n",
       " 'mutilation',\n",
       " 'safe',\n",
       " 'name',\n",
       " 'ok maybe wise someday',\n",
       " 'well sweetie tomorrow',\n",
       " 'mistaken think leaving mother consider reputation',\n",
       " 'senator',\n",
       " '',\n",
       " 'think sort cross wife mother',\n",
       " 'long staying location please mr person',\n",
       " 'know mr person mr person',\n",
       " 'biggest liar',\n",
       " 'harry think would make person happy',\n",
       " 'none departmental loyalty crap',\n",
       " 'thought gonna leave',\n",
       " 'never cared',\n",
       " 'right gonna u good',\n",
       " 'produce beef beer shoe good time',\n",
       " 'think make really good team',\n",
       " 'hold drumstick',\n",
       " 'boy honest stupid',\n",
       " 'know',\n",
       " 'want dance',\n",
       " 'start',\n",
       " 'wish anybody child',\n",
       " 'come physical proof',\n",
       " 'resting yes',\n",
       " 'got',\n",
       " 'give good laugh',\n",
       " 'went sleep woke feeling fine remembered everything',\n",
       " 'twenty minute rush hour slight mayor major city',\n",
       " 'see tomorrow',\n",
       " 'sure',\n",
       " 'hardly decide',\n",
       " 'come live love',\n",
       " 'hedgehog',\n",
       " 'got stop',\n",
       " 'person may come',\n",
       " 'fucking honey dripper',\n",
       " 'give alibi shall convincing',\n",
       " 'guess everybody given hope including doctor',\n",
       " 'got ta real putz wear white coat around',\n",
       " 'really brave lucky make rich',\n",
       " 'going zoo',\n",
       " 'friend mine friend',\n",
       " 'hope obscure',\n",
       " 'come thought',\n",
       " 'best friend',\n",
       " 'storm bastille',\n",
       " 'let know see anything huh',\n",
       " 'could',\n",
       " 'island',\n",
       " 'money anger',\n",
       " 'leave u alone',\n",
       " 'one greatest attraction ever see born day',\n",
       " 'good luck',\n",
       " 'awesome rad',\n",
       " 'look shit',\n",
       " 'boy amaze',\n",
       " 'reason anyone come',\n",
       " 'okay help',\n",
       " 'person make soon',\n",
       " 'first took deal become undercover informant biker gang save skin',\n",
       " 'quite right look',\n",
       " 'going join brave lad gray',\n",
       " 'may better job',\n",
       " 'one look head location turn creature stone',\n",
       " 'serious',\n",
       " 'seems much slower eight time seen',\n",
       " 'person',\n",
       " 'know thinking training cashier really',\n",
       " 'call tip cheap bastard',\n",
       " 'think minute empty threat made',\n",
       " 'really gonna great time',\n",
       " 'go medical officer repeat said',\n",
       " 'person go downstairs quickly',\n",
       " 'month combat take hour day keep together',\n",
       " 'one getting popular',\n",
       " 'sorry',\n",
       " 'fantastic',\n",
       " 'know understand shit',\n",
       " 'tell person wait shop',\n",
       " 'tear calendar',\n",
       " 'tell',\n",
       " 'come time marry well little princess',\n",
       " 'want buy',\n",
       " 'zharkov plane',\n",
       " 'make location careful',\n",
       " 'calm',\n",
       " 'go grand jury without',\n",
       " 'person',\n",
       " 'god status',\n",
       " 'one man disaster area',\n",
       " 'person supposed know anything',\n",
       " 'fine looking couple person',\n",
       " 'oh mammy reasonable',\n",
       " 'multiple target sighted',\n",
       " 'judge said would entitled leeway',\n",
       " 'come dad',\n",
       " '',\n",
       " 'anything discus',\n",
       " 'yeah anything else world',\n",
       " 'temporary know',\n",
       " 'stop',\n",
       " 'sit',\n",
       " 'cincpac want arrive time intact',\n",
       " 'mean jeez',\n",
       " 'leave alone',\n",
       " 'thanks dad',\n",
       " 'send somebody militia',\n",
       " 'beginning',\n",
       " 'every living capable attack sufficiently provoked',\n",
       " 'yeah right got keep moving person',\n",
       " 'may bring serious trouble',\n",
       " 'oh cool',\n",
       " 'let talk',\n",
       " 'give crap',\n",
       " 'bow smile scrape spend night gnawing chair floor u',\n",
       " 'okay dead yet',\n",
       " 'say kind blame accusation started',\n",
       " 'really think would come',\n",
       " 'never felt alive whole life',\n",
       " 'get coat',\n",
       " 'question',\n",
       " 'perhaps incapable child',\n",
       " 'cody wait',\n",
       " 'well',\n",
       " 'horse would run tomorrow',\n",
       " 'favourite little boy',\n",
       " 'trying clean party party end speaking turn',\n",
       " 'alone',\n",
       " 'try anything funny co know get',\n",
       " 'say dangerous spend night village',\n",
       " 'everything clean everybody nice',\n",
       " 'trying stop',\n",
       " 'think finally found sport like',\n",
       " 'somebody listen',\n",
       " 'mommy hurt head',\n",
       " 'decided demolish',\n",
       " 'look cool',\n",
       " 'best friend',\n",
       " 'give girl chance breathe',\n",
       " 'armed',\n",
       " 'miracle old person alive today',\n",
       " 'stole tintoretto person taken person bronze location countess',\n",
       " 'could saved time liquor office need little ceremony',\n",
       " 'dangerous jouncing mr person open country',\n",
       " 'unit due shipped soon',\n",
       " 'case throwing decade disarmament progress',\n",
       " 'prisoner right escape',\n",
       " 'worry kid',\n",
       " 'know sometimes even amaze',\n",
       " 'give soul go',\n",
       " 'crook murderer',\n",
       " 'still emotionally unstable',\n",
       " 'sure need gonna go rat detail',\n",
       " 'shut dude listen',\n",
       " 'right big blue eye',\n",
       " 'right',\n",
       " 'morphine syrette give morphine syrette got',\n",
       " 'broke glass',\n",
       " 'welcome location',\n",
       " 'nut',\n",
       " 'possession faculty person',\n",
       " 'made thief person pig person fool',\n",
       " 'well pretty smooth flight weather clear location',\n",
       " 'famous person safe',\n",
       " 'dead inside',\n",
       " 'sure',\n",
       " 'avenger',\n",
       " 'mean',\n",
       " 'hurt people laugh',\n",
       " 'locked briefcase person morning following death',\n",
       " 'seem keep two hospital lately',\n",
       " 'like mr person',\n",
       " 'killed person money right',\n",
       " 'thank mr person',\n",
       " 'cheese doodle',\n",
       " 'maybe get lucky',\n",
       " '',\n",
       " 'never even heard person',\n",
       " 'rehearse story try think question ask',\n",
       " 'hey know',\n",
       " 'proceeding remind visitor gallery guest conduct',\n",
       " 'idea turning',\n",
       " 'well lovable chap',\n",
       " 'let kill',\n",
       " 'realist knowing outside looking calmly accept uncertain position yeah',\n",
       " 'killed killed like animal',\n",
       " 'age corrected illiterate',\n",
       " 'hot biscuit warmer',\n",
       " 'person hell done coffee',\n",
       " 'clerk call roll',\n",
       " 'getting darned sick way acting',\n",
       " 'deny monster could exist correct',\n",
       " 'would go home talk family people',\n",
       " 'interesting problem got one',\n",
       " 'privilege presumption',\n",
       " 'think fool',\n",
       " 'glad',\n",
       " 'person looking new assistant want meet drink',\n",
       " 'oh little beauty',\n",
       " 'person try',\n",
       " 'got ta stick together co',\n",
       " 'way',\n",
       " 'die',\n",
       " 'got deserves',\n",
       " 'yes',\n",
       " 'seemed restless tense withdrawn person looking person watching location look maria',\n",
       " 'get house',\n",
       " 'attacked bitch',\n",
       " 'emergency speed engine',\n",
       " 'ready celebrate',\n",
       " 'know going say',\n",
       " 'however moment drinking',\n",
       " 'easy kill someone get away',\n",
       " 'glad company',\n",
       " 'want',\n",
       " 'nobel prize juice set sail home location',\n",
       " 'got job possibility',\n",
       " 'get help',\n",
       " 'trying kill',\n",
       " 'stung first feel thing',\n",
       " 'bet size pot',\n",
       " 'kind monster',\n",
       " 'going home well',\n",
       " 'funny mention husband',\n",
       " 'champagne',\n",
       " 'get',\n",
       " 'leave',\n",
       " 'bro',\n",
       " 'human',\n",
       " 'alright better',\n",
       " 'look report unless got something change',\n",
       " 'bother',\n",
       " 'stop fidgeting',\n",
       " 'mayii long since lost track child person',\n",
       " 'thank using att',\n",
       " 'wanted look mellow look brittle',\n",
       " 'bye commander',\n",
       " 'putting money',\n",
       " 'oh parent ashamed',\n",
       " 'well problem um bad guy took',\n",
       " 'meet shortly',\n",
       " 'frank benzedrine got teeth wiggling',\n",
       " 'look',\n",
       " 'far desire',\n",
       " 'person dam fraud',\n",
       " 'ghost',\n",
       " 'broke',\n",
       " 'location done impossible',\n",
       " 'know city degrades individual',\n",
       " 'let win back',\n",
       " 'gonna awkward kid come first',\n",
       " 'state call detective person',\n",
       " 'order ghost expelled',\n",
       " 'see funny',\n",
       " 'trolley',\n",
       " 'tonight go make party',\n",
       " 'friend wednesday dinner drink',\n",
       " 'hose get',\n",
       " 'want work somebody else',\n",
       " 'actually wanted remodeling first',\n",
       " 'please sit sober',\n",
       " 'friend',\n",
       " 'look vaguely amusing unattractive guy even remotely interested',\n",
       " 'shoot',\n",
       " 'look like death',\n",
       " 'devil always waiting shadow',\n",
       " 'get leg',\n",
       " 'well',\n",
       " 'drink stuff',\n",
       " 'liar',\n",
       " 'know minute person almost convinced wrong',\n",
       " 'come good family name windy',\n",
       " 'think cover',\n",
       " 'lose sweat kid',\n",
       " 'afraid little booger',\n",
       " 'watched person go exactly going right',\n",
       " 'wait',\n",
       " 'went gained like six pound',\n",
       " 'improved',\n",
       " 'fool tolerate',\n",
       " 'confessing',\n",
       " 'assuming captain conduct often showed bad judgement would inconsistent diagnosis',\n",
       " 'gonna need weapon',\n",
       " 'person wrote something awful nice',\n",
       " 'wait',\n",
       " 'next fight try redhead front row',\n",
       " 'get chance tell',\n",
       " 'personal question appropriate',\n",
       " 'good bye person',\n",
       " 'person talked',\n",
       " 'pulled stupid son bitch',\n",
       " 'alive',\n",
       " 'evil',\n",
       " 'go find',\n",
       " 'let go place',\n",
       " 'me dame et monsieur good night',\n",
       " 'mean anything happens',\n",
       " 'experience',\n",
       " 'guess person got sense u',\n",
       " 'excited person',\n",
       " 'latest',\n",
       " 'get bag match shoe',\n",
       " 'answer',\n",
       " 'thought',\n",
       " 'fairest drink whiskey ever throw lip boy',\n",
       " 'got realistic',\n",
       " 'god sake put position',\n",
       " 'time get away',\n",
       " 'never miss',\n",
       " 'pleased meet sister person',\n",
       " 'others getting suspicious',\n",
       " 'telling marry',\n",
       " 'want coconut',\n",
       " 'love boy neddie',\n",
       " 'let keep eye peeled camp site',\n",
       " 'nobody know anything happening',\n",
       " 'find cleanly without drawing attention',\n",
       " 'happy one',\n",
       " 'said burn hell',\n",
       " 'contribution sea hawk possibly match person vast resource',\n",
       " 'hit gonna rip face',\n",
       " 'like ever tell',\n",
       " 'guarantee luggage',\n",
       " 'wan na help stuff',\n",
       " 'tell something',\n",
       " 'one',\n",
       " 'killed man hated today',\n",
       " 'leader party got bigger',\n",
       " 'look look look',\n",
       " 'afford fuckin dream house',\n",
       " 'pretended friend',\n",
       " 'skin look feel whole lot better',\n",
       " 'want feel bone burst billion piece',\n",
       " 'going hang',\n",
       " 'may overlooked fact use officer labour expressly forbidden geneva convention',\n",
       " 'grown ups done world start boy camp see kid',\n",
       " 'think let around people like person',\n",
       " 'music',\n",
       " 'late maric n',\n",
       " 'want kill friend',\n",
       " 'person son used sneak stair go roof play person friend',\n",
       " 'told person',\n",
       " 'thanks baby',\n",
       " 'like read',\n",
       " 'see better mean',\n",
       " 'said scare u',\n",
       " 'maybe help get',\n",
       " 'saint deus said',\n",
       " 'ten suicide last year one day',\n",
       " 'depend additional overcall',\n",
       " 'try piece poetry',\n",
       " 'right',\n",
       " 'nice question ask',\n",
       " 'say man ever loved',\n",
       " 'filled love',\n",
       " 'much simpler would many u person found necessary look new face',\n",
       " 'problem',\n",
       " 'mean never seen clock',\n",
       " 'leave girl',\n",
       " 'time understand know person better',\n",
       " 'rushing home hot apartment listen automatic laundry electric dishwasher garbage disposal nagging wife',\n",
       " 'dated u right gave u something',\n",
       " 'crazy skull',\n",
       " 'die bastard',\n",
       " 'jump',\n",
       " 'point return reached',\n",
       " 'mean something struck',\n",
       " 'want take care someone',\n",
       " 'nothing squabble imperial court',\n",
       " 'god people rude',\n",
       " 'come person',\n",
       " 'feel better',\n",
       " 'hit casino floor walking heart mouth',\n",
       " 'person',\n",
       " 'sorry rock',\n",
       " 'mean say',\n",
       " 'maybe go get drink',\n",
       " 'nice mango location cooler',\n",
       " 'good boy good boy',\n",
       " 'person getting late',\n",
       " 'make call',\n",
       " 'great',\n",
       " 'hotplate well stocked refrigerator',\n",
       " 'champ',\n",
       " 'look',\n",
       " 'place like home',\n",
       " 'maybe goddamn bastard election get resolved',\n",
       " 'give minute second',\n",
       " 'whatever love wish whatever heart',\n",
       " 'mine gave money',\n",
       " 'wiped',\n",
       " 'thought drop cheer bit',\n",
       " 'hurry',\n",
       " 'fuck talkin',\n",
       " 'told',\n",
       " 'guy',\n",
       " '',\n",
       " 'front million stop person person remember',\n",
       " 'good',\n",
       " 'see tomorrow',\n",
       " 'know talking everybody set',\n",
       " 'bit humiliating always borrowing person place',\n",
       " 'occasion',\n",
       " 'join class',\n",
       " 'darling person',\n",
       " 'accuse mr person',\n",
       " 'nice meeting',\n",
       " 'look look size',\n",
       " 'nobody know go inside police car right person',\n",
       " 'jurisdiction',\n",
       " 'kind answer million world gross say',\n",
       " 'suspect body believe jack ripper copycat discovered late last night',\n",
       " 'push pushing',\n",
       " 'want',\n",
       " 'wan na go like',\n",
       " 'bus bus',\n",
       " 'suggesting killed woman',\n",
       " 'angry',\n",
       " 'put right mood',\n",
       " 'place go',\n",
       " 'odd coincidence turning',\n",
       " 'failed',\n",
       " 'hide truth',\n",
       " 'want die',\n",
       " 'well want anything ring',\n",
       " 'hear bell',\n",
       " 'pleasant mr person',\n",
       " 'shithouse',\n",
       " 'kid hate',\n",
       " 'trying find',\n",
       " 'ask get outta',\n",
       " 'good thing know person',\n",
       " 'stop please',\n",
       " 'inside huge creature',\n",
       " 'please',\n",
       " 'sorry suspicious',\n",
       " 'great danger',\n",
       " 'slight delay',\n",
       " 'shop bill collector',\n",
       " 'going bed scene',\n",
       " 'killing child',\n",
       " 'say',\n",
       " 'gonna get shake soon person',\n",
       " 'engaged',\n",
       " 'next friday money',\n",
       " 'stay away baby',\n",
       " 'person saved life wanted buy em beer thank em',\n",
       " 'sends love',\n",
       " 'smilin',\n",
       " 'run daisy chain tell want see comprende',\n",
       " 'gonna take nice quiet place',\n",
       " 'want give another',\n",
       " 'even know',\n",
       " 'worth franc',\n",
       " 'pay',\n",
       " 'belief father incestuous desire',\n",
       " 'guy trailer',\n",
       " 'write',\n",
       " 'could send champagne strawberry course',\n",
       " 'oh almost forgot',\n",
       " 'running',\n",
       " 'truth course',\n",
       " 'let beat',\n",
       " 'see reason witness qualified give evidence',\n",
       " 'soon expand city city',\n",
       " 'neighbour know adopted',\n",
       " 'began one night light went',\n",
       " 'see get',\n",
       " 'let drink something',\n",
       " 'something terrible happening',\n",
       " 'infernal',\n",
       " 'bad dream',\n",
       " 'engine ahead full',\n",
       " 'spring gonna early',\n",
       " 'thank stopping saved life',\n",
       " 'simply gorgeous',\n",
       " '',\n",
       " 'thought knew grandpa friend seem recognize',\n",
       " 'would want live graveyard',\n",
       " 'person say get upset',\n",
       " 'know bill help',\n",
       " 'whoever family honor person prevent flaunt',\n",
       " 'body clothes soaked blood',\n",
       " 'suppose could prove suppose asked help would give without telling anybody saying anything anyone',\n",
       " 'mean want go',\n",
       " 'call commander',\n",
       " 'go go',\n",
       " 'profane really offensive',\n",
       " 'curious',\n",
       " 'right beautiful city',\n",
       " 'way could get touch husband',\n",
       " 'think pretty smart',\n",
       " 'take live',\n",
       " 'dangerous probably serial killer',\n",
       " 'biggest dickhead ever went',\n",
       " 'last time saw',\n",
       " 'rich enough',\n",
       " 'never forget face entered room mr person',\n",
       " 'like person mother person',\n",
       " 'put quite burden company',\n",
       " 'kill',\n",
       " 'real nice',\n",
       " 'listen',\n",
       " 'declare person sometimes think got psychic power',\n",
       " 'odds survival camp even worse',\n",
       " 'odd',\n",
       " 'say cousin',\n",
       " 'normal',\n",
       " 'hey beef person say van empty van empty',\n",
       " 'gonna massacre',\n",
       " 'destroy everything',\n",
       " 'definitely insane',\n",
       " 'much heat almost',\n",
       " 'got',\n",
       " 'assure person prayer',\n",
       " 'good thing music instead comedy',\n",
       " 'need tell person person',\n",
       " 'quite right nothing wrong eating dog',\n",
       " 'throw parade',\n",
       " 'engineer',\n",
       " 'cast prison failed',\n",
       " 'anybody connected drug deserves die',\n",
       " 'said fucking crazy',\n",
       " 'somebody shut',\n",
       " 'well kid hit come back yet',\n",
       " 'whale stave rib biggest ship swallow whole crew pick teeth oar',\n",
       " 'oh',\n",
       " 'ah believed fought',\n",
       " 'terrible',\n",
       " 'terrorist attack aimed',\n",
       " 'know caused great interest u',\n",
       " 'wan na mix pleasure',\n",
       " 'wish translate person letter',\n",
       " 'everything right person',\n",
       " 'truly special',\n",
       " '',\n",
       " 'something missing',\n",
       " 'best intention',\n",
       " 'like',\n",
       " 'give back',\n",
       " 'known like love married church man love',\n",
       " 'know still expect come home dinner',\n",
       " 'going smoke go outside',\n",
       " 'much u',\n",
       " 'young lady',\n",
       " 'cool',\n",
       " 'let get',\n",
       " 'case filed comme',\n",
       " 'maybe keeping kid',\n",
       " 'beach tomorrow',\n",
       " 'guess want go',\n",
       " 'afraid fault',\n",
       " 'know must think',\n",
       " 'must loved person',\n",
       " 'forgotten good bad woman feel',\n",
       " 'backpage innocent facilitator actually active role fashioning kind ad actually placed',\n",
       " 'tell later',\n",
       " 'ooh oh name holy father',\n",
       " 'loyal person',\n",
       " 'dinner well need cocktail dress come',\n",
       " 'one able take care one possession',\n",
       " 'uh b bullet f fire others',\n",
       " 'wait see inspectorate make',\n",
       " 'need later come',\n",
       " 'nearing vulcania',\n",
       " 'back',\n",
       " 'get',\n",
       " 'thank privilege sir',\n",
       " 'beautiful mouth',\n",
       " 'uh message throughout',\n",
       " 'hurt',\n",
       " 'answer person',\n",
       " 'hate',\n",
       " 'oh wife splitting',\n",
       " 'want',\n",
       " 'angry',\n",
       " 'word mind understand',\n",
       " 'serious',\n",
       " 'well right',\n",
       " 'shall live shall die',\n",
       " 'listening sick girl',\n",
       " 'bullshit',\n",
       " 'police release statement circumstance death',\n",
       " 'caused girl considerable discomfort',\n",
       " 'dying',\n",
       " 'hey turned light',\n",
       " 'know',\n",
       " 'unselfish love',\n",
       " 'see feel better',\n",
       " 'none person fault',\n",
       " 'keep line straight',\n",
       " 'thinking',\n",
       " 'eaten yet',\n",
       " 'wan na hurt wan na suck eye',\n",
       " 'job four month',\n",
       " 'want live land father peace',\n",
       " 'thing spend money stupid thing',\n",
       " 'style court totally supported person generous benefactress',\n",
       " 'interested',\n",
       " 'gaping',\n",
       " 'mostly destroyed able recover data one',\n",
       " 'one left fly plane',\n",
       " 'try freeze curse',\n",
       " 'oh come honor',\n",
       " '',\n",
       " 'would really wear thing like',\n",
       " 'something special',\n",
       " 'told anything illegal',\n",
       " 'oh well sure mean',\n",
       " 'person gonna kill murdering son bitch',\n",
       " 'happens eh',\n",
       " 'one greatest stud player seen',\n",
       " 'got something bottled behind dashing charm',\n",
       " 'got every man without fbi local carrying handicap',\n",
       " 'damn',\n",
       " 'hey got ta come see one',\n",
       " 'must wonderful material make thing like',\n",
       " 'got anybody',\n",
       " '',\n",
       " 'listen got ta go work',\n",
       " 'fixed blind date well meaning friend',\n",
       " 'andromeda beautiful',\n",
       " 'come want dance',\n",
       " 'must admit put convincing argument table',\n",
       " 'got ta joking neverjoke money',\n",
       " 'person tape encrypted bounced satellite location decrypted minute',\n",
       " 'good morning mr president',\n",
       " 'enough trouble',\n",
       " 'come like',\n",
       " 'unhappy',\n",
       " 'happening sir',\n",
       " 'bomb city sink ship torture murder friend eat gold plate',\n",
       " 'prostitute try tempt unhealthy immorality',\n",
       " 'wait minute much',\n",
       " 'sword husband',\n",
       " 'good',\n",
       " 'let back person',\n",
       " 'talk like madman',\n",
       " 'never survive without mother well',\n",
       " 'swear god',\n",
       " 'one many',\n",
       " 'simple hell simple',\n",
       " 'bread livin dump like smashed car busted bus good stash',\n",
       " 'war',\n",
       " 'care getting outta',\n",
       " 'something strange boy',\n",
       " 'take look',\n",
       " 'playing fire',\n",
       " 'want look moonlight cut tree',\n",
       " 'certainly picked wonderful spot',\n",
       " 'shit apart trouble',\n",
       " 'run taut ship',\n",
       " 'agenda',\n",
       " 'doin',\n",
       " 'said would',\n",
       " 'miss person listen',\n",
       " 'hey piss firewood',\n",
       " 'take time know going',\n",
       " '',\n",
       " 'fool asking give honor woman',\n",
       " 'want nobody get hurt',\n",
       " 'keep something secret',\n",
       " 'tell insult owner offer',\n",
       " 'idiot',\n",
       " 'try skip',\n",
       " 'get roof',\n",
       " 'got ta get key',\n",
       " 'start without',\n",
       " 'going introduce friend',\n",
       " 'except blurt total confession',\n",
       " 'look lovely',\n",
       " 'complication',\n",
       " 'never believe u',\n",
       " 'good see home folk',\n",
       " 'would like proudly present newest member person family person',\n",
       " 'got wife family person',\n",
       " 'coffin eaten worm',\n",
       " 'wake tell dreamt',\n",
       " 'need talk actually catch feel weird',\n",
       " 'sure friend',\n",
       " 'fuckin machine took quarter',\n",
       " 'got plenty location',\n",
       " 'like old time',\n",
       " 'silly little girl wanted give kind party',\n",
       " 'right',\n",
       " 'better carry around time',\n",
       " 'know',\n",
       " 'rare specimen',\n",
       " 'hey talk like',\n",
       " 'two people world know maxim',\n",
       " 'great intellectual',\n",
       " 'please stop',\n",
       " 'unpleasant',\n",
       " 'saying thing',\n",
       " 'ask careful',\n",
       " 'like jazz pal',\n",
       " 'put',\n",
       " 'ever imagine person spot like',\n",
       " 'think top gun able tell somebody following u']"
      ]
     },
     "execution_count": 35,
     "metadata": {},
     "output_type": "execute_result"
    }
   ],
   "source": [
    "cleaned_documents"
   ]
  },
  {
   "cell_type": "code",
   "execution_count": 36,
   "id": "ecbac710",
   "metadata": {},
   "outputs": [],
   "source": [
    "dev['Cleaned Documents'] = cleaned_documents"
   ]
  },
  {
   "cell_type": "code",
   "execution_count": 37,
   "id": "b28ef88b",
   "metadata": {},
   "outputs": [
    {
     "data": {
      "text/html": [
       "<div>\n",
       "<style scoped>\n",
       "    .dataframe tbody tr th:only-of-type {\n",
       "        vertical-align: middle;\n",
       "    }\n",
       "\n",
       "    .dataframe tbody tr th {\n",
       "        vertical-align: top;\n",
       "    }\n",
       "\n",
       "    .dataframe thead th {\n",
       "        text-align: right;\n",
       "    }\n",
       "</style>\n",
       "<table border=\"1\" class=\"dataframe\">\n",
       "  <thead>\n",
       "    <tr style=\"text-align: right;\">\n",
       "      <th></th>\n",
       "      <th>sentence</th>\n",
       "      <th>emotion</th>\n",
       "      <th>word_count</th>\n",
       "      <th>Cleaned Documents</th>\n",
       "    </tr>\n",
       "  </thead>\n",
       "  <tbody>\n",
       "    <tr>\n",
       "      <th>0</th>\n",
       "      <td>What happens to the gold in our safe ?</td>\n",
       "      <td>4</td>\n",
       "      <td>9</td>\n",
       "      <td>happens gold safe</td>\n",
       "    </tr>\n",
       "    <tr>\n",
       "      <th>1</th>\n",
       "      <td>Natural to get cold feet .</td>\n",
       "      <td>8</td>\n",
       "      <td>6</td>\n",
       "      <td>natural get cold foot</td>\n",
       "    </tr>\n",
       "    <tr>\n",
       "      <th>2</th>\n",
       "      <td>Not very lucky , is he ?</td>\n",
       "      <td>7</td>\n",
       "      <td>7</td>\n",
       "      <td>lucky</td>\n",
       "    </tr>\n",
       "    <tr>\n",
       "      <th>3</th>\n",
       "      <td>I'm just a little anxious to get up there and ...</td>\n",
       "      <td>2</td>\n",
       "      <td>17</td>\n",
       "      <td>little anxious get whoop et as</td>\n",
       "    </tr>\n",
       "    <tr>\n",
       "      <th>4</th>\n",
       "      <td>Did you think we don't know about your affair ...</td>\n",
       "      <td>1</td>\n",
       "      <td>14</td>\n",
       "      <td>think know affair government official</td>\n",
       "    </tr>\n",
       "  </tbody>\n",
       "</table>\n",
       "</div>"
      ],
      "text/plain": [
       "                                            sentence  emotion  word_count  \\\n",
       "0             What happens to the gold in our safe ?        4           9   \n",
       "1                         Natural to get cold feet .        8           6   \n",
       "2                           Not very lucky , is he ?        7           7   \n",
       "3  I'm just a little anxious to get up there and ...        2          17   \n",
       "4  Did you think we don't know about your affair ...        1          14   \n",
       "\n",
       "                       Cleaned Documents  \n",
       "0                      happens gold safe  \n",
       "1                  natural get cold foot  \n",
       "2                                  lucky  \n",
       "3         little anxious get whoop et as  \n",
       "4  think know affair government official  "
      ]
     },
     "execution_count": 37,
     "metadata": {},
     "output_type": "execute_result"
    }
   ],
   "source": [
    "dev.head()"
   ]
  },
  {
   "cell_type": "code",
   "execution_count": 38,
   "id": "85fa066d",
   "metadata": {},
   "outputs": [
    {
     "data": {
      "text/plain": [
       "\"plt.figure(figsize=(20,10))\\nsns.countplot(x='Emotion Level', data = dev)\\nplt.show()\""
      ]
     },
     "execution_count": 38,
     "metadata": {},
     "output_type": "execute_result"
    }
   ],
   "source": [
    "'''plt.figure(figsize=(20,10))\n",
    "sns.countplot(x='Emotion Level', data = dev)\n",
    "plt.show()'''"
   ]
  },
  {
   "cell_type": "code",
   "execution_count": 39,
   "id": "c50c75f4",
   "metadata": {},
   "outputs": [
    {
     "data": {
      "text/html": [
       "<div>\n",
       "<style scoped>\n",
       "    .dataframe tbody tr th:only-of-type {\n",
       "        vertical-align: middle;\n",
       "    }\n",
       "\n",
       "    .dataframe tbody tr th {\n",
       "        vertical-align: top;\n",
       "    }\n",
       "\n",
       "    .dataframe thead th {\n",
       "        text-align: right;\n",
       "    }\n",
       "</style>\n",
       "<table border=\"1\" class=\"dataframe\">\n",
       "  <thead>\n",
       "    <tr style=\"text-align: right;\">\n",
       "      <th></th>\n",
       "      <th>sentence</th>\n",
       "      <th>emotion</th>\n",
       "      <th>word_count</th>\n",
       "      <th>Cleaned Documents</th>\n",
       "    </tr>\n",
       "  </thead>\n",
       "  <tbody>\n",
       "    <tr>\n",
       "      <th>0</th>\n",
       "      <td>What happens to the gold in our safe ?</td>\n",
       "      <td>4</td>\n",
       "      <td>9</td>\n",
       "      <td>happens gold safe</td>\n",
       "    </tr>\n",
       "  </tbody>\n",
       "</table>\n",
       "</div>"
      ],
      "text/plain": [
       "                                 sentence  emotion  word_count  \\\n",
       "0  What happens to the gold in our safe ?        4           9   \n",
       "\n",
       "   Cleaned Documents  \n",
       "0  happens gold safe  "
      ]
     },
     "execution_count": 39,
     "metadata": {},
     "output_type": "execute_result"
    }
   ],
   "source": [
    "dev.head(1)"
   ]
  },
  {
   "cell_type": "code",
   "execution_count": 40,
   "id": "17be522b",
   "metadata": {},
   "outputs": [
    {
     "data": {
      "text/html": [
       "<div>\n",
       "<style scoped>\n",
       "    .dataframe tbody tr th:only-of-type {\n",
       "        vertical-align: middle;\n",
       "    }\n",
       "\n",
       "    .dataframe tbody tr th {\n",
       "        vertical-align: top;\n",
       "    }\n",
       "\n",
       "    .dataframe thead th {\n",
       "        text-align: right;\n",
       "    }\n",
       "</style>\n",
       "<table border=\"1\" class=\"dataframe\">\n",
       "  <thead>\n",
       "    <tr style=\"text-align: right;\">\n",
       "      <th></th>\n",
       "      <th>sentence</th>\n",
       "      <th>emotion</th>\n",
       "      <th>word_count</th>\n",
       "      <th>Cleaned Documents</th>\n",
       "    </tr>\n",
       "  </thead>\n",
       "  <tbody>\n",
       "    <tr>\n",
       "      <th>0</th>\n",
       "      <td>I'm too old to be traded in .</td>\n",
       "      <td>6</td>\n",
       "      <td>8</td>\n",
       "      <td>old traded</td>\n",
       "    </tr>\n",
       "  </tbody>\n",
       "</table>\n",
       "</div>"
      ],
      "text/plain": [
       "                        sentence  emotion  word_count Cleaned Documents\n",
       "0  I'm too old to be traded in .        6           8        old traded"
      ]
     },
     "execution_count": 40,
     "metadata": {},
     "output_type": "execute_result"
    }
   ],
   "source": [
    "train.head(1)"
   ]
  },
  {
   "cell_type": "markdown",
   "id": "f1a0dcec",
   "metadata": {},
   "source": [
    "#  4.Apply Machine learning models\n",
    "\n",
    "+ Naïve Bayes\n",
    "+ Logistic Regression\n",
    "+ SVC\n",
    "+ Linear SVC\n",
    "+ Random Forest Classifier\n",
    "+ Decision Tree Classifier"
   ]
  },
  {
   "cell_type": "markdown",
   "id": "511cadd6",
   "metadata": {},
   "source": [
    "##   4.1. Naïve Bayes "
   ]
  },
  {
   "cell_type": "code",
   "execution_count": 41,
   "id": "b2a31d57",
   "metadata": {},
   "outputs": [],
   "source": [
    "Xfeatures = train['Cleaned Documents']"
   ]
  },
  {
   "cell_type": "code",
   "execution_count": 42,
   "id": "9b3d37dc",
   "metadata": {},
   "outputs": [],
   "source": [
    "ylabels = train['emotion']"
   ]
  },
  {
   "cell_type": "code",
   "execution_count": 43,
   "id": "6d42ef0a",
   "metadata": {},
   "outputs": [],
   "source": [
    "cv = CountVectorizer()\n",
    "X = cv.fit_transform(Xfeatures)"
   ]
  },
  {
   "cell_type": "code",
   "execution_count": 44,
   "id": "b09a5823",
   "metadata": {},
   "outputs": [],
   "source": [
    "#cv.get_feature_names()"
   ]
  },
  {
   "cell_type": "code",
   "execution_count": 45,
   "id": "bf016f12",
   "metadata": {},
   "outputs": [],
   "source": [
    "X_train,X_test,y_train,y_test = train_test_split(X,ylabels,test_size=0.0714,random_state=42)"
   ]
  },
  {
   "cell_type": "code",
   "execution_count": 46,
   "id": "c38c0de7",
   "metadata": {},
   "outputs": [
    {
     "data": {
      "text/plain": [
       "MultinomialNB()"
      ]
     },
     "execution_count": 46,
     "metadata": {},
     "output_type": "execute_result"
    }
   ],
   "source": [
    "nv_model = MultinomialNB()\n",
    "nv_model.fit(X_train, y_train)"
   ]
  },
  {
   "cell_type": "code",
   "execution_count": 47,
   "id": "c56d468f",
   "metadata": {},
   "outputs": [
    {
     "data": {
      "text/plain": [
       "0.347"
      ]
     },
     "execution_count": 47,
     "metadata": {},
     "output_type": "execute_result"
    }
   ],
   "source": [
    "nv_model.score(X_test, y_test)"
   ]
  },
  {
   "cell_type": "markdown",
   "id": "dd348f6c",
   "metadata": {},
   "source": [
    "## 4.1(a)dev Set Prediction  "
   ]
  },
  {
   "cell_type": "code",
   "execution_count": 48,
   "id": "6b05adaa",
   "metadata": {},
   "outputs": [],
   "source": [
    "dev_data = dev['Cleaned Documents']"
   ]
  },
  {
   "cell_type": "code",
   "execution_count": 49,
   "id": "04010e75",
   "metadata": {},
   "outputs": [],
   "source": [
    "vect = cv.transform(dev_data)"
   ]
  },
  {
   "cell_type": "code",
   "execution_count": 50,
   "id": "c52fc7ed",
   "metadata": {},
   "outputs": [],
   "source": [
    "y_pred_for_nv= nv_model.predict(vect)"
   ]
  },
  {
   "cell_type": "code",
   "execution_count": 51,
   "id": "cf226daf",
   "metadata": {},
   "outputs": [],
   "source": [
    "#y_pred_for_nv"
   ]
  },
  {
   "cell_type": "code",
   "execution_count": 52,
   "id": "86c82839",
   "metadata": {},
   "outputs": [
    {
     "data": {
      "text/plain": [
       "array([[0.06354854, 0.15342049, 0.09099773, ..., 0.06638237, 0.01875059,\n",
       "        0.37183962],\n",
       "       [0.41235649, 0.10437473, 0.05189272, ..., 0.10410166, 0.02834037,\n",
       "        0.085043  ],\n",
       "       [0.15364253, 0.13029808, 0.04761775, ..., 0.05109078, 0.09741227,\n",
       "        0.13275238],\n",
       "       ...,\n",
       "       [0.49238452, 0.15509803, 0.07848131, ..., 0.04678077, 0.0445973 ,\n",
       "        0.07293206],\n",
       "       [0.06574644, 0.23234876, 0.11803872, ..., 0.14184633, 0.08651571,\n",
       "        0.15573897],\n",
       "       [0.47676414, 0.04009138, 0.0042033 , ..., 0.01339058, 0.02473862,\n",
       "        0.05379083]])"
      ]
     },
     "execution_count": 52,
     "metadata": {},
     "output_type": "execute_result"
    }
   ],
   "source": [
    "nv_model.predict_proba(vect)"
   ]
  },
  {
   "cell_type": "markdown",
   "id": "ac137060",
   "metadata": {},
   "source": [
    "## 4.1(b) Model Evaluation "
   ]
  },
  {
   "cell_type": "code",
   "execution_count": 53,
   "id": "e7c1ae30",
   "metadata": {},
   "outputs": [
    {
     "name": "stdout",
     "output_type": "stream",
     "text": [
      "              precision    recall  f1-score   support\n",
      "\n",
      "           1       0.32      0.67      0.43       211\n",
      "           2       0.35      0.39      0.37       170\n",
      "           3       0.09      0.03      0.04        77\n",
      "           4       0.40      0.18      0.25       104\n",
      "           5       0.42      0.36      0.39        97\n",
      "           6       0.31      0.18      0.23        87\n",
      "           7       0.40      0.08      0.14        96\n",
      "           8       0.37      0.34      0.35       158\n",
      "\n",
      "    accuracy                           0.34      1000\n",
      "   macro avg       0.33      0.28      0.28      1000\n",
      "weighted avg       0.34      0.34      0.31      1000\n",
      "\n"
     ]
    }
   ],
   "source": [
    "print(classification_report(dev['emotion'], y_pred_for_nv))"
   ]
  },
  {
   "cell_type": "markdown",
   "id": "1e0e1774",
   "metadata": {},
   "source": [
    "## 4.2. Logistic Regression "
   ]
  },
  {
   "cell_type": "code",
   "execution_count": 54,
   "id": "cb72c5b5",
   "metadata": {},
   "outputs": [],
   "source": [
    "Xfeatures = train['Cleaned Documents']\n",
    "ylabels = train['emotion']"
   ]
  },
  {
   "cell_type": "code",
   "execution_count": 55,
   "id": "424880d2",
   "metadata": {},
   "outputs": [],
   "source": [
    "x_train,x_test,y_train,y_test = train_test_split(Xfeatures,ylabels,test_size=0.0714,random_state=42)"
   ]
  },
  {
   "cell_type": "code",
   "execution_count": 56,
   "id": "cf57e7be",
   "metadata": {},
   "outputs": [],
   "source": [
    "pipe_lr = Pipeline(steps=[('cv',CountVectorizer()),('lr',LogisticRegression())])"
   ]
  },
  {
   "cell_type": "code",
   "execution_count": 57,
   "id": "f618a407",
   "metadata": {},
   "outputs": [
    {
     "data": {
      "text/plain": [
       "Pipeline(steps=[('cv', CountVectorizer()), ('lr', LogisticRegression())])"
      ]
     },
     "execution_count": 57,
     "metadata": {},
     "output_type": "execute_result"
    }
   ],
   "source": [
    "# Train and Fit Data\n",
    "pipe_lr.fit(x_train,y_train)"
   ]
  },
  {
   "cell_type": "code",
   "execution_count": 58,
   "id": "124e8ba3",
   "metadata": {},
   "outputs": [
    {
     "data": {
      "text/plain": [
       "Pipeline(steps=[('cv', CountVectorizer()), ('lr', LogisticRegression())])"
      ]
     },
     "execution_count": 58,
     "metadata": {},
     "output_type": "execute_result"
    }
   ],
   "source": [
    "pipe_lr"
   ]
  },
  {
   "cell_type": "code",
   "execution_count": 59,
   "id": "7de83e6c",
   "metadata": {},
   "outputs": [
    {
     "data": {
      "text/plain": [
       "0.357"
      ]
     },
     "execution_count": 59,
     "metadata": {},
     "output_type": "execute_result"
    }
   ],
   "source": [
    "# Check Accuracy\n",
    "pipe_lr.score(x_test,y_test)"
   ]
  },
  {
   "cell_type": "markdown",
   "id": "006c875c",
   "metadata": {},
   "source": [
    "## 4.2(a)dev Set Prediction  "
   ]
  },
  {
   "cell_type": "code",
   "execution_count": 60,
   "id": "6977f95d",
   "metadata": {},
   "outputs": [],
   "source": [
    "dev_data = dev['Cleaned Documents']"
   ]
  },
  {
   "cell_type": "code",
   "execution_count": 61,
   "id": "6805fac0",
   "metadata": {},
   "outputs": [],
   "source": [
    "y_pred_for_lr = pipe_lr.predict(dev_data)"
   ]
  },
  {
   "cell_type": "code",
   "execution_count": 62,
   "id": "a6e324d3",
   "metadata": {},
   "outputs": [],
   "source": [
    "#y_pred_for_lr"
   ]
  },
  {
   "cell_type": "code",
   "execution_count": 63,
   "id": "eb2ce7b8",
   "metadata": {},
   "outputs": [
    {
     "data": {
      "text/plain": [
       "array([[0.04065254, 0.22196298, 0.08563792, ..., 0.06297812, 0.03011777,\n",
       "        0.23586524],\n",
       "       [0.2933317 , 0.05357826, 0.06228129, ..., 0.17050553, 0.03993948,\n",
       "        0.12284339],\n",
       "       [0.13371383, 0.09858545, 0.03658056, ..., 0.04614224, 0.11059248,\n",
       "        0.08202039],\n",
       "       ...,\n",
       "       [0.44937713, 0.15510439, 0.07184807, ..., 0.05624947, 0.08403075,\n",
       "        0.06742404],\n",
       "       [0.06665955, 0.09613275, 0.13975601, ..., 0.13284066, 0.11653637,\n",
       "        0.15345991],\n",
       "       [0.11653311, 0.02131349, 0.01362134, ..., 0.01991922, 0.07359784,\n",
       "        0.03357907]])"
      ]
     },
     "execution_count": 63,
     "metadata": {},
     "output_type": "execute_result"
    }
   ],
   "source": [
    "# Prediction Prob\n",
    "pipe_lr.predict_proba(dev_data)"
   ]
  },
  {
   "cell_type": "code",
   "execution_count": 64,
   "id": "c9a18b61",
   "metadata": {},
   "outputs": [
    {
     "data": {
      "text/plain": [
       "array([1, 2, 3, 4, 5, 6, 7, 8], dtype=int64)"
      ]
     },
     "execution_count": 64,
     "metadata": {},
     "output_type": "execute_result"
    }
   ],
   "source": [
    "pipe_lr.classes_"
   ]
  },
  {
   "cell_type": "markdown",
   "id": "26315b0f",
   "metadata": {},
   "source": [
    "## 4.2(b) Model Evaluation "
   ]
  },
  {
   "cell_type": "code",
   "execution_count": 65,
   "id": "60dbb3c5",
   "metadata": {},
   "outputs": [
    {
     "name": "stdout",
     "output_type": "stream",
     "text": [
      "              precision    recall  f1-score   support\n",
      "\n",
      "           1       0.34      0.56      0.42       211\n",
      "           2       0.39      0.41      0.40       170\n",
      "           3       0.24      0.14      0.18        77\n",
      "           4       0.36      0.25      0.29       104\n",
      "           5       0.39      0.39      0.39        97\n",
      "           6       0.26      0.20      0.22        87\n",
      "           7       0.32      0.23      0.27        96\n",
      "           8       0.38      0.32      0.35       158\n",
      "\n",
      "    accuracy                           0.35      1000\n",
      "   macro avg       0.34      0.31      0.32      1000\n",
      "weighted avg       0.35      0.35      0.34      1000\n",
      "\n"
     ]
    }
   ],
   "source": [
    "print(classification_report(dev['emotion'], y_pred_for_lr))"
   ]
  },
  {
   "cell_type": "code",
   "execution_count": 66,
   "id": "11e4d384",
   "metadata": {},
   "outputs": [
    {
     "data": {
      "text/plain": [
       "array([[118,  42,  32,  39,  15,  27,  29,  43],\n",
       "       [ 26,  69,  12,   6,  14,  12,  12,  24],\n",
       "       [ 12,   6,  11,   4,   3,   2,   1,   6],\n",
       "       [ 14,   8,   3,  26,   4,   7,   8,   3],\n",
       "       [  2,  13,   4,   5,  38,  11,   8,  17],\n",
       "       [ 17,   3,   5,   6,   5,  17,   5,   7],\n",
       "       [  8,  10,   3,   7,   6,   5,  22,   8],\n",
       "       [ 14,  19,   7,  11,  12,   6,  11,  50]], dtype=int64)"
      ]
     },
     "execution_count": 66,
     "metadata": {},
     "output_type": "execute_result"
    }
   ],
   "source": [
    "from sklearn.metrics import confusion_matrix\n",
    "confusion_matrix(y_pred_for_lr,dev['emotion'])"
   ]
  },
  {
   "cell_type": "code",
   "execution_count": 68,
   "id": "143795ab",
   "metadata": {},
   "outputs": [
    {
     "data": {
      "image/png": "[encoded data removed]",
      "text/plain": [
       "<Figure size 432x288 with 2 Axes>"
      ]
     },
     "metadata": {
      "needs_background": "light"
     },
     "output_type": "display_data"
    }
   ],
   "source": [
    "labels = {\"Anger\": 1, \"Anticipation\": 2, \"Disgust\": 3, \"Fear\": 4, \"Joy\": 5, 'Sadness' : 6 ,'Surprise':7, 'Trust': 8}\n",
    "y = np.array(dev[\"emotion\"])\n",
    "import numpy as np\n",
    "import matplotlib.pyplot as plt\n",
    "\n",
    "def plot_cm(confusion_matrix : np.array, \n",
    "            classnames : list):\n",
    "    \"\"\"\n",
    "    Function that creates a confusion matrix plot using the Wikipedia convention for the axis. \n",
    "    :param confusion_matrix: confusion matrix that will be plotted\n",
    "    :param classnames: labels of the classes\n",
    "    \n",
    "    Returns:\n",
    "        - Plot of the Confusion Matrix\n",
    "    \"\"\"\n",
    "    \n",
    "    confusionmatrix = confusion_matrix\n",
    "    class_names = classnames             \n",
    "\n",
    "    fig, ax = plt.subplots()\n",
    "    im = plt.imshow(confusionmatrix, cmap=plt.cm.RdYlBu)\n",
    "    plt.colorbar()\n",
    "\n",
    "    # We want to show all ticks...\n",
    "    ax.set_xticks(np.arange(len(class_names)))\n",
    "    ax.set_yticks(np.arange(len(class_names)))\n",
    "    # ... and label them with the respective list entries\n",
    "    ax.set_xticklabels(class_names)\n",
    "    ax.set_yticklabels(class_names)\n",
    "\n",
    "    # Rotate the tick labels and set their alignment.\n",
    "    plt.setp(ax.get_xticklabels(), rotation=45, ha=\"right\",\n",
    "             rotation_mode=\"anchor\")\n",
    "\n",
    "    # Loop over data dimensions and create text annotations.\n",
    "    for i in range(len(class_names)):\n",
    "        for j in range(len(class_names)):\n",
    "            text = ax.text(j, i, confusionmatrix[i, j],\n",
    "                           ha=\"center\", va=\"center\", color=\"w\")\n",
    "\n",
    "    ax.set_title(\"Confusion Matrix\")\n",
    "    plt.xlabel('Targets')\n",
    "    plt.ylabel('Predictions')\n",
    "    plt.ylim(top=len(class_names)-0.5)  # adjust the top leaving bottom unchanged\n",
    "    plt.ylim(bottom=-0.5)  # adjust the bottom leaving top unchanged\n",
    "    return plt.show()\n",
    "\n",
    "plot_cm(confusion_matrix(y_pred_for_lr,dev['emotion']), labels.keys())"
   ]
  },
  {
   "cell_type": "markdown",
   "id": "16e1e84a",
   "metadata": {},
   "source": [
    "## 4.3. SVC "
   ]
  },
  {
   "cell_type": "code",
   "execution_count": 69,
   "id": "b667ddbc",
   "metadata": {},
   "outputs": [],
   "source": [
    "Xfeatures = train['Cleaned Documents']\n",
    "ylabels = train['emotion']"
   ]
  },
  {
   "cell_type": "code",
   "execution_count": 70,
   "id": "018e2bc9",
   "metadata": {},
   "outputs": [],
   "source": [
    "cv = CountVectorizer()\n",
    "X = cv.fit_transform(Xfeatures)"
   ]
  },
  {
   "cell_type": "code",
   "execution_count": 71,
   "id": "ee07c166",
   "metadata": {},
   "outputs": [],
   "source": [
    "x_train,x_test,y_train,y_test = train_test_split(X,ylabels,test_size=0.0714,random_state=42)"
   ]
  },
  {
   "cell_type": "code",
   "execution_count": 72,
   "id": "5b56f21e",
   "metadata": {},
   "outputs": [
    {
     "data": {
      "text/plain": [
       "SVC()"
      ]
     },
     "execution_count": 72,
     "metadata": {},
     "output_type": "execute_result"
    }
   ],
   "source": [
    "SVC_Model = SVC()\n",
    "SVC_Model.fit(X_train, y_train)"
   ]
  },
  {
   "cell_type": "code",
   "execution_count": 73,
   "id": "221d241b",
   "metadata": {},
   "outputs": [
    {
     "data": {
      "text/plain": [
       "0.349"
      ]
     },
     "execution_count": 73,
     "metadata": {},
     "output_type": "execute_result"
    }
   ],
   "source": [
    "SVC_Model.score(X_test, y_test)"
   ]
  },
  {
   "cell_type": "markdown",
   "id": "94e87760",
   "metadata": {},
   "source": [
    "## 4.3(a) dev Set Prediction  "
   ]
  },
  {
   "cell_type": "code",
   "execution_count": 75,
   "id": "915f01ee",
   "metadata": {},
   "outputs": [],
   "source": [
    "dev_data = dev['Cleaned Documents']"
   ]
  },
  {
   "cell_type": "code",
   "execution_count": 76,
   "id": "0d415ea8",
   "metadata": {},
   "outputs": [],
   "source": [
    "vect = cv.transform(dev_data)"
   ]
  },
  {
   "cell_type": "code",
   "execution_count": 77,
   "id": "cf062052",
   "metadata": {},
   "outputs": [],
   "source": [
    "y_pred_for_SVC= SVC_Model.predict(vect)"
   ]
  },
  {
   "cell_type": "code",
   "execution_count": 78,
   "id": "db717a0e",
   "metadata": {},
   "outputs": [
    {
     "data": {
      "text/plain": [
       "array([2, 1, 5, 1, 1, 1, 1, 2, 1, 5, 2, 1, 1, 8, 2, 1, 1, 1, 1, 2, 5, 5,\n",
       "       1, 4, 1, 1, 7, 1, 2, 2, 2, 2, 1, 1, 4, 8, 1, 3, 8, 2, 2, 4, 1, 8,\n",
       "       1, 2, 2, 1, 5, 1, 1, 2, 5, 5, 1, 1, 1, 1, 1, 1, 1, 2, 1, 8, 1, 3,\n",
       "       1, 8, 1, 1, 1, 7, 6, 8, 8, 1, 8, 1, 1, 3, 1, 1, 5, 1, 8, 1, 2, 4,\n",
       "       1, 1, 2, 8, 1, 1, 1, 1, 4, 1, 1, 1, 1, 8, 1, 1, 1, 1, 2, 2, 7, 7,\n",
       "       1, 8, 8, 1, 1, 1, 5, 5, 5, 1, 8, 8, 2, 1, 7, 3, 1, 5, 2, 1, 2, 1,\n",
       "       1, 1, 4, 1, 1, 5, 1, 2, 2, 5, 1, 1, 3, 8, 1, 6, 1, 1, 8, 1, 7, 1,\n",
       "       1, 2, 3, 5, 5, 1, 6, 2, 4, 5, 7, 8, 2, 6, 1, 1, 2, 1, 2, 1, 1, 6,\n",
       "       2, 1, 1, 1, 1, 5, 5, 8, 2, 2, 8, 5, 8, 8, 6, 1, 6, 4, 5, 2, 1, 1,\n",
       "       1, 1, 1, 2, 1, 7, 1, 7, 8, 1, 8, 1, 7, 1, 1, 8, 1, 1, 1, 1, 1, 1,\n",
       "       1, 1, 7, 7, 2, 1, 1, 6, 1, 1, 8, 8, 2, 1, 1, 5, 7, 8, 1, 8, 4, 1,\n",
       "       1, 1, 2, 1, 1, 5, 8, 1, 1, 6, 7, 1, 1, 4, 2, 1, 2, 1, 2, 1, 1, 4,\n",
       "       1, 1, 4, 1, 2, 1, 1, 1, 2, 1, 2, 2, 1, 1, 8, 1, 1, 1, 1, 8, 1, 8,\n",
       "       1, 8, 1, 8, 1, 6, 8, 6, 1, 7, 5, 2, 1, 8, 7, 2, 2, 1, 1, 1, 1, 2,\n",
       "       8, 1, 2, 1, 1, 1, 8, 5, 8, 1, 8, 8, 2, 2, 1, 2, 8, 8, 5, 8, 1, 2,\n",
       "       8, 1, 2, 1, 1, 2, 1, 1, 2, 1, 5, 2, 8, 2, 7, 8, 1, 2, 2, 1, 1, 1,\n",
       "       2, 8, 1, 1, 1, 1, 8, 2, 1, 8, 2, 1, 1, 1, 6, 1, 7, 1, 1, 2, 1, 2,\n",
       "       2, 1, 6, 5, 1, 1, 1, 1, 2, 1, 1, 2, 1, 1, 1, 1, 1, 8, 2, 7, 1, 1,\n",
       "       2, 1, 1, 1, 8, 1, 1, 1, 1, 1, 8, 1, 1, 1, 8, 4, 5, 1, 1, 1, 4, 1,\n",
       "       2, 1, 1, 1, 6, 2, 1, 2, 5, 1, 1, 1, 1, 5, 1, 3, 1, 6, 1, 5, 8, 2,\n",
       "       1, 1, 2, 1, 2, 2, 1, 8, 8, 6, 1, 1, 2, 1, 1, 8, 8, 8, 1, 2, 1, 1,\n",
       "       1, 1, 8, 4, 8, 1, 1, 1, 1, 1, 2, 4, 8, 1, 2, 1, 1, 1, 1, 1, 1, 1,\n",
       "       1, 1, 1, 1, 1, 1, 1, 3, 4, 1, 2, 1, 1, 5, 2, 5, 1, 8, 1, 4, 8, 8,\n",
       "       1, 1, 1, 4, 2, 2, 3, 1, 5, 1, 2, 8, 4, 1, 2, 1, 4, 8, 5, 1, 1, 1,\n",
       "       1, 1, 1, 2, 1, 1, 4, 8, 5, 5, 1, 3, 1, 2, 8, 1, 1, 1, 1, 1, 1, 8,\n",
       "       2, 2, 1, 1, 5, 1, 2, 2, 1, 1, 2, 1, 8, 3, 1, 5, 1, 1, 1, 2, 1, 1,\n",
       "       5, 1, 8, 4, 2, 2, 5, 1, 1, 1, 1, 1, 5, 2, 1, 1, 1, 5, 2, 1, 4, 1,\n",
       "       2, 2, 5, 4, 1, 8, 2, 1, 7, 1, 7, 1, 8, 1, 1, 6, 2, 1, 1, 1, 5, 1,\n",
       "       8, 1, 5, 1, 1, 1, 5, 1, 2, 8, 1, 3, 1, 3, 1, 8, 5, 3, 2, 1, 1, 1,\n",
       "       2, 4, 1, 1, 1, 8, 1, 1, 1, 2, 1, 6, 1, 1, 8, 5, 5, 5, 1, 4, 7, 1,\n",
       "       1, 1, 8, 1, 1, 1, 1, 1, 8, 1, 1, 2, 5, 1, 1, 6, 1, 2, 5, 8, 1, 1,\n",
       "       5, 1, 1, 1, 5, 1, 1, 3, 1, 1, 7, 1, 1, 1, 1, 1, 1, 5, 2, 1, 1, 1,\n",
       "       2, 2, 2, 5, 5, 8, 1, 1, 1, 1, 1, 2, 1, 3, 1, 1, 2, 1, 1, 1, 1, 1,\n",
       "       1, 2, 1, 1, 1, 1, 8, 1, 1, 4, 6, 5, 1, 1, 2, 4, 1, 2, 1, 2, 1, 1,\n",
       "       5, 1, 2, 8, 1, 8, 1, 1, 1, 2, 1, 8, 7, 1, 8, 1, 1, 2, 8, 6, 2, 2,\n",
       "       6, 1, 4, 1, 1, 8, 5, 1, 1, 1, 1, 8, 1, 1, 1, 2, 1, 2, 7, 1, 5, 1,\n",
       "       5, 1, 3, 1, 1, 1, 1, 1, 1, 1, 5, 1, 8, 1, 1, 1, 1, 1, 1, 1, 1, 6,\n",
       "       8, 1, 5, 2, 1, 1, 1, 1, 4, 1, 1, 2, 1, 7, 8, 6, 1, 8, 1, 1, 8, 1,\n",
       "       1, 2, 8, 5, 1, 3, 2, 2, 6, 2, 5, 1, 8, 8, 2, 2, 4, 1, 6, 3, 1, 1,\n",
       "       7, 8, 2, 8, 4, 2, 2, 1, 1, 1, 8, 5, 4, 6, 1, 1, 7, 1, 1, 1, 1, 8,\n",
       "       1, 6, 1, 1, 2, 1, 5, 8, 5, 5, 1, 1, 1, 2, 1, 1, 1, 1, 1, 1, 1, 1,\n",
       "       1, 1, 7, 1, 1, 2, 1, 5, 1, 4, 1, 2, 1, 1, 2, 5, 2, 1, 1, 1, 5, 2,\n",
       "       1, 1, 2, 5, 1, 2, 1, 8, 1, 1, 1, 1, 5, 1, 1, 1, 1, 1, 1, 1, 6, 8,\n",
       "       2, 2, 1, 1, 5, 4, 1, 1, 2, 1, 6, 1, 2, 1, 3, 1, 8, 1, 1, 1, 1, 1,\n",
       "       1, 2, 1, 5, 1, 7, 5, 1, 8, 1, 1, 1, 8, 1, 2, 5, 2, 8, 1, 8, 1, 1,\n",
       "       1, 5, 1, 1, 1, 4, 5, 1, 1, 1], dtype=int64)"
      ]
     },
     "execution_count": 78,
     "metadata": {},
     "output_type": "execute_result"
    }
   ],
   "source": [
    "y_pred_for_SVC"
   ]
  },
  {
   "cell_type": "code",
   "execution_count": 79,
   "id": "6c92e02c",
   "metadata": {},
   "outputs": [
    {
     "data": {
      "text/plain": [
       "array([1, 2, 3, 4, 5, 6, 7, 8], dtype=int64)"
      ]
     },
     "execution_count": 79,
     "metadata": {},
     "output_type": "execute_result"
    }
   ],
   "source": [
    "SVC_Model.classes_"
   ]
  },
  {
   "cell_type": "markdown",
   "id": "c06645a9",
   "metadata": {},
   "source": [
    "## 4.3(b) Model Evaluation "
   ]
  },
  {
   "cell_type": "code",
   "execution_count": 81,
   "id": "5d3af667",
   "metadata": {},
   "outputs": [
    {
     "name": "stdout",
     "output_type": "stream",
     "text": [
      "              precision    recall  f1-score   support\n",
      "\n",
      "           1       0.30      0.76      0.43       211\n",
      "           2       0.38      0.34      0.36       170\n",
      "           3       0.15      0.04      0.06        77\n",
      "           4       0.32      0.12      0.17       104\n",
      "           5       0.41      0.35      0.38        97\n",
      "           6       0.23      0.08      0.12        87\n",
      "           7       0.33      0.10      0.16        96\n",
      "           8       0.38      0.27      0.32       158\n",
      "\n",
      "    accuracy                           0.33      1000\n",
      "   macro avg       0.31      0.26      0.25      1000\n",
      "weighted avg       0.32      0.33      0.29      1000\n",
      "\n"
     ]
    }
   ],
   "source": [
    "print(classification_report(dev['emotion'], y_pred_for_SVC))"
   ]
  },
  {
   "cell_type": "markdown",
   "id": "c47c4d8b",
   "metadata": {},
   "source": [
    "## 4.4. Linear SVC  "
   ]
  },
  {
   "cell_type": "code",
   "execution_count": 82,
   "id": "fc106b60",
   "metadata": {},
   "outputs": [],
   "source": [
    "Xfeatures = train['Cleaned Documents']\n",
    "ylabels = train['emotion']"
   ]
  },
  {
   "cell_type": "code",
   "execution_count": 83,
   "id": "447a6d50",
   "metadata": {},
   "outputs": [],
   "source": [
    "cv = CountVectorizer()\n",
    "X = cv.fit_transform(Xfeatures)"
   ]
  },
  {
   "cell_type": "code",
   "execution_count": 84,
   "id": "d2ff03f4",
   "metadata": {},
   "outputs": [],
   "source": [
    "x_train,x_test,y_train,y_test = train_test_split(X,ylabels,test_size=0.0714,random_state=42)"
   ]
  },
  {
   "cell_type": "code",
   "execution_count": 85,
   "id": "22b479a9",
   "metadata": {},
   "outputs": [
    {
     "data": {
      "text/plain": [
       "LinearSVC()"
      ]
     },
     "execution_count": 85,
     "metadata": {},
     "output_type": "execute_result"
    }
   ],
   "source": [
    "LinearSVC_Model = LinearSVC()\n",
    "#pipe = Pipeline([('tfidf' ,TfidfVectorizer()),'model', LinearSVC ])\n",
    "\n",
    "#pipe = Pipeline(steps=[('tfidf',TfidfVectorizer(sublinear_tf=True, min_df=5,\n",
    "                       # ngram_range=(1, 2), \n",
    "                       # stop_words='english')),('model',LinearSVC())])\n",
    "LinearSVC_Model.fit(X_train, y_train)"
   ]
  },
  {
   "cell_type": "code",
   "execution_count": 86,
   "id": "ab110a91",
   "metadata": {},
   "outputs": [
    {
     "data": {
      "text/plain": [
       "0.33"
      ]
     },
     "execution_count": 86,
     "metadata": {},
     "output_type": "execute_result"
    }
   ],
   "source": [
    "LinearSVC_Model.score(X_test, y_test)"
   ]
  },
  {
   "cell_type": "markdown",
   "id": "8a154d78",
   "metadata": {},
   "source": [
    "##  4.4(a) dev Set Prediction  "
   ]
  },
  {
   "cell_type": "code",
   "execution_count": 87,
   "id": "501ff0d8",
   "metadata": {},
   "outputs": [],
   "source": [
    "dev_data = dev['Cleaned Documents']"
   ]
  },
  {
   "cell_type": "code",
   "execution_count": 88,
   "id": "b57479e8",
   "metadata": {},
   "outputs": [],
   "source": [
    "vect = cv.transform(dev_data)"
   ]
  },
  {
   "cell_type": "code",
   "execution_count": 89,
   "id": "926a479b",
   "metadata": {},
   "outputs": [],
   "source": [
    "y_pred_for_LinearSVC = LinearSVC_Model.predict(vect)"
   ]
  },
  {
   "cell_type": "code",
   "execution_count": 90,
   "id": "5bf7caad",
   "metadata": {},
   "outputs": [
    {
     "data": {
      "text/plain": [
       "array([2, 4, 5, 3, 1, 2, 1, 3, 4, 5, 1, 6, 1, 8, 7, 1, 1, 1, 1, 2, 5, 5,\n",
       "       3, 4, 7, 8, 5, 1, 3, 2, 2, 2, 5, 1, 4, 4, 7, 7, 8, 7, 6, 4, 1, 1,\n",
       "       1, 2, 1, 1, 5, 2, 2, 1, 5, 5, 6, 1, 1, 2, 1, 3, 1, 5, 1, 8, 6, 3,\n",
       "       8, 2, 1, 8, 7, 7, 6, 7, 8, 2, 8, 1, 2, 5, 2, 1, 5, 5, 8, 4, 2, 6,\n",
       "       8, 4, 7, 1, 7, 2, 5, 1, 4, 1, 8, 1, 1, 4, 7, 1, 1, 5, 6, 2, 7, 7,\n",
       "       1, 8, 1, 2, 1, 8, 5, 5, 5, 1, 6, 8, 1, 8, 7, 3, 6, 2, 2, 8, 2, 8,\n",
       "       8, 1, 4, 1, 1, 2, 1, 3, 2, 2, 5, 4, 8, 8, 1, 6, 1, 5, 3, 1, 7, 1,\n",
       "       1, 2, 3, 5, 7, 1, 6, 2, 4, 5, 8, 2, 2, 6, 6, 7, 2, 1, 2, 4, 1, 6,\n",
       "       2, 8, 1, 6, 5, 5, 7, 8, 2, 1, 8, 8, 8, 2, 6, 6, 6, 4, 2, 2, 2, 2,\n",
       "       1, 7, 1, 2, 1, 3, 1, 7, 8, 2, 8, 5, 7, 3, 7, 8, 1, 4, 2, 7, 1, 3,\n",
       "       5, 4, 5, 4, 5, 1, 2, 6, 2, 3, 2, 8, 2, 1, 2, 5, 7, 8, 2, 8, 8, 1,\n",
       "       8, 2, 1, 6, 8, 5, 1, 1, 1, 6, 7, 3, 1, 4, 6, 2, 1, 1, 3, 4, 1, 4,\n",
       "       1, 6, 4, 2, 8, 1, 1, 6, 6, 1, 2, 2, 1, 3, 8, 1, 1, 1, 1, 8, 3, 8,\n",
       "       2, 8, 2, 1, 4, 7, 1, 4, 6, 7, 5, 1, 1, 8, 7, 8, 8, 2, 7, 1, 5, 2,\n",
       "       8, 1, 2, 1, 4, 1, 8, 5, 8, 8, 8, 8, 2, 2, 6, 3, 8, 2, 5, 3, 2, 2,\n",
       "       8, 1, 8, 1, 1, 2, 3, 3, 4, 5, 5, 2, 8, 2, 7, 8, 2, 2, 6, 7, 8, 1,\n",
       "       8, 8, 6, 3, 8, 8, 8, 2, 1, 7, 8, 2, 7, 4, 3, 1, 6, 1, 7, 5, 1, 4,\n",
       "       4, 6, 6, 5, 1, 1, 1, 1, 2, 1, 6, 4, 1, 2, 1, 4, 4, 1, 2, 8, 4, 1,\n",
       "       2, 1, 1, 6, 8, 1, 1, 1, 5, 1, 8, 1, 1, 1, 1, 4, 5, 1, 1, 3, 4, 1,\n",
       "       2, 4, 1, 1, 6, 1, 1, 2, 5, 1, 8, 2, 4, 5, 1, 3, 1, 6, 1, 5, 8, 1,\n",
       "       1, 5, 4, 3, 4, 2, 7, 6, 8, 6, 2, 4, 7, 1, 1, 5, 8, 8, 1, 5, 3, 1,\n",
       "       1, 5, 8, 2, 8, 1, 7, 6, 4, 6, 2, 4, 8, 1, 5, 1, 1, 1, 5, 2, 4, 6,\n",
       "       1, 8, 4, 3, 5, 1, 4, 3, 8, 1, 2, 1, 3, 5, 2, 5, 1, 8, 1, 4, 8, 8,\n",
       "       4, 1, 1, 4, 2, 1, 3, 1, 5, 1, 1, 1, 8, 1, 5, 2, 4, 8, 7, 5, 1, 1,\n",
       "       1, 2, 8, 8, 6, 1, 4, 2, 2, 4, 2, 3, 7, 2, 8, 7, 8, 4, 4, 7, 6, 8,\n",
       "       2, 2, 2, 1, 5, 1, 2, 2, 1, 1, 2, 1, 8, 1, 1, 3, 6, 1, 1, 2, 1, 4,\n",
       "       7, 1, 8, 4, 1, 2, 5, 8, 1, 3, 2, 4, 6, 2, 2, 1, 1, 5, 2, 1, 4, 6,\n",
       "       2, 2, 2, 4, 2, 3, 5, 8, 7, 1, 7, 5, 2, 1, 1, 6, 5, 2, 2, 7, 5, 1,\n",
       "       4, 2, 5, 1, 5, 1, 1, 8, 2, 2, 1, 6, 1, 5, 6, 7, 5, 8, 2, 1, 8, 2,\n",
       "       2, 4, 1, 8, 1, 8, 6, 2, 6, 2, 1, 6, 3, 5, 8, 5, 6, 3, 8, 4, 7, 1,\n",
       "       1, 3, 7, 1, 3, 7, 1, 7, 8, 3, 3, 2, 5, 3, 1, 6, 7, 2, 5, 5, 4, 1,\n",
       "       5, 2, 8, 7, 2, 1, 8, 6, 6, 7, 8, 4, 1, 1, 2, 1, 2, 5, 2, 1, 8, 5,\n",
       "       2, 5, 1, 5, 1, 2, 1, 6, 7, 1, 1, 2, 1, 1, 6, 1, 2, 4, 1, 7, 4, 8,\n",
       "       7, 5, 1, 1, 1, 1, 5, 1, 7, 4, 6, 4, 6, 1, 1, 4, 1, 2, 2, 7, 1, 5,\n",
       "       5, 1, 2, 5, 1, 1, 1, 1, 8, 2, 2, 5, 7, 4, 8, 1, 1, 2, 8, 2, 2, 2,\n",
       "       4, 1, 3, 7, 7, 5, 5, 1, 7, 1, 1, 8, 8, 1, 6, 2, 4, 2, 6, 5, 5, 4,\n",
       "       5, 1, 4, 1, 6, 1, 3, 1, 6, 1, 5, 1, 6, 1, 7, 7, 4, 7, 1, 6, 3, 1,\n",
       "       2, 5, 2, 1, 3, 3, 1, 1, 4, 1, 1, 1, 3, 7, 8, 6, 1, 5, 5, 1, 8, 3,\n",
       "       1, 4, 6, 5, 1, 8, 2, 2, 6, 2, 5, 2, 7, 2, 2, 2, 6, 6, 6, 6, 7, 2,\n",
       "       7, 8, 2, 8, 4, 2, 2, 2, 1, 1, 8, 5, 2, 6, 1, 1, 5, 1, 6, 1, 4, 8,\n",
       "       6, 3, 1, 8, 2, 6, 5, 8, 5, 5, 1, 1, 2, 2, 6, 2, 6, 3, 7, 1, 1, 6,\n",
       "       6, 4, 8, 1, 4, 2, 3, 7, 1, 4, 8, 2, 8, 1, 2, 5, 4, 1, 1, 1, 5, 2,\n",
       "       1, 7, 2, 5, 1, 2, 6, 2, 3, 1, 4, 1, 5, 2, 1, 1, 4, 6, 8, 1, 4, 6,\n",
       "       2, 8, 4, 3, 5, 4, 8, 4, 2, 1, 6, 1, 8, 1, 3, 1, 8, 8, 1, 1, 1, 8,\n",
       "       1, 2, 4, 5, 6, 7, 5, 2, 8, 3, 2, 3, 8, 1, 2, 5, 2, 8, 4, 8, 7, 1,\n",
       "       1, 5, 1, 6, 1, 4, 8, 1, 3, 4], dtype=int64)"
      ]
     },
     "execution_count": 90,
     "metadata": {},
     "output_type": "execute_result"
    }
   ],
   "source": [
    "y_pred_for_LinearSVC"
   ]
  },
  {
   "cell_type": "code",
   "execution_count": 91,
   "id": "0d2a1b68",
   "metadata": {},
   "outputs": [
    {
     "data": {
      "text/plain": [
       "array([1, 2, 3, 4, 5, 6, 7, 8], dtype=int64)"
      ]
     },
     "execution_count": 91,
     "metadata": {},
     "output_type": "execute_result"
    }
   ],
   "source": [
    "LinearSVC_Model.classes_"
   ]
  },
  {
   "cell_type": "markdown",
   "id": "a6b296a3",
   "metadata": {},
   "source": [
    "## 4.4(b) Model Evaluation "
   ]
  },
  {
   "cell_type": "code",
   "execution_count": 92,
   "id": "ac593d3c",
   "metadata": {},
   "outputs": [
    {
     "name": "stdout",
     "output_type": "stream",
     "text": [
      "              precision    recall  f1-score   support\n",
      "\n",
      "           1       0.36      0.48      0.41       211\n",
      "           2       0.34      0.34      0.34       170\n",
      "           3       0.24      0.18      0.21        77\n",
      "           4       0.27      0.24      0.26       104\n",
      "           5       0.38      0.42      0.40        97\n",
      "           6       0.24      0.24      0.24        87\n",
      "           7       0.31      0.24      0.27        96\n",
      "           8       0.31      0.25      0.28       158\n",
      "\n",
      "    accuracy                           0.32      1000\n",
      "   macro avg       0.31      0.30      0.30      1000\n",
      "weighted avg       0.32      0.32      0.32      1000\n",
      "\n"
     ]
    }
   ],
   "source": [
    "print(classification_report(dev['emotion'], y_pred_for_LinearSVC))"
   ]
  },
  {
   "cell_type": "markdown",
   "id": "fb856b26",
   "metadata": {},
   "source": [
    "## 4.5. Random Forest Classifier "
   ]
  },
  {
   "cell_type": "code",
   "execution_count": 93,
   "id": "3441ef6e",
   "metadata": {},
   "outputs": [],
   "source": [
    "Xfeatures = train['Cleaned Documents']\n",
    "ylabels = train['emotion']"
   ]
  },
  {
   "cell_type": "code",
   "execution_count": 94,
   "id": "a1a90733",
   "metadata": {},
   "outputs": [],
   "source": [
    "cv = CountVectorizer()\n",
    "X = cv.fit_transform(Xfeatures)"
   ]
  },
  {
   "cell_type": "code",
   "execution_count": 95,
   "id": "6a5a4eb0",
   "metadata": {},
   "outputs": [],
   "source": [
    "x_train,x_test,y_train,y_test = train_test_split(X,ylabels,test_size=0.0714,random_state=42)"
   ]
  },
  {
   "cell_type": "code",
   "execution_count": 558,
   "id": "c0b9f58b",
   "metadata": {},
   "outputs": [
    {
     "data": {
      "text/plain": [
       "RandomForestClassifier()"
      ]
     },
     "execution_count": 558,
     "metadata": {},
     "output_type": "execute_result"
    }
   ],
   "source": [
    "RandomForestClassifier_Model = RandomForestClassifier()\n",
    "RandomForestClassifier_Model.fit(X_train, y_train)"
   ]
  },
  {
   "cell_type": "code",
   "execution_count": 559,
   "id": "85320054",
   "metadata": {},
   "outputs": [
    {
     "data": {
      "text/plain": [
       "0.313"
      ]
     },
     "execution_count": 559,
     "metadata": {},
     "output_type": "execute_result"
    }
   ],
   "source": [
    "RandomForestClassifier_Model.score(X_test, y_test)"
   ]
  },
  {
   "cell_type": "markdown",
   "id": "7680b4ad",
   "metadata": {},
   "source": [
    "## 4.5(a) dev Set Prediction  "
   ]
  },
  {
   "cell_type": "code",
   "execution_count": 122,
   "id": "4fa478e2",
   "metadata": {},
   "outputs": [],
   "source": [
    "dev_data = test['Cleaned Documents']"
   ]
  },
  {
   "cell_type": "code",
   "execution_count": 123,
   "id": "4e9f9fde",
   "metadata": {},
   "outputs": [],
   "source": [
    "vect = cv.transform(dev_data)"
   ]
  },
  {
   "cell_type": "code",
   "execution_count": 124,
   "id": "049c0200",
   "metadata": {},
   "outputs": [],
   "source": [
    "y_pred_for_RandomForestClassifier = RandomForestClassifier_Model.predict(vect)"
   ]
  },
  {
   "cell_type": "code",
   "execution_count": 125,
   "id": "a8ef935b",
   "metadata": {},
   "outputs": [
    {
     "data": {
      "text/plain": [
       "array(['Fear', 'Fear', 'Joy', 'Anger', 'Anger', 'Surprise', 'Surprise',\n",
       "       'Anticipation', 'Surprise', 'Joy', 'Anticipation', 'Joy', 'Anger',\n",
       "       'Trust', 'Anticipation', 'Anger', 'Anger', 'Anger', 'Anger',\n",
       "       'Anger', 'Joy', 'Joy', 'Anticipation', 'Fear', 'Anticipation',\n",
       "       'Anger', 'Surprise', 'Anger', 'Anticipation', 'Trust',\n",
       "       'Anticipation', 'Anticipation', 'Anger', 'Anticipation', 'Trust',\n",
       "       'Disgust', 'Joy', 'Disgust', 'Trust', 'Anticipation', 'Fear',\n",
       "       'Fear', 'Anger', 'Surprise', 'Trust', 'Anticipation',\n",
       "       'Anticipation', 'Anticipation', 'Joy', 'Joy', 'Anticipation',\n",
       "       'Anticipation', 'Joy', 'Joy', 'Disgust', 'Trust', 'Anger',\n",
       "       'Anticipation', 'Surprise', 'Disgust', 'Anger', 'Joy', 'Disgust',\n",
       "       'Trust', 'Disgust', 'Disgust', 'Anger', 'Sadness', 'Anger',\n",
       "       'Disgust', 'Anticipation', 'Joy', 'Sadness', 'Trust', 'Trust',\n",
       "       'Anger', 'Trust', 'Anger', 'Fear', 'Sadness', 'Anticipation',\n",
       "       'Fear', 'Joy', 'Anger', 'Trust', 'Joy', 'Joy', 'Anger', 'Trust',\n",
       "       'Surprise', 'Surprise', 'Trust', 'Disgust', 'Fear', 'Trust',\n",
       "       'Anticipation', 'Fear', 'Fear', 'Anger', 'Anger', 'Anger',\n",
       "       'Anticipation', 'Anger', 'Sadness', 'Anticipation', 'Anger',\n",
       "       'Anticipation', 'Anger', 'Surprise', 'Surprise', 'Anger', 'Trust',\n",
       "       'Trust', 'Anticipation', 'Sadness', 'Anticipation', 'Joy',\n",
       "       'Anticipation', 'Fear', 'Trust', 'Trust', 'Trust', 'Anticipation',\n",
       "       'Anticipation', 'Surprise', 'Surprise', 'Anticipation', 'Anger',\n",
       "       'Sadness', 'Trust', 'Anticipation', 'Anger', 'Anger',\n",
       "       'Anticipation', 'Fear', 'Anger', 'Anger', 'Joy', 'Anger', 'Fear',\n",
       "       'Joy', 'Joy', 'Surprise', 'Anger', 'Anger', 'Trust', 'Trust',\n",
       "       'Fear', 'Surprise', 'Joy', 'Trust', 'Anticipation', 'Surprise',\n",
       "       'Trust', 'Anger', 'Anticipation', 'Disgust', 'Surprise', 'Joy',\n",
       "       'Anger', 'Sadness', 'Anticipation', 'Fear', 'Anger', 'Surprise',\n",
       "       'Anticipation', 'Sadness', 'Sadness', 'Anger', 'Anger',\n",
       "       'Anticipation', 'Anger', 'Anticipation', 'Anger', 'Anger',\n",
       "       'Sadness', 'Anticipation', 'Trust', 'Anger', 'Sadness', 'Joy',\n",
       "       'Fear', 'Surprise', 'Trust', 'Anticipation', 'Anticipation',\n",
       "       'Trust', 'Trust', 'Surprise', 'Joy', 'Sadness', 'Anger', 'Sadness',\n",
       "       'Fear', 'Anger', 'Trust', 'Anticipation', 'Anger', 'Anger',\n",
       "       'Sadness', 'Anger', 'Anticipation', 'Anger', 'Surprise', 'Anger',\n",
       "       'Surprise', 'Trust', 'Anger', 'Anticipation', 'Anger', 'Trust',\n",
       "       'Anger', 'Joy', 'Trust', 'Anger', 'Anger', 'Fear', 'Anticipation',\n",
       "       'Sadness', 'Trust', 'Disgust', 'Anticipation', 'Surprise',\n",
       "       'Surprise', 'Anticipation', 'Surprise', 'Trust', 'Joy', 'Trust',\n",
       "       'Anger', 'Anger', 'Trust', 'Anticipation', 'Anger', 'Anger', 'Joy',\n",
       "       'Surprise', 'Surprise', 'Anger', 'Trust', 'Fear', 'Surprise',\n",
       "       'Anticipation', 'Anger', 'Fear', 'Surprise', 'Anger', 'Trust',\n",
       "       'Surprise', 'Sadness', 'Sadness', 'Sadness', 'Surprise',\n",
       "       'Anticipation', 'Anger', 'Fear', 'Anticipation', 'Anger',\n",
       "       'Anticipation', 'Anger', 'Anticipation', 'Anger', 'Anger', 'Anger',\n",
       "       'Anger', 'Joy', 'Fear', 'Fear', 'Anger', 'Anger', 'Anger',\n",
       "       'Anticipation', 'Anticipation', 'Surprise', 'Anticipation',\n",
       "       'Anticipation', 'Anger', 'Anger', 'Sadness', 'Anger', 'Anger',\n",
       "       'Anger', 'Trust', 'Anger', 'Surprise', 'Trust', 'Anticipation',\n",
       "       'Trust', 'Anticipation', 'Trust', 'Anticipation', 'Anticipation',\n",
       "       'Trust', 'Fear', 'Sadness', 'Surprise', 'Joy', 'Anticipation',\n",
       "       'Anger', 'Joy', 'Surprise', 'Anticipation', 'Anticipation',\n",
       "       'Anger', 'Fear', 'Anger', 'Anger', 'Fear', 'Trust', 'Disgust',\n",
       "       'Joy', 'Anger', 'Surprise', 'Anger', 'Trust', 'Joy', 'Joy',\n",
       "       'Anticipation', 'Trust', 'Surprise', 'Anger', 'Anticipation',\n",
       "       'Anticipation', 'Anticipation', 'Trust', 'Anticipation', 'Joy',\n",
       "       'Joy', 'Anticipation', 'Anticipation', 'Surprise', 'Anger',\n",
       "       'Anticipation', 'Anger', 'Anger', 'Anticipation', 'Anger', 'Anger',\n",
       "       'Surprise', 'Disgust', 'Joy', 'Anticipation', 'Trust',\n",
       "       'Anticipation', 'Surprise', 'Anticipation', 'Anger',\n",
       "       'Anticipation', 'Anticipation', 'Surprise', 'Fear', 'Anger',\n",
       "       'Anticipation', 'Trust', 'Anger', 'Anger', 'Joy', 'Anticipation',\n",
       "       'Trust', 'Anticipation', 'Anticipation', 'Fear', 'Anticipation',\n",
       "       'Anger', 'Anger', 'Fear', 'Surprise', 'Surprise', 'Anticipation',\n",
       "       'Anger', 'Surprise', 'Anticipation', 'Anger', 'Anticipation',\n",
       "       'Anticipation', 'Surprise', 'Sadness', 'Joy', 'Anger',\n",
       "       'Anticipation', 'Trust', 'Sadness', 'Anticipation', 'Anger',\n",
       "       'Anger', 'Trust', 'Anger', 'Sadness', 'Surprise', 'Anger',\n",
       "       'Surprise', 'Trust', 'Anticipation', 'Surprise', 'Anticipation',\n",
       "       'Anger', 'Anticipation', 'Anger', 'Joy', 'Joy', 'Surprise',\n",
       "       'Anger', 'Anger', 'Anger', 'Anger', 'Anger', 'Trust', 'Surprise',\n",
       "       'Anger', 'Trust', 'Joy', 'Anger', 'Joy', 'Anger', 'Anger',\n",
       "       'Anticipation', 'Fear', 'Sadness', 'Anger', 'Fear', 'Anger',\n",
       "       'Anger', 'Sadness', 'Anticipation', 'Trust', 'Anticipation', 'Joy',\n",
       "       'Anger', 'Sadness', 'Anger', 'Fear', 'Trust', 'Anger',\n",
       "       'Anticipation', 'Anger', 'Sadness', 'Anger', 'Joy', 'Anticipation',\n",
       "       'Anger', 'Anger', 'Trust', 'Anticipation', 'Anger', 'Fear',\n",
       "       'Anticipation', 'Fear', 'Trust', 'Trust', 'Sadness', 'Anger',\n",
       "       'Anger', 'Trust', 'Anger', 'Anger', 'Trust', 'Trust', 'Anger',\n",
       "       'Sadness', 'Anticipation', 'Disgust', 'Surprise', 'Disgust',\n",
       "       'Trust', 'Joy', 'Fear', 'Surprise', 'Anger', 'Anger', 'Anger',\n",
       "       'Fear', 'Sadness', 'Disgust', 'Fear', 'Trust', 'Anger', 'Anger',\n",
       "       'Anger', 'Trust', 'Fear', 'Surprise', 'Surprise', 'Surprise',\n",
       "       'Trust', 'Anger', 'Anticipation', 'Anger', 'Disgust', 'Surprise',\n",
       "       'Anger', 'Anger', 'Sadness', 'Fear', 'Anger', 'Anticipation',\n",
       "       'Anger', 'Anger', 'Joy', 'Anticipation', 'Surprise', 'Anger',\n",
       "       'Trust', 'Trust', 'Sadness', 'Anticipation', 'Trust',\n",
       "       'Anticipation', 'Anger', 'Anger', 'Fear', 'Anticipation', 'Trust',\n",
       "       'Disgust', 'Anticipation', 'Joy', 'Anger', 'Anger', 'Trust',\n",
       "       'Fear', 'Anger', 'Joy', 'Joy', 'Fear', 'Anticipation', 'Joy',\n",
       "       'Joy', 'Anger', 'Fear', 'Anger', 'Anticipation', 'Anger',\n",
       "       'Anticipation', 'Anger', 'Anger', 'Fear', 'Trust', 'Anticipation',\n",
       "       'Sadness', 'Anger', 'Disgust', 'Anger', 'Anticipation',\n",
       "       'Anticipation', 'Joy', 'Anger', 'Surprise', 'Fear', 'Sadness',\n",
       "       'Anger', 'Surprise', 'Anticipation', 'Anticipation',\n",
       "       'Anticipation', 'Anger', 'Anticipation', 'Anger', 'Anticipation',\n",
       "       'Trust', 'Anger', 'Trust', 'Anticipation', 'Fear', 'Trust',\n",
       "       'Disgust', 'Anger', 'Anger', 'Anticipation', 'Anger', 'Trust',\n",
       "       'Anticipation', 'Disgust', 'Trust', 'Joy', 'Trust', 'Trust',\n",
       "       'Fear', 'Anticipation', 'Anticipation', 'Joy', 'Trust', 'Anger',\n",
       "       'Anger', 'Fear', 'Fear', 'Joy', 'Anticipation', 'Anticipation',\n",
       "       'Anger', 'Anger', 'Trust', 'Anticipation', 'Anger', 'Fear',\n",
       "       'Anger', 'Anticipation', 'Anticipation', 'Trust', 'Fear', 'Trust',\n",
       "       'Fear', 'Sadness', 'Anger', 'Surprise', 'Fear', 'Surprise', 'Joy',\n",
       "       'Anticipation', 'Anticipation', 'Anticipation', 'Sadness', 'Trust',\n",
       "       'Surprise', 'Anticipation', 'Anger', 'Trust', 'Anger', 'Sadness',\n",
       "       'Anger', 'Joy', 'Anger', 'Anticipation', 'Fear', 'Joy', 'Anger',\n",
       "       'Trust', 'Fear', 'Surprise', 'Anticipation', 'Anticipation', 'Joy',\n",
       "       'Sadness', 'Trust', 'Surprise', 'Trust', 'Anticipation',\n",
       "       'Anticipation', 'Anticipation', 'Anger', 'Anticipation', 'Trust',\n",
       "       'Anger', 'Joy', 'Surprise', 'Trust', 'Joy', 'Anger', 'Trust',\n",
       "       'Fear', 'Trust', 'Sadness', 'Anger', 'Disgust', 'Trust', 'Joy',\n",
       "       'Trust', 'Trust', 'Sadness', 'Anger', 'Surprise', 'Fear', 'Trust',\n",
       "       'Anger', 'Trust', 'Anger', 'Anger', 'Sadness', 'Anger', 'Anger',\n",
       "       'Trust', 'Sadness', 'Disgust', 'Disgust', 'Trust', 'Anger',\n",
       "       'Surprise', 'Sadness', 'Anger', 'Trust', 'Joy', 'Trust', 'Sadness',\n",
       "       'Anger', 'Joy', 'Trust', 'Trust', 'Joy', 'Joy', 'Anger', 'Anger',\n",
       "       'Joy', 'Joy', 'Surprise', 'Surprise', 'Anger', 'Anger', 'Surprise',\n",
       "       'Trust', 'Anger', 'Anger', 'Joy', 'Anticipation', 'Trust', 'Fear',\n",
       "       'Anger', 'Anticipation', 'Anticipation', 'Anticipation', 'Joy',\n",
       "       'Anger', 'Anticipation', 'Anger', 'Anger', 'Surprise', 'Trust',\n",
       "       'Anger', 'Anger', 'Surprise', 'Surprise', 'Fear', 'Anger',\n",
       "       'Anticipation', 'Fear', 'Anger', 'Surprise', 'Sadness', 'Anger',\n",
       "       'Anger', 'Anticipation', 'Anger', 'Anger', 'Anger', 'Anger', 'Joy',\n",
       "       'Anger', 'Anticipation', 'Fear', 'Sadness', 'Fear', 'Anger',\n",
       "       'Anger', 'Anticipation', 'Fear', 'Anticipation', 'Anticipation',\n",
       "       'Anticipation', 'Anticipation', 'Anger', 'Trust', 'Trust', 'Anger',\n",
       "       'Anticipation', 'Joy', 'Anger', 'Surprise', 'Anger', 'Anger',\n",
       "       'Trust', 'Trust', 'Sadness', 'Trust', 'Joy', 'Fear', 'Trust',\n",
       "       'Anger', 'Anger', 'Anticipation', 'Surprise', 'Joy', 'Anger',\n",
       "       'Anticipation', 'Sadness', 'Anger', 'Anticipation', 'Surprise',\n",
       "       'Fear', 'Trust', 'Joy', 'Anger', 'Sadness', 'Anger', 'Disgust',\n",
       "       'Trust', 'Surprise', 'Fear', 'Trust', 'Anticipation', 'Anger',\n",
       "       'Anger', 'Surprise', 'Anger', 'Joy', 'Anger', 'Joy', 'Anger',\n",
       "       'Fear', 'Anger', 'Anger', 'Anger', 'Trust', 'Disgust',\n",
       "       'Anticipation', 'Anger', 'Joy', 'Anger', 'Anticipation', 'Anger',\n",
       "       'Surprise', 'Surprise', 'Anger', 'Anticipation', 'Fear', 'Anger',\n",
       "       'Anticipation', 'Sadness', 'Anticipation', 'Joy', 'Joy', 'Disgust',\n",
       "       'Fear', 'Surprise', 'Anger', 'Disgust', 'Sadness', 'Anger',\n",
       "       'Anger', 'Anticipation', 'Trust', 'Surprise', 'Joy', 'Sadness',\n",
       "       'Anger', 'Joy', 'Trust', 'Anger', 'Trust', 'Trust', 'Anger',\n",
       "       'Trust', 'Anger', 'Joy', 'Trust', 'Joy', 'Surprise',\n",
       "       'Anticipation', 'Sadness', 'Anticipation', 'Joy', 'Anticipation',\n",
       "       'Fear', 'Anticipation', 'Anticipation', 'Surprise', 'Fear',\n",
       "       'Anger', 'Joy', 'Disgust', 'Surprise', 'Anger', 'Surprise',\n",
       "       'Trust', 'Anticipation', 'Trust', 'Sadness', 'Anticipation',\n",
       "       'Anticipation', 'Anger', 'Surprise', 'Anger', 'Trust', 'Joy',\n",
       "       'Sadness', 'Fear', 'Fear', 'Anger', 'Surprise', 'Anger', 'Fear',\n",
       "       'Trust', 'Fear', 'Trust', 'Sadness', 'Sadness', 'Anger', 'Fear',\n",
       "       'Anticipation', 'Sadness', 'Joy', 'Surprise', 'Trust', 'Joy',\n",
       "       'Disgust', 'Anger', 'Joy', 'Anticipation', 'Sadness', 'Anger',\n",
       "       'Anger', 'Anger', 'Joy', 'Surprise', 'Anger', 'Fear', 'Fear',\n",
       "       'Anticipation', 'Surprise', 'Anger', 'Surprise', 'Trust',\n",
       "       'Surprise', 'Joy', 'Anger', 'Fear', 'Surprise', 'Anticipation',\n",
       "       'Surprise', 'Anger', 'Anticipation', 'Joy', 'Anticipation',\n",
       "       'Anger', 'Anger', 'Trust', 'Joy', 'Trust', 'Anticipation',\n",
       "       'Sadness', 'Trust', 'Joy', 'Anger', 'Trust', 'Sadness', 'Trust',\n",
       "       'Fear', 'Anticipation', 'Anger', 'Disgust', 'Joy', 'Anger',\n",
       "       'Trust', 'Anger', 'Anger', 'Sadness', 'Anger', 'Joy', 'Sadness',\n",
       "       'Anger', 'Anticipation', 'Disgust', 'Joy', 'Anger', 'Joy', 'Anger',\n",
       "       'Fear', 'Anticipation', 'Surprise', 'Trust', 'Sadness', 'Surprise',\n",
       "       'Anticipation', 'Anger', 'Disgust', 'Anger', 'Trust', 'Anger',\n",
       "       'Anger', 'Anticipation', 'Anger', 'Fear', 'Anger', 'Anticipation',\n",
       "       'Sadness', 'Joy', 'Sadness', 'Anger', 'Joy', 'Fear', 'Fear',\n",
       "       'Disgust', 'Anticipation', 'Anger', 'Trust', 'Anger', 'Anger',\n",
       "       'Disgust', 'Anger', 'Trust', 'Anger', 'Surprise', 'Surprise',\n",
       "       'Anticipation', 'Surprise', 'Joy', 'Anger', 'Sadness',\n",
       "       'Anticipation', 'Fear', 'Joy', 'Anticipation', 'Anger',\n",
       "       'Anticipation'], dtype=object)"
      ]
     },
     "execution_count": 125,
     "metadata": {},
     "output_type": "execute_result"
    }
   ],
   "source": [
    "y_pred_for_RandomForestClassifier"
   ]
  },
  {
   "cell_type": "code",
   "execution_count": 126,
   "id": "0f712dc8",
   "metadata": {},
   "outputs": [
    {
     "data": {
      "text/plain": [
       "array(['Anger', 'Anticipation', 'Disgust', 'Fear', 'Joy', 'Sadness',\n",
       "       'Surprise', 'Trust'], dtype=object)"
      ]
     },
     "execution_count": 126,
     "metadata": {},
     "output_type": "execute_result"
    }
   ],
   "source": [
    "RandomForestClassifier_Model.classes_"
   ]
  },
  {
   "cell_type": "markdown",
   "id": "465505b2",
   "metadata": {},
   "source": [
    "## 4.5(b) Model Evaluation "
   ]
  },
  {
   "cell_type": "code",
   "execution_count": 127,
   "id": "4bdc2906",
   "metadata": {},
   "outputs": [
    {
     "name": "stdout",
     "output_type": "stream",
     "text": [
      "              precision    recall  f1-score   support\n",
      "\n",
      "       Anger       0.38      0.52      0.44       211\n",
      "Anticipation       0.31      0.34      0.32       170\n",
      "     Disgust       0.29      0.13      0.18        77\n",
      "        Fear       0.25      0.20      0.22       104\n",
      "         Joy       0.34      0.36      0.35        97\n",
      "     Sadness       0.25      0.20      0.22        87\n",
      "    Surprise       0.25      0.26      0.26        96\n",
      "       Trust       0.32      0.28      0.30       158\n",
      "\n",
      "    accuracy                           0.32      1000\n",
      "   macro avg       0.30      0.29      0.29      1000\n",
      "weighted avg       0.31      0.32      0.31      1000\n",
      "\n"
     ]
    }
   ],
   "source": [
    "print(classification_report(dev['emotion'], y_pred_for_RandomForestClassifier))"
   ]
  },
  {
   "cell_type": "markdown",
   "id": "d750b04c",
   "metadata": {},
   "source": [
    "## 4.6. Decision Tree Classifier "
   ]
  },
  {
   "cell_type": "code",
   "execution_count": 128,
   "id": "5cdc2c8c",
   "metadata": {},
   "outputs": [],
   "source": [
    "Xfeatures = train['Cleaned Documents']\n",
    "ylabels = train['emotion']"
   ]
  },
  {
   "cell_type": "code",
   "execution_count": 129,
   "id": "2a14d980",
   "metadata": {},
   "outputs": [],
   "source": [
    "cv = CountVectorizer()\n",
    "X = cv.fit_transform(Xfeatures)"
   ]
  },
  {
   "cell_type": "code",
   "execution_count": 130,
   "id": "62be3497",
   "metadata": {},
   "outputs": [],
   "source": [
    "x_train,x_test,y_train,y_test = train_test_split(X,ylabels,test_size=0.0714,random_state=42)"
   ]
  },
  {
   "cell_type": "code",
   "execution_count": 131,
   "id": "65fc70b9",
   "metadata": {},
   "outputs": [
    {
     "data": {
      "text/plain": [
       "DecisionTreeClassifier()"
      ]
     },
     "execution_count": 131,
     "metadata": {},
     "output_type": "execute_result"
    }
   ],
   "source": [
    "DecisionTreeClassifier_Model = DecisionTreeClassifier()\n",
    "DecisionTreeClassifier_Model.fit(X_train, y_train)"
   ]
  },
  {
   "cell_type": "code",
   "execution_count": 132,
   "id": "9c317bc3",
   "metadata": {},
   "outputs": [
    {
     "data": {
      "text/plain": [
       "0.288"
      ]
     },
     "execution_count": 132,
     "metadata": {},
     "output_type": "execute_result"
    }
   ],
   "source": [
    "DecisionTreeClassifier_Model.score(X_test, y_test)"
   ]
  },
  {
   "cell_type": "markdown",
   "id": "02a5bb08",
   "metadata": {},
   "source": [
    "## 4.6(a) dev Set Prediction "
   ]
  },
  {
   "cell_type": "code",
   "execution_count": 133,
   "id": "a17fa057",
   "metadata": {},
   "outputs": [],
   "source": [
    "dev_data = test['Cleaned Documents']"
   ]
  },
  {
   "cell_type": "code",
   "execution_count": 134,
   "id": "a24f90bc",
   "metadata": {},
   "outputs": [],
   "source": [
    "vect = cv.transform(dev_data)"
   ]
  },
  {
   "cell_type": "code",
   "execution_count": 135,
   "id": "5d39d73a",
   "metadata": {},
   "outputs": [],
   "source": [
    "y_pred_for_DecisionTreeClassifier = DecisionTreeClassifier_Model.predict(vect)"
   ]
  },
  {
   "cell_type": "code",
   "execution_count": 136,
   "id": "7055483e",
   "metadata": {},
   "outputs": [
    {
     "data": {
      "text/plain": [
       "array(['Fear', 'Fear', 'Anticipation', 'Anger', 'Anger', 'Surprise',\n",
       "       'Surprise', 'Fear', 'Anticipation', 'Joy', 'Anticipation',\n",
       "       'Anticipation', 'Anger', 'Trust', 'Trust', 'Anger', 'Anger',\n",
       "       'Anger', 'Anger', 'Anger', 'Anticipation', 'Joy', 'Fear',\n",
       "       'Anticipation', 'Anticipation', 'Anger', 'Surprise', 'Anger',\n",
       "       'Anticipation', 'Trust', 'Anticipation', 'Anticipation', 'Anger',\n",
       "       'Anticipation', 'Trust', 'Anticipation', 'Anger', 'Disgust',\n",
       "       'Trust', 'Anticipation', 'Anticipation', 'Fear', 'Anger', 'Anger',\n",
       "       'Anger', 'Anticipation', 'Anticipation', 'Anticipation', 'Joy',\n",
       "       'Anger', 'Anger', 'Sadness', 'Joy', 'Joy', 'Disgust',\n",
       "       'Anticipation', 'Anger', 'Sadness', 'Anticipation', 'Disgust',\n",
       "       'Anger', 'Joy', 'Anger', 'Anger', 'Disgust', 'Trust', 'Anger',\n",
       "       'Sadness', 'Anger', 'Disgust', 'Anticipation', 'Anger', 'Anger',\n",
       "       'Trust', 'Sadness', 'Anger', 'Trust', 'Anger', 'Fear', 'Disgust',\n",
       "       'Anger', 'Anger', 'Joy', 'Anger', 'Trust', 'Joy', 'Joy', 'Trust',\n",
       "       'Trust', 'Surprise', 'Surprise', 'Trust', 'Disgust', 'Fear',\n",
       "       'Sadness', 'Anticipation', 'Fear', 'Fear', 'Anger', 'Anger',\n",
       "       'Anger', 'Anticipation', 'Anticipation', 'Sadness', 'Anticipation',\n",
       "       'Anger', 'Anticipation', 'Anger', 'Surprise', 'Surprise', 'Anger',\n",
       "       'Trust', 'Trust', 'Anticipation', 'Anger', 'Anticipation', 'Joy',\n",
       "       'Anticipation', 'Fear', 'Trust', 'Trust', 'Joy', 'Anticipation',\n",
       "       'Anticipation', 'Surprise', 'Surprise', 'Anticipation', 'Anger',\n",
       "       'Sadness', 'Anger', 'Anticipation', 'Anger', 'Anger',\n",
       "       'Anticipation', 'Fear', 'Anger', 'Anger', 'Sadness', 'Anger',\n",
       "       'Anticipation', 'Joy', 'Joy', 'Surprise', 'Anger', 'Anger',\n",
       "       'Trust', 'Anger', 'Fear', 'Anger', 'Joy', 'Trust', 'Anticipation',\n",
       "       'Joy', 'Anger', 'Anger', 'Anticipation', 'Disgust', 'Surprise',\n",
       "       'Surprise', 'Anger', 'Sadness', 'Anticipation', 'Fear', 'Anger',\n",
       "       'Fear', 'Anticipation', 'Anger', 'Sadness', 'Anger', 'Anger',\n",
       "       'Anticipation', 'Anger', 'Anticipation', 'Anger', 'Anger',\n",
       "       'Sadness', 'Trust', 'Anticipation', 'Anger', 'Sadness', 'Anger',\n",
       "       'Fear', 'Joy', 'Sadness', 'Anticipation', 'Anticipation', 'Trust',\n",
       "       'Trust', 'Surprise', 'Joy', 'Sadness', 'Sadness', 'Sadness',\n",
       "       'Fear', 'Anger', 'Trust', 'Anger', 'Anger', 'Anger',\n",
       "       'Anticipation', 'Anger', 'Anger', 'Fear', 'Surprise', 'Anger',\n",
       "       'Anger', 'Trust', 'Anger', 'Anticipation', 'Disgust', 'Trust',\n",
       "       'Anger', 'Anger', 'Trust', 'Anger', 'Anger', 'Fear', 'Joy',\n",
       "       'Anger', 'Fear', 'Anger', 'Anticipation', 'Surprise', 'Surprise',\n",
       "       'Anticipation', 'Surprise', 'Trust', 'Sadness', 'Anger', 'Anger',\n",
       "       'Anger', 'Surprise', 'Anticipation', 'Anger', 'Anger', 'Joy',\n",
       "       'Sadness', 'Surprise', 'Anger', 'Disgust', 'Fear', 'Joy',\n",
       "       'Anticipation', 'Anger', 'Anger', 'Surprise', 'Sadness', 'Trust',\n",
       "       'Surprise', 'Anger', 'Sadness', 'Sadness', 'Anticipation',\n",
       "       'Anticipation', 'Anger', 'Fear', 'Anticipation', 'Joy',\n",
       "       'Anticipation', 'Anger', 'Anger', 'Anger', 'Anger', 'Disgust',\n",
       "       'Anger', 'Joy', 'Fear', 'Fear', 'Anger', 'Anger', 'Surprise',\n",
       "       'Anticipation', 'Anticipation', 'Surprise', 'Anticipation',\n",
       "       'Anticipation', 'Anger', 'Anger', 'Sadness', 'Anger', 'Anger',\n",
       "       'Anger', 'Sadness', 'Anger', 'Surprise', 'Trust', 'Fear', 'Trust',\n",
       "       'Anticipation', 'Anger', 'Anticipation', 'Anticipation', 'Trust',\n",
       "       'Anger', 'Sadness', 'Surprise', 'Joy', 'Anticipation', 'Anger',\n",
       "       'Anticipation', 'Surprise', 'Trust', 'Anticipation', 'Sadness',\n",
       "       'Anger', 'Anger', 'Anger', 'Trust', 'Fear', 'Anger', 'Joy',\n",
       "       'Anger', 'Surprise', 'Anger', 'Joy', 'Joy', 'Joy', 'Anger',\n",
       "       'Trust', 'Surprise', 'Anger', 'Anger', 'Anger', 'Anticipation',\n",
       "       'Trust', 'Anticipation', 'Joy', 'Joy', 'Anticipation',\n",
       "       'Anticipation', 'Surprise', 'Disgust', 'Trust', 'Anger', 'Trust',\n",
       "       'Anger', 'Anger', 'Anger', 'Anticipation', 'Disgust', 'Surprise',\n",
       "       'Anticipation', 'Joy', 'Anticipation', 'Surprise', 'Anticipation',\n",
       "       'Anger', 'Anticipation', 'Anticipation', 'Surprise', 'Trust',\n",
       "       'Anger', 'Anticipation', 'Trust', 'Anger', 'Anger', 'Joy',\n",
       "       'Anticipation', 'Trust', 'Anticipation', 'Anticipation', 'Fear',\n",
       "       'Anticipation', 'Anger', 'Anger', 'Fear', 'Surprise',\n",
       "       'Anticipation', 'Anticipation', 'Anger', 'Anticipation',\n",
       "       'Anticipation', 'Anger', 'Anticipation', 'Anticipation',\n",
       "       'Surprise', 'Sadness', 'Joy', 'Disgust', 'Anger', 'Trust', 'Anger',\n",
       "       'Anticipation', 'Anger', 'Anger', 'Trust', 'Anger', 'Sadness',\n",
       "       'Anticipation', 'Anger', 'Surprise', 'Anticipation', 'Joy',\n",
       "       'Surprise', 'Anger', 'Fear', 'Anticipation', 'Anger', 'Joy', 'Joy',\n",
       "       'Surprise', 'Anger', 'Anger', 'Anger', 'Anger', 'Anger', 'Trust',\n",
       "       'Surprise', 'Anger', 'Trust', 'Trust', 'Fear', 'Surprise', 'Anger',\n",
       "       'Anger', 'Anticipation', 'Anger', 'Anticipation', 'Anger', 'Fear',\n",
       "       'Anger', 'Anger', 'Sadness', 'Anticipation', 'Anger',\n",
       "       'Anticipation', 'Joy', 'Sadness', 'Sadness', 'Anticipation',\n",
       "       'Fear', 'Trust', 'Anger', 'Anticipation', 'Anger', 'Anger',\n",
       "       'Anger', 'Anger', 'Anticipation', 'Anger', 'Anger', 'Trust',\n",
       "       'Sadness', 'Anger', 'Fear', 'Anticipation', 'Fear', 'Trust',\n",
       "       'Trust', 'Sadness', 'Anger', 'Anger', 'Disgust', 'Anticipation',\n",
       "       'Anger', 'Trust', 'Trust', 'Anger', 'Sadness', 'Anticipation',\n",
       "       'Disgust', 'Anticipation', 'Disgust', 'Trust', 'Trust', 'Fear',\n",
       "       'Surprise', 'Anger', 'Anger', 'Anger', 'Sadness', 'Sadness',\n",
       "       'Disgust', 'Sadness', 'Trust', 'Anger', 'Trust', 'Anger', 'Trust',\n",
       "       'Fear', 'Surprise', 'Surprise', 'Surprise', 'Anger', 'Anger',\n",
       "       'Joy', 'Disgust', 'Disgust', 'Anger', 'Anger', 'Joy', 'Sadness',\n",
       "       'Fear', 'Anger', 'Anticipation', 'Anger', 'Anger', 'Joy',\n",
       "       'Anticipation', 'Disgust', 'Anticipation', 'Anger', 'Trust',\n",
       "       'Sadness', 'Anticipation', 'Trust', 'Anticipation', 'Anger',\n",
       "       'Anger', 'Fear', 'Anticipation', 'Trust', 'Disgust',\n",
       "       'Anticipation', 'Joy', 'Anger', 'Anger', 'Trust', 'Anticipation',\n",
       "       'Anger', 'Joy', 'Joy', 'Fear', 'Trust', 'Joy', 'Joy', 'Anger',\n",
       "       'Anger', 'Anger', 'Anticipation', 'Anger', 'Anger', 'Anger',\n",
       "       'Anger', 'Disgust', 'Trust', 'Anger', 'Joy', 'Anger', 'Surprise',\n",
       "       'Anger', 'Anticipation', 'Anticipation', 'Anger', 'Anger',\n",
       "       'Anticipation', 'Fear', 'Sadness', 'Anger', 'Surprise', 'Anger',\n",
       "       'Anticipation', 'Anger', 'Anger', 'Anticipation', 'Anger',\n",
       "       'Anticipation', 'Trust', 'Anger', 'Joy', 'Anticipation', 'Fear',\n",
       "       'Trust', 'Disgust', 'Anger', 'Disgust', 'Anticipation', 'Anger',\n",
       "       'Anger', 'Anticipation', 'Anger', 'Trust', 'Joy', 'Anger', 'Trust',\n",
       "       'Fear', 'Fear', 'Anticipation', 'Joy', 'Anger', 'Anger', 'Anger',\n",
       "       'Disgust', 'Fear', 'Joy', 'Anticipation', 'Anticipation', 'Anger',\n",
       "       'Anger', 'Trust', 'Anticipation', 'Anger', 'Fear', 'Disgust',\n",
       "       'Anger', 'Anticipation', 'Joy', 'Fear', 'Trust', 'Anticipation',\n",
       "       'Sadness', 'Anger', 'Surprise', 'Fear', 'Surprise', 'Joy',\n",
       "       'Anticipation', 'Anticipation', 'Fear', 'Anger', 'Trust',\n",
       "       'Surprise', 'Anticipation', 'Anger', 'Trust', 'Anticipation',\n",
       "       'Anticipation', 'Anger', 'Joy', 'Anger', 'Trust', 'Anticipation',\n",
       "       'Joy', 'Anger', 'Trust', 'Anticipation', 'Surprise',\n",
       "       'Anticipation', 'Anticipation', 'Anger', 'Anticipation', 'Trust',\n",
       "       'Sadness', 'Anger', 'Anticipation', 'Anger', 'Anticipation',\n",
       "       'Anger', 'Anger', 'Fear', 'Anger', 'Anticipation', 'Surprise',\n",
       "       'Trust', 'Joy', 'Joy', 'Anticipation', 'Anticipation',\n",
       "       'Anticipation', 'Anger', 'Anger', 'Disgust', 'Trust', 'Joy',\n",
       "       'Sadness', 'Trust', 'Anticipation', 'Anger', 'Surprise', 'Anger',\n",
       "       'Joy', 'Anger', 'Trust', 'Anger', 'Anger', 'Sadness', 'Anger',\n",
       "       'Anger', 'Trust', 'Sadness', 'Disgust', 'Anger', 'Sadness',\n",
       "       'Sadness', 'Anticipation', 'Sadness', 'Anticipation', 'Trust',\n",
       "       'Joy', 'Trust', 'Sadness', 'Anger', 'Joy', 'Anger', 'Anger',\n",
       "       'Anger', 'Joy', 'Trust', 'Anger', 'Anticipation', 'Joy', 'Anger',\n",
       "       'Surprise', 'Anger', 'Anger', 'Surprise', 'Disgust', 'Anger',\n",
       "       'Anger', 'Joy', 'Anticipation', 'Anger', 'Surprise', 'Anger',\n",
       "       'Anticipation', 'Anticipation', 'Anticipation', 'Joy', 'Anger',\n",
       "       'Anticipation', 'Anger', 'Anticipation', 'Surprise', 'Trust',\n",
       "       'Anger', 'Anger', 'Surprise', 'Disgust', 'Anger', 'Anticipation',\n",
       "       'Anger', 'Anger', 'Anger', 'Surprise', 'Fear', 'Trust', 'Anger',\n",
       "       'Anticipation', 'Anger', 'Anger', 'Anger', 'Anger', 'Trust',\n",
       "       'Anger', 'Anticipation', 'Fear', 'Sadness', 'Fear', 'Anger',\n",
       "       'Anger', 'Anticipation', 'Fear', 'Anticipation', 'Anticipation',\n",
       "       'Anger', 'Anticipation', 'Anger', 'Trust', 'Trust', 'Anger',\n",
       "       'Anticipation', 'Joy', 'Anger', 'Anger', 'Anger', 'Anger', 'Trust',\n",
       "       'Disgust', 'Sadness', 'Trust', 'Anger', 'Fear', 'Trust', 'Anger',\n",
       "       'Anticipation', 'Anticipation', 'Surprise', 'Joy', 'Anger',\n",
       "       'Trust', 'Fear', 'Anger', 'Anticipation', 'Fear', 'Fear', 'Trust',\n",
       "       'Joy', 'Anger', 'Sadness', 'Anger', 'Disgust', 'Sadness',\n",
       "       'Surprise', 'Disgust', 'Fear', 'Anticipation', 'Anger', 'Anger',\n",
       "       'Surprise', 'Anger', 'Joy', 'Anger', 'Sadness', 'Anger', 'Fear',\n",
       "       'Disgust', 'Sadness', 'Anger', 'Trust', 'Disgust', 'Anticipation',\n",
       "       'Anger', 'Joy', 'Anger', 'Sadness', 'Sadness', 'Anger',\n",
       "       'Anticipation', 'Anger', 'Anticipation', 'Fear', 'Anger',\n",
       "       'Anticipation', 'Sadness', 'Anticipation', 'Joy', 'Trust',\n",
       "       'Disgust', 'Trust', 'Disgust', 'Anger', 'Anger', 'Anger', 'Anger',\n",
       "       'Anger', 'Anger', 'Joy', 'Surprise', 'Surprise', 'Fear', 'Anger',\n",
       "       'Trust', 'Trust', 'Anger', 'Trust', 'Disgust', 'Anger', 'Trust',\n",
       "       'Anger', 'Joy', 'Trust', 'Sadness', 'Surprise', 'Anticipation',\n",
       "       'Sadness', 'Anticipation', 'Joy', 'Anger', 'Fear', 'Anger',\n",
       "       'Anticipation', 'Anticipation', 'Fear', 'Anger', 'Sadness',\n",
       "       'Disgust', 'Surprise', 'Anger', 'Disgust', 'Trust', 'Anticipation',\n",
       "       'Sadness', 'Sadness', 'Anticipation', 'Anticipation', 'Anger',\n",
       "       'Anticipation', 'Anger', 'Trust', 'Joy', 'Sadness', 'Anger',\n",
       "       'Fear', 'Anger', 'Surprise', 'Anger', 'Anger', 'Anger', 'Fear',\n",
       "       'Trust', 'Sadness', 'Sadness', 'Anger', 'Sadness', 'Anticipation',\n",
       "       'Fear', 'Joy', 'Surprise', 'Trust', 'Joy', 'Disgust', 'Anger',\n",
       "       'Joy', 'Anticipation', 'Anger', 'Anger', 'Anger', 'Anger', 'Fear',\n",
       "       'Surprise', 'Anger', 'Fear', 'Fear', 'Anticipation', 'Surprise',\n",
       "       'Anger', 'Anticipation', 'Disgust', 'Surprise', 'Trust', 'Fear',\n",
       "       'Fear', 'Surprise', 'Anticipation', 'Anger', 'Anger', 'Surprise',\n",
       "       'Joy', 'Anticipation', 'Anger', 'Trust', 'Trust', 'Joy', 'Trust',\n",
       "       'Anger', 'Sadness', 'Trust', 'Joy', 'Anger', 'Anticipation',\n",
       "       'Sadness', 'Trust', 'Fear', 'Anticipation', 'Sadness', 'Disgust',\n",
       "       'Joy', 'Anger', 'Anticipation', 'Anger', 'Anger', 'Sadness',\n",
       "       'Anger', 'Joy', 'Anger', 'Anger', 'Anticipation', 'Disgust', 'Joy',\n",
       "       'Anger', 'Joy', 'Anger', 'Anger', 'Anger', 'Surprise', 'Fear',\n",
       "       'Sadness', 'Surprise', 'Anticipation', 'Anger', 'Disgust', 'Trust',\n",
       "       'Trust', 'Anger', 'Anger', 'Anticipation', 'Anger', 'Anger',\n",
       "       'Anger', 'Anticipation', 'Disgust', 'Joy', 'Anger', 'Surprise',\n",
       "       'Joy', 'Fear', 'Anticipation', 'Joy', 'Anger', 'Joy', 'Surprise',\n",
       "       'Anticipation', 'Anger', 'Disgust', 'Anger', 'Trust', 'Anger',\n",
       "       'Surprise', 'Surprise', 'Surprise', 'Surprise', 'Joy', 'Anger',\n",
       "       'Anger', 'Anticipation', 'Fear', 'Joy', 'Anticipation', 'Disgust',\n",
       "       'Anticipation'], dtype=object)"
      ]
     },
     "execution_count": 136,
     "metadata": {},
     "output_type": "execute_result"
    }
   ],
   "source": [
    "y_pred_for_DecisionTreeClassifier"
   ]
  },
  {
   "cell_type": "code",
   "execution_count": 137,
   "id": "4452363d",
   "metadata": {},
   "outputs": [
    {
     "data": {
      "text/plain": [
       "array(['Anger', 'Anticipation', 'Disgust', 'Fear', 'Joy', 'Sadness',\n",
       "       'Surprise', 'Trust'], dtype=object)"
      ]
     },
     "execution_count": 137,
     "metadata": {},
     "output_type": "execute_result"
    }
   ],
   "source": [
    "DecisionTreeClassifier_Model.classes_"
   ]
  },
  {
   "cell_type": "markdown",
   "id": "f5352bcb",
   "metadata": {},
   "source": [
    "## 4.6(b) Model Evaluation  "
   ]
  },
  {
   "cell_type": "code",
   "execution_count": 138,
   "id": "c7f55c83",
   "metadata": {},
   "outputs": [
    {
     "name": "stdout",
     "output_type": "stream",
     "text": [
      "              precision    recall  f1-score   support\n",
      "\n",
      "       Anger       0.33      0.53      0.41       211\n",
      "Anticipation       0.24      0.28      0.26       170\n",
      "     Disgust       0.14      0.09      0.11        77\n",
      "        Fear       0.30      0.21      0.25       104\n",
      "         Joy       0.38      0.35      0.37        97\n",
      "     Sadness       0.28      0.23      0.25        87\n",
      "    Surprise       0.24      0.20      0.22        96\n",
      "       Trust       0.33      0.23      0.28       158\n",
      "\n",
      "    accuracy                           0.30      1000\n",
      "   macro avg       0.28      0.26      0.27      1000\n",
      "weighted avg       0.29      0.30      0.29      1000\n",
      "\n"
     ]
    }
   ],
   "source": [
    "print(classification_report(dev['emotion'], y_pred_for_DecisionTreeClassifier))"
   ]
  },
  {
   "cell_type": "code",
   "execution_count": 139,
   "id": "12db4797",
   "metadata": {},
   "outputs": [
    {
     "data": {
      "text/plain": [
       "0.277"
      ]
     },
     "execution_count": 139,
     "metadata": {},
     "output_type": "execute_result"
    }
   ],
   "source": [
    "\n",
    "from sklearn.neighbors import KNeighborsClassifier\n",
    "modelknn = KNeighborsClassifier(n_neighbors=5, weights='distance', algorithm='brute', leaf_size=30, p=2,\n",
    "                                         metric='cosine', metric_params=None, n_jobs=1)\n",
    "modelknn.fit(x_train,y_train)\n",
    "modelknn.score(X_test, y_test)"
   ]
  },
  {
   "cell_type": "code",
   "execution_count": 140,
   "id": "081dcc17",
   "metadata": {},
   "outputs": [],
   "source": [
    "y_pred_for_knn = modelknn.predict(vect)"
   ]
  },
  {
   "cell_type": "code",
   "execution_count": 141,
   "id": "d0eac1c3",
   "metadata": {},
   "outputs": [
    {
     "name": "stdout",
     "output_type": "stream",
     "text": [
      "              precision    recall  f1-score   support\n",
      "\n",
      "       Anger       0.32      0.44      0.37       211\n",
      "Anticipation       0.25      0.31      0.27       170\n",
      "     Disgust       0.11      0.05      0.07        77\n",
      "        Fear       0.17      0.15      0.16       104\n",
      "         Joy       0.26      0.33      0.29        97\n",
      "     Sadness       0.23      0.17      0.20        87\n",
      "    Surprise       0.28      0.20      0.23        96\n",
      "       Trust       0.25      0.18      0.21       158\n",
      "\n",
      "    accuracy                           0.26      1000\n",
      "   macro avg       0.23      0.23      0.23      1000\n",
      "weighted avg       0.25      0.26      0.25      1000\n",
      "\n"
     ]
    }
   ],
   "source": [
    "print(classification_report(dev['emotion'], y_pred_for_knn))"
   ]
  },
  {
   "cell_type": "code",
   "execution_count": null,
   "id": "82e87da1",
   "metadata": {},
   "outputs": [],
   "source": []
  },
  {
   "cell_type": "code",
   "execution_count": null,
   "id": "26ddf54d",
   "metadata": {},
   "outputs": [],
   "source": []
  },
  {
   "cell_type": "code",
   "execution_count": null,
   "id": "71438b0a",
   "metadata": {},
   "outputs": [],
   "source": []
  },
  {
   "cell_type": "code",
   "execution_count": null,
   "id": "aed44d95",
   "metadata": {},
   "outputs": [],
   "source": []
  },
  {
   "cell_type": "markdown",
   "id": "4cdc20db",
   "metadata": {},
   "source": [
    "# tfidf"
   ]
  },
  {
   "cell_type": "code",
   "execution_count": 196,
   "id": "4695523d",
   "metadata": {},
   "outputs": [],
   "source": [
    "vect = TfidfVectorizer(sublinear_tf=True, min_df=5,\n",
    "                        ngram_range=(1, 2), \n",
    "                        stop_words='english')\n",
    "X_vect = vect.fit_transform(Xfeatures)"
   ]
  },
  {
   "cell_type": "code",
   "execution_count": 197,
   "id": "8d3c4654",
   "metadata": {},
   "outputs": [
    {
     "data": {
      "text/plain": [
       "0.339"
      ]
     },
     "execution_count": 197,
     "metadata": {},
     "output_type": "execute_result"
    }
   ],
   "source": [
    "X_train,X_test,y_train,y_test = train_test_split(X_vect,ylabels,test_size=0.0714,random_state=42)\n",
    "nv_model = MultinomialNB()\n",
    "nv_model.fit(X_train, y_train)\n",
    "\n",
    "nv_model.score(X_test, y_test)"
   ]
  },
  {
   "cell_type": "code",
   "execution_count": 198,
   "id": "c729c8c6",
   "metadata": {},
   "outputs": [
    {
     "data": {
      "text/plain": [
       "0.341"
      ]
     },
     "execution_count": 198,
     "metadata": {},
     "output_type": "execute_result"
    }
   ],
   "source": [
    "lr_model = LogisticRegression()\n",
    "lr_model.fit(X_train, y_train)\n",
    "\n",
    "lr_model.score(X_test, y_test)"
   ]
  },
  {
   "cell_type": "code",
   "execution_count": 199,
   "id": "7a97aed4",
   "metadata": {},
   "outputs": [
    {
     "data": {
      "text/plain": [
       "0.314"
      ]
     },
     "execution_count": 199,
     "metadata": {},
     "output_type": "execute_result"
    }
   ],
   "source": [
    "\n",
    "\n",
    "l_SVC_model = LinearSVC()\n",
    "l_SVC_model.fit(X_train, y_train)\n",
    "\n",
    "l_SVC_model.score(X_test, y_test)"
   ]
  },
  {
   "cell_type": "code",
   "execution_count": 200,
   "id": "96723e88",
   "metadata": {},
   "outputs": [
    {
     "data": {
      "text/plain": [
       "0.322"
      ]
     },
     "execution_count": 200,
     "metadata": {},
     "output_type": "execute_result"
    }
   ],
   "source": [
    "#RandomForestClassifier\n",
    "random_forest_model = RandomForestClassifier()\n",
    "random_forest_model.fit(X_train, y_train)\n",
    "\n",
    "random_forest_model.score(X_test, y_test)"
   ]
  },
  {
   "cell_type": "code",
   "execution_count": 202,
   "id": "900e8f19",
   "metadata": {},
   "outputs": [
    {
     "data": {
      "text/plain": [
       "0.276"
      ]
     },
     "execution_count": 202,
     "metadata": {},
     "output_type": "execute_result"
    }
   ],
   "source": [
    "DecisionTreeClassifier\n",
    "#random_forest_model = DecisionTreeClassifier(criterion='entropy', max_depth = 2, min_impurity_decrease=0.02)\n",
    "DecisionTree_model=DecisionTreeClassifier()\n",
    "DecisionTree_model.fit(X_train, y_train)\n",
    "\n",
    "DecisionTree_model.score(X_test, y_test)\n"
   ]
  },
  {
   "cell_type": "code",
   "execution_count": 187,
   "id": "b50ccfff",
   "metadata": {},
   "outputs": [],
   "source": [
    "Xfeatures = train['Cleaned Documents']\n",
    "y = train['emotion']\n",
    "cv = CountVectorizer()\n",
    "X = cv.fit_transform(Xfeatures)\n",
    "X_train1, X_test, y_train, y_test = train_test_split(X, y, \n",
    "                                                    test_size=0.10,\n",
    "                                                    random_state = 42)"
   ]
  },
  {
   "cell_type": "code",
   "execution_count": 189,
   "id": "eafdad1e",
   "metadata": {},
   "outputs": [],
   "source": [
    "models = [\n",
    "    RandomForestClassifier(n_estimators=100, max_depth=5, random_state=42),\n",
    "    LinearSVC(),\n",
    "    MultinomialNB(),\n",
    "    LogisticRegression(random_state=42),\n",
    "    DecisionTreeClassifier(),\n",
    "    SVC(),\n",
    "    MLPClassifier(random_state = 42),\n",
    "    KNeighborsClassifier(n_neighbors=5, weights='distance', algorithm='brute', leaf_size=30, p=2,\n",
    "                                         metric='cosine', metric_params=None, n_jobs=1)\n",
    "    \n",
    "]"
   ]
  },
  {
   "cell_type": "code",
   "execution_count": 190,
   "id": "b86da397",
   "metadata": {},
   "outputs": [],
   "source": [
    "CV = 5\n",
    "cv_df = pd.DataFrame(index=range(CV * len(models)))"
   ]
  },
  {
   "cell_type": "code",
   "execution_count": 193,
   "id": "d779ef1d",
   "metadata": {},
   "outputs": [],
   "source": [
    "features = cv.fit_transform(Xfeatures).toarray()\n",
    "labels =train['emotion']\n",
    "\n",
    "entries = [] # it takes 15-20 min to run\n",
    "for model in models:\n",
    "  model_name = model.__class__.__name__\n",
    "  accuracies = cross_val_score(model, features, labels, scoring='accuracy', cv=CV)\n",
    "  for fold_idx, accuracy in enumerate(accuracies):\n",
    "    entries.append((model_name, fold_idx, accuracy))\n",
    "cv_df = pd.DataFrame(entries, columns=['model_name', 'fold_idx', 'accuracy'])"
   ]
  },
  {
   "cell_type": "code",
   "execution_count": 194,
   "id": "63ccce36",
   "metadata": {},
   "outputs": [
    {
     "data": {
      "text/html": [
       "<div>\n",
       "<style scoped>\n",
       "    .dataframe tbody tr th:only-of-type {\n",
       "        vertical-align: middle;\n",
       "    }\n",
       "\n",
       "    .dataframe tbody tr th {\n",
       "        vertical-align: top;\n",
       "    }\n",
       "\n",
       "    .dataframe thead th {\n",
       "        text-align: right;\n",
       "    }\n",
       "</style>\n",
       "<table border=\"1\" class=\"dataframe\">\n",
       "  <thead>\n",
       "    <tr style=\"text-align: right;\">\n",
       "      <th></th>\n",
       "      <th>Mean Accuracy</th>\n",
       "      <th>Standard deviation</th>\n",
       "    </tr>\n",
       "    <tr>\n",
       "      <th>model_name</th>\n",
       "      <th></th>\n",
       "      <th></th>\n",
       "    </tr>\n",
       "  </thead>\n",
       "  <tbody>\n",
       "    <tr>\n",
       "      <th>DecisionTreeClassifier</th>\n",
       "      <td>0.284643</td>\n",
       "      <td>0.001263</td>\n",
       "    </tr>\n",
       "    <tr>\n",
       "      <th>KNeighborsClassifier</th>\n",
       "      <td>0.275429</td>\n",
       "      <td>0.007781</td>\n",
       "    </tr>\n",
       "    <tr>\n",
       "      <th>LinearSVC</th>\n",
       "      <td>0.332929</td>\n",
       "      <td>0.007351</td>\n",
       "    </tr>\n",
       "    <tr>\n",
       "      <th>LogisticRegression</th>\n",
       "      <td>0.343929</td>\n",
       "      <td>0.006967</td>\n",
       "    </tr>\n",
       "    <tr>\n",
       "      <th>MLPClassifier</th>\n",
       "      <td>0.295929</td>\n",
       "      <td>0.001966</td>\n",
       "    </tr>\n",
       "    <tr>\n",
       "      <th>MultinomialNB</th>\n",
       "      <td>0.329786</td>\n",
       "      <td>0.006501</td>\n",
       "    </tr>\n",
       "    <tr>\n",
       "      <th>RandomForestClassifier</th>\n",
       "      <td>0.214357</td>\n",
       "      <td>0.000160</td>\n",
       "    </tr>\n",
       "    <tr>\n",
       "      <th>SVC</th>\n",
       "      <td>0.333071</td>\n",
       "      <td>0.010204</td>\n",
       "    </tr>\n",
       "  </tbody>\n",
       "</table>\n",
       "</div>"
      ],
      "text/plain": [
       "                        Mean Accuracy  Standard deviation\n",
       "model_name                                               \n",
       "DecisionTreeClassifier       0.284643            0.001263\n",
       "KNeighborsClassifier         0.275429            0.007781\n",
       "LinearSVC                    0.332929            0.007351\n",
       "LogisticRegression           0.343929            0.006967\n",
       "MLPClassifier                0.295929            0.001966\n",
       "MultinomialNB                0.329786            0.006501\n",
       "RandomForestClassifier       0.214357            0.000160\n",
       "SVC                          0.333071            0.010204"
      ]
     },
     "execution_count": 194,
     "metadata": {},
     "output_type": "execute_result"
    }
   ],
   "source": [
    "mean_accuracy = cv_df.groupby('model_name').accuracy.mean()\n",
    "std_accuracy = cv_df.groupby('model_name').accuracy.std()\n",
    "\n",
    "acc = pd.concat([mean_accuracy, std_accuracy], axis= 1, \n",
    "          ignore_index=True)\n",
    "acc.columns = ['Mean Accuracy', 'Standard deviation']\n",
    "acc"
   ]
  },
  {
   "cell_type": "code",
   "execution_count": null,
   "id": "8e9a6d6f",
   "metadata": {},
   "outputs": [],
   "source": []
  },
  {
   "cell_type": "code",
   "execution_count": 96,
   "id": "e65ecd57",
   "metadata": {},
   "outputs": [],
   "source": [
    "test = pd.read_table(\"test_set.txt\")\n",
    "test_copy = test"
   ]
  },
  {
   "cell_type": "code",
   "execution_count": 97,
   "id": "6595f91b",
   "metadata": {},
   "outputs": [
    {
     "data": {
      "text/html": [
       "<div>\n",
       "<style scoped>\n",
       "    .dataframe tbody tr th:only-of-type {\n",
       "        vertical-align: middle;\n",
       "    }\n",
       "\n",
       "    .dataframe tbody tr th {\n",
       "        vertical-align: top;\n",
       "    }\n",
       "\n",
       "    .dataframe thead th {\n",
       "        text-align: right;\n",
       "    }\n",
       "</style>\n",
       "<table border=\"1\" class=\"dataframe\">\n",
       "  <thead>\n",
       "    <tr style=\"text-align: right;\">\n",
       "      <th></th>\n",
       "      <th>sentence</th>\n",
       "    </tr>\n",
       "  </thead>\n",
       "  <tbody>\n",
       "    <tr>\n",
       "      <th>0</th>\n",
       "      <td>Come , let's go get that automobile .</td>\n",
       "    </tr>\n",
       "    <tr>\n",
       "      <th>1</th>\n",
       "      <td>Well , some other time , then ?</td>\n",
       "    </tr>\n",
       "    <tr>\n",
       "      <th>2</th>\n",
       "      <td>He's in trouble . Boy ?</td>\n",
       "    </tr>\n",
       "    <tr>\n",
       "      <th>3</th>\n",
       "      <td>Criminal gang unit to take control .</td>\n",
       "    </tr>\n",
       "    <tr>\n",
       "      <th>4</th>\n",
       "      <td>By Molto . No discussion . Interview .</td>\n",
       "    </tr>\n",
       "  </tbody>\n",
       "</table>\n",
       "</div>"
      ],
      "text/plain": [
       "                                 sentence\n",
       "0   Come , let's go get that automobile .\n",
       "1         Well , some other time , then ?\n",
       "2                 He's in trouble . Boy ?\n",
       "3    Criminal gang unit to take control .\n",
       "4  By Molto . No discussion . Interview ."
      ]
     },
     "execution_count": 97,
     "metadata": {},
     "output_type": "execute_result"
    }
   ],
   "source": [
    "test_copy.head()"
   ]
  },
  {
   "cell_type": "code",
   "execution_count": 98,
   "id": "5298e02f",
   "metadata": {},
   "outputs": [
    {
     "data": {
      "application/vnd.jupyter.widget-view+json": {
       "model_id": "4de261ff14de452e9a5aab83e5a399c2",
       "version_major": 2,
       "version_minor": 0
      },
      "text/plain": [
       "  0%|          | 0/2000 [00:00<?, ?it/s]"
      ]
     },
     "metadata": {},
     "output_type": "display_data"
    }
   ],
   "source": [
    "cleaned_documents = preprocessing(test_copy)"
   ]
  },
  {
   "cell_type": "code",
   "execution_count": 99,
   "id": "9c80947d",
   "metadata": {},
   "outputs": [],
   "source": [
    "test_copy['Cleaned Documents'] = cleaned_documents"
   ]
  },
  {
   "cell_type": "code",
   "execution_count": 100,
   "id": "c3b267e7",
   "metadata": {},
   "outputs": [
    {
     "data": {
      "text/html": [
       "<div>\n",
       "<style scoped>\n",
       "    .dataframe tbody tr th:only-of-type {\n",
       "        vertical-align: middle;\n",
       "    }\n",
       "\n",
       "    .dataframe tbody tr th {\n",
       "        vertical-align: top;\n",
       "    }\n",
       "\n",
       "    .dataframe thead th {\n",
       "        text-align: right;\n",
       "    }\n",
       "</style>\n",
       "<table border=\"1\" class=\"dataframe\">\n",
       "  <thead>\n",
       "    <tr style=\"text-align: right;\">\n",
       "      <th></th>\n",
       "      <th>sentence</th>\n",
       "      <th>Cleaned Documents</th>\n",
       "    </tr>\n",
       "  </thead>\n",
       "  <tbody>\n",
       "    <tr>\n",
       "      <th>0</th>\n",
       "      <td>Come , let's go get that automobile .</td>\n",
       "      <td>come let go get automobile</td>\n",
       "    </tr>\n",
       "    <tr>\n",
       "      <th>1</th>\n",
       "      <td>Well , some other time , then ?</td>\n",
       "      <td>well time</td>\n",
       "    </tr>\n",
       "    <tr>\n",
       "      <th>2</th>\n",
       "      <td>He's in trouble . Boy ?</td>\n",
       "      <td>trouble boy</td>\n",
       "    </tr>\n",
       "    <tr>\n",
       "      <th>3</th>\n",
       "      <td>Criminal gang unit to take control .</td>\n",
       "      <td>criminal gang unit take control</td>\n",
       "    </tr>\n",
       "    <tr>\n",
       "      <th>4</th>\n",
       "      <td>By Molto . No discussion . Interview .</td>\n",
       "      <td>molto discussion interview</td>\n",
       "    </tr>\n",
       "  </tbody>\n",
       "</table>\n",
       "</div>"
      ],
      "text/plain": [
       "                                 sentence                Cleaned Documents\n",
       "0   Come , let's go get that automobile .       come let go get automobile\n",
       "1         Well , some other time , then ?                        well time\n",
       "2                 He's in trouble . Boy ?                      trouble boy\n",
       "3    Criminal gang unit to take control .  criminal gang unit take control\n",
       "4  By Molto . No discussion . Interview .       molto discussion interview"
      ]
     },
     "execution_count": 100,
     "metadata": {},
     "output_type": "execute_result"
    }
   ],
   "source": [
    "test_copy.head()"
   ]
  },
  {
   "cell_type": "code",
   "execution_count": 101,
   "id": "84791a3b",
   "metadata": {},
   "outputs": [],
   "source": [
    "test_data = test_copy['Cleaned Documents']"
   ]
  },
  {
   "cell_type": "code",
   "execution_count": 102,
   "id": "149e598f",
   "metadata": {},
   "outputs": [],
   "source": [
    "pred_emotion = pipe_lr.predict(test_data)"
   ]
  },
  {
   "cell_type": "code",
   "execution_count": 103,
   "id": "fcd179c0",
   "metadata": {},
   "outputs": [],
   "source": [
    "test['pred emotion'] = pred_emotion"
   ]
  },
  {
   "cell_type": "code",
   "execution_count": 104,
   "id": "b3cc96bd",
   "metadata": {},
   "outputs": [],
   "source": [
    "#test_copy.head()\n",
    "test_copy.drop('Cleaned Documents', axis = 1, inplace = True)\n"
   ]
  },
  {
   "cell_type": "code",
   "execution_count": 105,
   "id": "c60da46d",
   "metadata": {},
   "outputs": [
    {
     "data": {
      "text/html": [
       "<div>\n",
       "<style scoped>\n",
       "    .dataframe tbody tr th:only-of-type {\n",
       "        vertical-align: middle;\n",
       "    }\n",
       "\n",
       "    .dataframe tbody tr th {\n",
       "        vertical-align: top;\n",
       "    }\n",
       "\n",
       "    .dataframe thead th {\n",
       "        text-align: right;\n",
       "    }\n",
       "</style>\n",
       "<table border=\"1\" class=\"dataframe\">\n",
       "  <thead>\n",
       "    <tr style=\"text-align: right;\">\n",
       "      <th></th>\n",
       "      <th>sentence</th>\n",
       "      <th>pred emotion</th>\n",
       "    </tr>\n",
       "  </thead>\n",
       "  <tbody>\n",
       "    <tr>\n",
       "      <th>0</th>\n",
       "      <td>Come , let's go get that automobile .</td>\n",
       "      <td>2</td>\n",
       "    </tr>\n",
       "    <tr>\n",
       "      <th>1</th>\n",
       "      <td>Well , some other time , then ?</td>\n",
       "      <td>1</td>\n",
       "    </tr>\n",
       "    <tr>\n",
       "      <th>2</th>\n",
       "      <td>He's in trouble . Boy ?</td>\n",
       "      <td>1</td>\n",
       "    </tr>\n",
       "    <tr>\n",
       "      <th>3</th>\n",
       "      <td>Criminal gang unit to take control .</td>\n",
       "      <td>8</td>\n",
       "    </tr>\n",
       "    <tr>\n",
       "      <th>4</th>\n",
       "      <td>By Molto . No discussion . Interview .</td>\n",
       "      <td>1</td>\n",
       "    </tr>\n",
       "    <tr>\n",
       "      <th>...</th>\n",
       "      <td>...</td>\n",
       "      <td>...</td>\n",
       "    </tr>\n",
       "    <tr>\n",
       "      <th>1995</th>\n",
       "      <td>Let's do some good .</td>\n",
       "      <td>8</td>\n",
       "    </tr>\n",
       "    <tr>\n",
       "      <th>1996</th>\n",
       "      <td>Hey , you're looking good .</td>\n",
       "      <td>5</td>\n",
       "    </tr>\n",
       "    <tr>\n",
       "      <th>1997</th>\n",
       "      <td>Have they moved the embassy , or are you hijac...</td>\n",
       "      <td>1</td>\n",
       "    </tr>\n",
       "    <tr>\n",
       "      <th>1998</th>\n",
       "      <td>What that !</td>\n",
       "      <td>1</td>\n",
       "    </tr>\n",
       "    <tr>\n",
       "      <th>1999</th>\n",
       "      <td>Imagine interplanetary trade , how exciting th...</td>\n",
       "      <td>8</td>\n",
       "    </tr>\n",
       "  </tbody>\n",
       "</table>\n",
       "<p>2000 rows × 2 columns</p>\n",
       "</div>"
      ],
      "text/plain": [
       "                                               sentence  pred emotion\n",
       "0                 Come , let's go get that automobile .             2\n",
       "1                       Well , some other time , then ?             1\n",
       "2                               He's in trouble . Boy ?             1\n",
       "3                  Criminal gang unit to take control .             8\n",
       "4                By Molto . No discussion . Interview .             1\n",
       "...                                                 ...           ...\n",
       "1995                               Let's do some good .             8\n",
       "1996                        Hey , you're looking good .             5\n",
       "1997  Have they moved the embassy , or are you hijac...             1\n",
       "1998                                        What that !             1\n",
       "1999  Imagine interplanetary trade , how exciting th...             8\n",
       "\n",
       "[2000 rows x 2 columns]"
      ]
     },
     "execution_count": 105,
     "metadata": {},
     "output_type": "execute_result"
    }
   ],
   "source": [
    "test"
   ]
  },
  {
   "cell_type": "code",
   "execution_count": 111,
   "id": "9da8cbea",
   "metadata": {},
   "outputs": [],
   "source": [
    "test_copy.to_csv('test_results.txt', header=['sentence','emotion'], index=None, sep='\\t', mode='a')"
   ]
  },
  {
   "cell_type": "code",
   "execution_count": 107,
   "id": "44e37ff0",
   "metadata": {},
   "outputs": [
    {
     "data": {
      "text/html": [
       "<div>\n",
       "<style scoped>\n",
       "    .dataframe tbody tr th:only-of-type {\n",
       "        vertical-align: middle;\n",
       "    }\n",
       "\n",
       "    .dataframe tbody tr th {\n",
       "        vertical-align: top;\n",
       "    }\n",
       "\n",
       "    .dataframe thead th {\n",
       "        text-align: right;\n",
       "    }\n",
       "</style>\n",
       "<table border=\"1\" class=\"dataframe\">\n",
       "  <thead>\n",
       "    <tr style=\"text-align: right;\">\n",
       "      <th></th>\n",
       "      <th>sentence</th>\n",
       "      <th>emotion</th>\n",
       "      <th>word_count</th>\n",
       "      <th>Cleaned Documents</th>\n",
       "    </tr>\n",
       "  </thead>\n",
       "  <tbody>\n",
       "    <tr>\n",
       "      <th>0</th>\n",
       "      <td>What happens to the gold in our safe ?</td>\n",
       "      <td>4</td>\n",
       "      <td>9</td>\n",
       "      <td>happens gold safe</td>\n",
       "    </tr>\n",
       "    <tr>\n",
       "      <th>1</th>\n",
       "      <td>Natural to get cold feet .</td>\n",
       "      <td>8</td>\n",
       "      <td>6</td>\n",
       "      <td>natural get cold foot</td>\n",
       "    </tr>\n",
       "    <tr>\n",
       "      <th>2</th>\n",
       "      <td>Not very lucky , is he ?</td>\n",
       "      <td>7</td>\n",
       "      <td>7</td>\n",
       "      <td>lucky</td>\n",
       "    </tr>\n",
       "    <tr>\n",
       "      <th>3</th>\n",
       "      <td>I'm just a little anxious to get up there and ...</td>\n",
       "      <td>2</td>\n",
       "      <td>17</td>\n",
       "      <td>little anxious get whoop et as</td>\n",
       "    </tr>\n",
       "    <tr>\n",
       "      <th>4</th>\n",
       "      <td>Did you think we don't know about your affair ...</td>\n",
       "      <td>1</td>\n",
       "      <td>14</td>\n",
       "      <td>think know affair government official</td>\n",
       "    </tr>\n",
       "  </tbody>\n",
       "</table>\n",
       "</div>"
      ],
      "text/plain": [
       "                                            sentence  emotion  word_count  \\\n",
       "0             What happens to the gold in our safe ?        4           9   \n",
       "1                         Natural to get cold feet .        8           6   \n",
       "2                           Not very lucky , is he ?        7           7   \n",
       "3  I'm just a little anxious to get up there and ...        2          17   \n",
       "4  Did you think we don't know about your affair ...        1          14   \n",
       "\n",
       "                       Cleaned Documents  \n",
       "0                      happens gold safe  \n",
       "1                  natural get cold foot  \n",
       "2                                  lucky  \n",
       "3         little anxious get whoop et as  \n",
       "4  think know affair government official  "
      ]
     },
     "execution_count": 107,
     "metadata": {},
     "output_type": "execute_result"
    }
   ],
   "source": [
    "dev.head()"
   ]
  },
  {
   "cell_type": "code",
   "execution_count": 108,
   "id": "25da8717",
   "metadata": {},
   "outputs": [],
   "source": [
    "dev_final = dev[['sentence','emotion']]"
   ]
  },
  {
   "cell_type": "code",
   "execution_count": 109,
   "id": "ecfa8f6d",
   "metadata": {},
   "outputs": [
    {
     "data": {
      "text/html": [
       "<div>\n",
       "<style scoped>\n",
       "    .dataframe tbody tr th:only-of-type {\n",
       "        vertical-align: middle;\n",
       "    }\n",
       "\n",
       "    .dataframe tbody tr th {\n",
       "        vertical-align: top;\n",
       "    }\n",
       "\n",
       "    .dataframe thead th {\n",
       "        text-align: right;\n",
       "    }\n",
       "</style>\n",
       "<table border=\"1\" class=\"dataframe\">\n",
       "  <thead>\n",
       "    <tr style=\"text-align: right;\">\n",
       "      <th></th>\n",
       "      <th>sentence</th>\n",
       "      <th>emotion</th>\n",
       "    </tr>\n",
       "  </thead>\n",
       "  <tbody>\n",
       "    <tr>\n",
       "      <th>0</th>\n",
       "      <td>What happens to the gold in our safe ?</td>\n",
       "      <td>4</td>\n",
       "    </tr>\n",
       "    <tr>\n",
       "      <th>1</th>\n",
       "      <td>Natural to get cold feet .</td>\n",
       "      <td>8</td>\n",
       "    </tr>\n",
       "    <tr>\n",
       "      <th>2</th>\n",
       "      <td>Not very lucky , is he ?</td>\n",
       "      <td>7</td>\n",
       "    </tr>\n",
       "    <tr>\n",
       "      <th>3</th>\n",
       "      <td>I'm just a little anxious to get up there and ...</td>\n",
       "      <td>2</td>\n",
       "    </tr>\n",
       "    <tr>\n",
       "      <th>4</th>\n",
       "      <td>Did you think we don't know about your affair ...</td>\n",
       "      <td>1</td>\n",
       "    </tr>\n",
       "    <tr>\n",
       "      <th>...</th>\n",
       "      <td>...</td>\n",
       "      <td>...</td>\n",
       "    </tr>\n",
       "    <tr>\n",
       "      <th>995</th>\n",
       "      <td>All I ask of you is be careful .</td>\n",
       "      <td>4</td>\n",
       "    </tr>\n",
       "    <tr>\n",
       "      <th>996</th>\n",
       "      <td>You don't like jazz , pal ?</td>\n",
       "      <td>7</td>\n",
       "    </tr>\n",
       "    <tr>\n",
       "      <th>997</th>\n",
       "      <td>Put it on .</td>\n",
       "      <td>1</td>\n",
       "    </tr>\n",
       "    <tr>\n",
       "      <th>998</th>\n",
       "      <td>Can you ever imagine [PERSON] being in a spot ...</td>\n",
       "      <td>7</td>\n",
       "    </tr>\n",
       "    <tr>\n",
       "      <th>999</th>\n",
       "      <td>You think top gun up there will be able to tel...</td>\n",
       "      <td>1</td>\n",
       "    </tr>\n",
       "  </tbody>\n",
       "</table>\n",
       "<p>1000 rows × 2 columns</p>\n",
       "</div>"
      ],
      "text/plain": [
       "                                              sentence  emotion\n",
       "0               What happens to the gold in our safe ?        4\n",
       "1                           Natural to get cold feet .        8\n",
       "2                             Not very lucky , is he ?        7\n",
       "3    I'm just a little anxious to get up there and ...        2\n",
       "4    Did you think we don't know about your affair ...        1\n",
       "..                                                 ...      ...\n",
       "995                   All I ask of you is be careful .        4\n",
       "996                        You don't like jazz , pal ?        7\n",
       "997                                        Put it on .        1\n",
       "998  Can you ever imagine [PERSON] being in a spot ...        7\n",
       "999  You think top gun up there will be able to tel...        1\n",
       "\n",
       "[1000 rows x 2 columns]"
      ]
     },
     "execution_count": 109,
     "metadata": {},
     "output_type": "execute_result"
    }
   ],
   "source": [
    "dev_final"
   ]
  },
  {
   "cell_type": "code",
   "execution_count": 112,
   "id": "78ca3316",
   "metadata": {},
   "outputs": [],
   "source": [
    "dev_final.to_csv('dev_results.txt', header=['sentence','emotion'], index=None, sep='\\t', mode='a')"
   ]
  },
  {
   "cell_type": "code",
   "execution_count": null,
   "id": "609fe87c",
   "metadata": {},
   "outputs": [],
   "source": []
  }
 ],
 "metadata": {
  "kernelspec": {
   "display_name": "Python 3 (ipykernel)",
   "language": "python",
   "name": "python3"
  },
  "language_info": {
   "codemirror_mode": {
    "name": "ipython",
    "version": 3
   },
   "file_extension": ".py",
   "mimetype": "text/x-python",
   "name": "python",
   "nbconvert_exporter": "python",
   "pygments_lexer": "ipython3",
   "version": "3.8.13"
  }
 },
 "nbformat": 4,
 "nbformat_minor": 5
}
